{
 "cells": [
  {
   "cell_type": "markdown",
   "id": "2da678b6",
   "metadata": {},
   "source": [
    "# Steinkauz\n",
    "\n",
    "## Notebook: no_dc_removal\n",
    "\n",
    "See the [Steinkauz repository](https://github.com/bjornrommel/steinkauz) for the code source."
   ]
  },
  {
   "cell_type": "code",
   "execution_count": null,
   "id": "052cda6b",
   "metadata": {},
   "outputs": [],
   "source": [
    "# load project magics\n",
    "try:\n",
    "    %reload_ext steinkauz\n",
    "except ModuleNotFoundError as msg:\n",
    "    print(msg)\n",
    "    print(\"steinkauz not installed?\")"
   ]
  },
  {
   "cell_type": "code",
   "execution_count": null,
   "id": "39b7b3cb",
   "metadata": {},
   "outputs": [],
   "source": [
    "# set up steinkauz\n",
    "%steinkauz --option setup --mainfile no_dc_removal --prefile mypackages --predir ."
   ]
  },
  {
   "cell_type": "code",
   "execution_count": null,
   "id": "cae94484",
   "metadata": {},
   "outputs": [],
   "source": [
    "# import\n",
    "\n",
    "# import Python module\n",
    "import sys\n",
    "import os\n",
    "import numpy as np\n",
    "\n",
    "# import IPython module\n",
    "from IPython import display as disp\n",
    "from IPython.display import Javascript\n",
    "import ipywidgets as ipw\n",
    "from ipywidgets import interact\n",
    "\n",
    "# import user-defined modules\n",
    "import no_dc_removal as dc"
   ]
  },
  {
   "cell_type": "code",
   "execution_count": null,
   "id": "11148692",
   "metadata": {},
   "outputs": [],
   "source": [
    "# Matploblib\n",
    "\n",
    "# define matplotlib in one of the following three alternatives: notebook or inline (preferrably with retina) or ipympl\n",
    "###%matplotlib notebook\n",
    "###%matplotlib inline\n",
    "###from IPython.display import set_matplotlib_formats\n",
    "###set_matplotlib_formats('retina')\n",
    "%matplotlib ipympl\n",
    "\n",
    "# set default parameters\n",
    "import matplotlib as mpl\n",
    "# change to local matplotlibrc and edit the same parameters or set the rcParams below\n",
    "### mpl.matplotlib_fname()                   # print location of matplotlibrc\n",
    "mpl.rcParams['text.usetex'] = True           # use latex\n",
    "### mpl.rcParams['ps.usedistiller'] = None   # 'ghostscript' or 'xpdf', but any difference?\n",
    "mpl.rcParams['font.size'] = 11\n",
    "\n",
    "# set pyplot\n",
    "from matplotlib import pyplot as plt"
   ]
  },
  {
   "cell_type": "code",
   "execution_count": null,
   "id": "0cf2ca32",
   "metadata": {},
   "outputs": [],
   "source": [
    "# input toggle\n",
    "%inputtoggle"
   ]
  },
  {
   "cell_type": "markdown",
   "id": "6c02c138",
   "metadata": {},
   "source": [
    "Set the DPI and magnification of the screen output!"
   ]
  },
  {
   "cell_type": "code",
   "execution_count": null,
   "id": "a83a7aa0",
   "metadata": {},
   "outputs": [],
   "source": [
    "# request DPI\n",
    "dpi_box = ipw.BoundedIntText(value=300, min=1, max=sys.maxsize, step=1, description='DPI')\n",
    "\n",
    "# interact with dpi box\n",
    "@interact(dpi=dpi_box)\n",
    "def dpi_update(**kwargs):\n",
    "    # update dpi\n",
    "    global dpi\n",
    "    dpi = kwargs['dpi']\n",
    "\n",
    "\n",
    "# request magnification\n",
    "mag_box = ipw.BoundedFloatText(description=\"magnification\", value=0.5, step=0.01)\n",
    "\n",
    "# interact with mag box\n",
    "@interact(mag=mag_box)\n",
    "def mag_update(**kwargs):\n",
    "    # update magnification\n",
    "    global mag\n",
    "    mag = kwargs['mag']\n",
    "\n",
    "\n",
    "def button_action(*args):\n",
    "    # do nothing but wake up Jupyter\n",
    "    pass \n",
    "    \n",
    "# click button\n",
    "button =  ipw.Button(description = 'remember', button_style = 'info', tooltip = 'update calculations and graphics')\n",
    "display(button)\n",
    "button.on_click(button_action)"
   ]
  },
  {
   "cell_type": "code",
   "execution_count": null,
   "id": "f724370e",
   "metadata": {
    "scrolled": false
   },
   "outputs": [],
   "source": [
    "%%steinkauz --option notebook --dpi $dpi --mag $mag --texdir title --texfile title VERSION\n",
    "r\"\"\"\n",
    "\\begin{titlepage}\n",
    "    \\title{\\Huge Elements of Seismic Data Processing: \\\\ \\huge No Removing of a DC Component}\n",
    "    \\author{Bj\\\"orn E. Rommel}\n",
    "    \\date{\n",
    "        \\begin{tabular}{cc}\n",
    "            version: VERSION\n",
    "        \\end{tabular}}\n",
    "    \\end{titlepage}\n",
    "\\maketitle\n",
    "\"\"\""
   ]
  },
  {
   "cell_type": "code",
   "execution_count": null,
   "id": "844725d8",
   "metadata": {},
   "outputs": [],
   "source": [
    "%steinkauz --dpi $dpi --mag $mag --texdir abstract --texfile abstract"
   ]
  },
  {
   "cell_type": "code",
   "execution_count": null,
   "id": "614b3665",
   "metadata": {},
   "outputs": [],
   "source": [
    "%steinkauz --dpi $dpi --mag $mag --texdir introduction --texfile introduction"
   ]
  },
  {
   "cell_type": "code",
   "execution_count": null,
   "id": "a78ab048",
   "metadata": {
    "scrolled": false
   },
   "outputs": [],
   "source": [
    "%steinkauz --dpi $dpi --mag $mag --texdir data --texfile data"
   ]
  },
  {
   "cell_type": "code",
   "execution_count": null,
   "id": "a37172fe",
   "metadata": {
    "scrolled": false
   },
   "outputs": [],
   "source": [
    "%steinkauz --dpi $dpi --mag $mag --texdir example --texfile example"
   ]
  },
  {
   "cell_type": "code",
   "execution_count": null,
   "id": "358ce295",
   "metadata": {},
   "outputs": [],
   "source": [
    "# prepare input boxes for calculating a dataset mean\n",
    "\n",
    "# histogram\n",
    "COUNT = 9   # default number of equally-spaced bins in histogram (changeable, but > 0)\n",
    "\n",
    "# sample numbers for comparison only (define whatever and replace dat_box.value or rec_box.value)\n",
    "SAMPSEC = 250                # number of samples per second: e.g., 250 for 4ms sampling rate\n",
    "NSREC = SAMPSEC * 8          # number of samples per 8s at 4ms sampling rate\n",
    "NSMIN = SAMPSEC * 60         # number of samples per minute at 4ms sampling rate\n",
    "NSHOUR = SAMPSEC * 60 * 60   # number of samples per hour at 4ms sampling rate\n",
    "NSDAY = NSHOUR * 24          # number of samples per day at 4ms sampling rate\n",
    "NS180DAY = NSDAY * 180       # number of samples per 180 days at 4ms sampling rate\n",
    "\n",
    "# request number of data samples\n",
    "dat_box = ipw.BoundedIntText(description=\"data sample number\", min=2, max=sys.maxsize, value=NSHOUR)\n",
    "\n",
    "# request number of record samples\n",
    "rec_box = ipw.BoundedIntText(description=\"record sample sample\", min=2, max=dat_box.value, value=NSREC)\n",
    "\n",
    "# request number of bins in histogram\n",
    "hist_box = ipw.BoundedIntText(description=\"bin number\", min=1, value=COUNT)"
   ]
  },
  {
   "cell_type": "code",
   "execution_count": null,
   "id": "36629ac0",
   "metadata": {},
   "outputs": [],
   "source": [
    "# set up the input boxes and buttons\n",
    "\n",
    "# data box\n",
    "display(dat_box)\n",
    "\n",
    "# record box\n",
    "display(rec_box)\n",
    "\n",
    "# histogram box\n",
    "display(hist_box)\n",
    "\n",
    "# boxes above are replicated below as they are sync'ed across cells and, thus, trigger actions in all those cells they\n",
    "# are replicated\n",
    "\n",
    "# request an update\n",
    "button =  ipw.Button(description = 'update', button_style = 'info', tooltip = 'update calculations and graphics')\n",
    "display(button)\n",
    "button.on_click(button_action)\n",
    "\n",
    "# update record box upon a change in data box:\n",
    "# enforce max record samples <= data samples\n",
    "def update_rec_box(*args):\n",
    "    ### args[0]['new'] = dat_box.value\n",
    "    global rec_box\n",
    "    rec_box.max = dat_box.value\n",
    "dat_box.observe(update_rec_box, 'value')"
   ]
  },
  {
   "cell_type": "code",
   "execution_count": null,
   "id": "fd111245",
   "metadata": {
    "scrolled": false
   },
   "outputs": [],
   "source": [
    "# generate, calibrate and display (noise) data\n",
    "@interact(ns_dat=dat_box)\n",
    "def update_data(**kwargs):\n",
    "    # generate data\n",
    "    global cal_data\n",
    "    cal_data = dc.dataset(ns_dat=kwargs['ns_dat'])\n",
    "    # prepare and run LaTeX\n",
    "    %steinkauz --dpi $dpi --mag $mag --texdir dataset --texfile dataset DATAMEAN"
   ]
  },
  {
   "cell_type": "code",
   "execution_count": null,
   "id": "be7d07c2",
   "metadata": {},
   "outputs": [],
   "source": [
    "# update and display record means \n",
    "@interact(ns_dat=dat_box, ns_rec=rec_box)\n",
    "def update_record(**kwargs):\n",
    "    # compute records means \n",
    "    global rec_means, rec_std\n",
    "    rec_means, rec_std = dc.record(data=cal_data, ns_dat=kwargs['ns_dat'], ns_rec=kwargs['ns_rec']) \n",
    "    # prepare and run LaTeX\n",
    "    %steinkauz --dpi $dpi --mag $mag --texdir record --texfile caption --option notebook RECORDSTDRECORD RECORDSAMPLE RECORDSTDTHEORY"
   ]
  },
  {
   "cell_type": "code",
   "execution_count": null,
   "id": "01aff6b5",
   "metadata": {},
   "outputs": [],
   "source": [
    "# update histogram\n",
    "@interact(ns_dat=dat_box, ns_rec=rec_box, ns_hist=hist_box)\n",
    "def update_histogram(*args, **kwargs):\n",
    "    # update and display histogram of record means\n",
    "    dc.histogram(rec_means=rec_means, rec_std=rec_std, ns_hist=kwargs['ns_hist'])\n",
    "    # prepare and run LaTeX on file\n",
    "    %steinkauz --dpi $dpi --mag $mag --texdir histogram --texfile caption --option notebook RECORDSTDRECORD"
   ]
  },
  {
   "cell_type": "code",
   "execution_count": null,
   "id": "cead9123",
   "metadata": {},
   "outputs": [],
   "source": [
    "%steinkauz --dpi $dpi --mag $mag --texdir conclusions --texfile conclusions"
   ]
  },
  {
   "cell_type": "code",
   "execution_count": null,
   "id": "1dfac930",
   "metadata": {
    "scrolled": false
   },
   "outputs": [],
   "source": [
    "# prepare final pdf file\n",
    "%steinkauz --option printout --texdir . --texfile no_dc_removal"
   ]
  },
  {
   "cell_type": "code",
   "execution_count": null,
   "id": "a8efbbc6",
   "metadata": {},
   "outputs": [],
   "source": [
    "# clean up\n",
    "%steinkauz --option clean"
   ]
  },
  {
   "cell_type": "code",
   "execution_count": null,
   "id": "9d830230",
   "metadata": {},
   "outputs": [],
   "source": [
    "# input toggle\n",
    "%inputtoggle"
   ]
  }
 ],
 "metadata": {
  "kernelspec": {
   "display_name": "Python 3 (ipykernel)",
   "language": "python",
   "name": "python3"
  },
  "language_info": {
   "codemirror_mode": {
    "name": "ipython",
    "version": 3
   },
   "file_extension": ".py",
   "mimetype": "text/x-python",
   "name": "python",
   "nbconvert_exporter": "python",
   "pygments_lexer": "ipython3",
   "version": "3.9.7"
  },
  "latex_envs": {
   "LaTeX_envs_menu_present": true,
   "autoclose": false,
   "autocomplete": true,
   "bibliofile": "biblio.bib",
   "cite_by": "apalike",
   "current_citInitial": 1,
   "eqLabelWithNumbers": true,
   "eqNumInitial": 1,
   "hotkeys": {
    "equation": "Ctrl-E",
    "itemize": "Ctrl-I"
   },
   "labels_anchors": false,
   "latex_user_defs": false,
   "report_style_numbering": false,
   "user_envs_cfg": false
  },
  "toc-showtags": true
 },
 "nbformat": 4,
 "nbformat_minor": 5
}
