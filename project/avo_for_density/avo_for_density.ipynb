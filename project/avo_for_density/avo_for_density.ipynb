{
 "cells": [
  {
   "cell_type": "markdown",
   "id": "6f6b2afc",
   "metadata": {},
   "source": [
    "# Steinkauz\n",
    "\n",
    "## Notebook: avo_for_density\n",
    "\n",
    "See the [Steinkauz repository](https://github.com/bjornrommel/steinkauz/avo_for_density) for the code source."
   ]
  },
  {
   "cell_type": "code",
   "execution_count": null,
   "id": "67b7ff9f",
   "metadata": {
    "scrolled": false
   },
   "outputs": [],
   "source": [
    "# Steinkauz\n",
    "\n",
    "# load module\n",
    "%reload_ext steinkauz\n",
    "\n",
    "# set up LaTeX backend\n",
    "%steinkauz --option setup --prefile mypackages.tex --predir .\n",
    "\n",
    "# toggle input\n",
    "###%inputtoggle"
   ]
  },
  {
   "cell_type": "code",
   "execution_count": null,
   "id": "cae94484",
   "metadata": {},
   "outputs": [],
   "source": [
    "# Python, IPython\n",
    "\n",
    "# import Python modules\n",
    "import sys\n",
    "import numpy as np\n",
    "\n",
    "# import IPython modules\n",
    "from IPython import display as dsp\n",
    "import ipywidgets as ipw\n",
    "from ipywidgets import interact, interactive, interactive_output"
   ]
  },
  {
   "cell_type": "code",
   "execution_count": null,
   "id": "ed7afd53",
   "metadata": {},
   "outputs": [],
   "source": [
    "# Matplotlib\n",
    "\n",
    "# set default parameters \n",
    "import matplotlib as mpl\n",
    "mpl.rcParams['font.size'] = 11             # same font size as the LaTeX document\n",
    "mpl.rcParams['text.usetex'] = True         # use latex throughout\n",
    "mpl.rcParams['ps.usedistiller'] = 'xpdf'   # for production quality\n",
    "\n",
    "# set API\n",
    "from matplotlib import pyplot as plt       # use Matlab-like API\n",
    "\n",
    "# set backend (ipympl integrates interactive features into Jupyter)\n",
    "%matplotlib ipympl "
   ]
  },
  {
   "cell_type": "code",
   "execution_count": null,
   "id": "38e2c4ac",
   "metadata": {},
   "outputs": [],
   "source": [
    "# User-Defined Python \n",
    "\n",
    "# import notebook-specific functions\n",
    "import avo_for_density as afd\n",
    "import config as cfg"
   ]
  },
  {
   "cell_type": "markdown",
   "id": "996e7e3b",
   "metadata": {},
   "source": [
    "# <center> Elements of Seismic Data Processing </center>\n",
    "\n",
    "# <center> AVO Inversion for Density </center>\n",
    "\n",
    "# <center> Björn E. Rommel </center>"
   ]
  },
  {
   "cell_type": "code",
   "execution_count": null,
   "id": "f724370e",
   "metadata": {
    "scrolled": false
   },
   "outputs": [],
   "source": [
    "###%steinkauz --option notebook --texdir title --texfile title --noshow VERSION"
   ]
  },
  {
   "cell_type": "markdown",
   "id": "3ec9ea2f",
   "metadata": {},
   "source": [
    "## The Forward Problem\n",
    "\n",
    "Commonly, the \"forward problem\" means simulating a physical process: we start with a model of reality, and then we calculate data based on some mathematical description of a physical law. Here, a plane wave impinging on an interface is partially reflected, partially transmitted, and the respective reflection / transmission coefficients are described by the Zoeppritz equation. Such a coefficient (or commonly called amplitude), in turn, depends on the incidence angle of the plane wave; hence, the term amplitude-versus-angle (AVA) arises.\n",
    "\n",
    "The Zoeppritz equation depend on the seismic properties P-velocity, S-velocity and density on either side of the interface. For the sake of a better intuitive understand, and simplicity of computations, the Zoeppritz equation are commonly linearized in terms of small differences in seismic properties from their respective \"background\" (or average) medium. Then, a first-order linearized AVA depends on the normalized contrasts of seismic properties, the P-to-S velocity ratio of the background, and the incidence angles.\n",
    "\n",
    "### Input of Seismic Properties\n",
    "\n",
    "Nonetheless, traditionally, seismic properties, not their normalized contrasts, are input, as follows.\n",
    "\n",
    "Tip: You can skip inputting these seismic properties, if you don't want to see a theoretical AVA curve, but to jump ahead to an AVA inversion."
   ]
  },
  {
   "cell_type": "code",
   "execution_count": null,
   "id": "b945a1cc",
   "metadata": {
    "scrolled": false
   },
   "outputs": [],
   "source": [
    "# write top halfspace\n",
    "display(dsp.Markdown(\"#### Top Halfspace:\"))\n",
    "\n",
    "# define input boxes for vp, vs, and rho in the top halfspace\n",
    "vp1_box = ipw.BoundedFloatText(description=\"P-velocity\", value=2000, min=0, step=10, max=sys.maxsize)\n",
    "vs1_box = ipw.BoundedFloatText(description=\"S-velocity\", value=1200, min=0, step=10, max=sys.maxsize)\n",
    "rho1_box = ipw.BoundedFloatText(description=\"density\", value=2000, min=0, step=10, max=sys.maxsize)\n",
    "    \n",
    "# group input boxes into a horizontal row\n",
    "top_box = ipw.GridBox(\n",
    "    [vp1_box, vs1_box, rho1_box], \n",
    "    layout=ipw.Layout(grid_template_columns=\"repeat(3, 300px)\"))\n",
    "display(top_box)\n",
    "\n",
    "# write bottom halfspace\n",
    "display(dsp.Markdown(\"#### Bottom Halfspace:\"))\n",
    "\n",
    "# define input boxes for vs, vs, and rho in the bottom halfspace\n",
    "vp2_box = ipw.BoundedFloatText(description=\"P-velocity\", value=2500, min=0, step=10, max=sys.maxsize)\n",
    "vs2_box = ipw.BoundedFloatText(description=\"S-velocity\", value=1500, min=0, step=10, max=sys.maxsize)\n",
    "rho2_box = ipw.BoundedFloatText(description=\"density\", value=2200, min=0, step=10, max=sys.maxsize)\n",
    "\n",
    "# group input boxes into a horizontal row\n",
    "bot_box = ipw.GridBox(\n",
    "    [vp2_box, vs2_box, rho2_box], \n",
    "    layout=ipw.Layout(grid_template_columns=\"repeat(3, 300px)\"))\n",
    "display(bot_box)\n",
    "\n",
    "\n",
    "# calculate model and S-to-P\n",
    "def update_model(**kwargs):\n",
    "    # check all properties are set\n",
    "    if not np.any([np.isnan(kwargs[prop]) for prop in ['vp1', 'vs1', 'rho1', 'vp2', 'vs2', 'rho2']]):\n",
    "        # set up the model\n",
    "        cfg.mod = [\n",
    "            (kwargs['vp2'] - kwargs['vp1']) / ((kwargs['vp1'] + kwargs['vp2']) / 2.),\n",
    "            (kwargs['vs2'] - kwargs['vs1']) / ((kwargs['vs1'] + kwargs['vs2']) / 2.),\n",
    "            (kwargs['rho2'] - kwargs['rho1']) / ((kwargs['rho1'] + kwargs['rho2']) / 2.)]\n",
    "        # calculate the S-to-P velocity ratio\n",
    "        cfg.vsp = (kwargs['vs1'] + kwargs['vs2']) / (kwargs['vp1'] + kwargs['vp2'])\n",
    "\n",
    "# interact with input boxes and call for AVA calculation and curve preparation\n",
    "interactive_output(\n",
    "    update_model,\n",
    "    {'vp1': vp1_box, 'vs1': vs1_box, 'rho1': rho1_box, 'vp2': vp2_box, 'vs2': vs2_box, 'rho2': rho2_box})"
   ]
  },
  {
   "cell_type": "markdown",
   "id": "6fd01cea",
   "metadata": {},
   "source": [
    "### S-to-P Velocity Ratio\n",
    "\n",
    "The S-to-P velocity ratio, however, is required for both the forward and inverse problem. If all seismic properties are input above, the S-to-P velocity ratio is automatically populated, but it can be overridden in the following; otherwise, the S-to-P velocity ratio must be input next.  "
   ]
  },
  {
   "cell_type": "code",
   "execution_count": null,
   "id": "d50f8e73",
   "metadata": {},
   "outputs": [],
   "source": [
    "# define an input box for the S-to-P velocity ratio\n",
    "vsp_box = ipw.BoundedFloatText(description=\"S-to-P velocity ratio\", value=cfg.vsp, min=0, step=0.1, max=sys.maxsize)\n",
    "\n",
    "# interact with vsp box\n",
    "@interact(vsp=vsp_box)\n",
    "def vsp_update(**kwargs):\n",
    "    # update S-to-P velocity ratio\n",
    "    cfg.vsp = kwargs['vsp']\n",
    "\n",
    "\n",
    "# update the default value of the input box\n",
    "def value_update(*args):\n",
    "    vsp_box.value = cfg.vsp\n",
    "vp1_box.observe(value_update, 'value')\n",
    "vs1_box.observe(value_update, 'value')\n",
    "vp2_box.observe(value_update, 'value')\n",
    "vs2_box.observe(value_update, 'value')"
   ]
  },
  {
   "cell_type": "markdown",
   "id": "5fd5fb73",
   "metadata": {},
   "source": [
    "### AVA Curve and Amplitude Input\n",
    "\n",
    "Finally, the theoretical AVA curve can be calculated and displayed. "
   ]
  },
  {
   "cell_type": "code",
   "execution_count": null,
   "id": "b2a6220b",
   "metadata": {},
   "outputs": [],
   "source": [
    "# calculate and display the AVA curve\n",
    "def update_curve(**kwargs):\n",
    "    # check all properties are set\n",
    "    if not np.any([np.isnan(kwargs[prop]) for prop in ['vp1', 'vs1', 'rho1', 'vp2', 'vs2', 'rho2']]):\n",
    "        # calculate AVA and prepare the curve\n",
    "        afd.comp_ava(mod=cfg.mod, vsp=cfg.vsp)\n",
    "# interact with input boxes and call for AVA calculation and curve preparation\n",
    "ava_box = interactive_output(\n",
    "    update_curve,\n",
    "    {'vp1': vp1_box, 'vs1': vs1_box, 'rho1': rho1_box, 'vp2': vp2_box, 'vs2': vs2_box, 'rho2': rho2_box})\n",
    "\n",
    "# display AVA curve\n",
    "display(ava_box)"
   ]
  },
  {
   "cell_type": "markdown",
   "id": "a6009fb3",
   "metadata": {},
   "source": [
    "## The Inverse Problem\n",
    "\n",
    "The \"inverse problem\" is the opposite, that is inferring a model from available data. \"Bayes's theory\" of inversion aims to optimize that inference: based on already a-priori available information about the model, an estimate of the uncertainty of such prior information, and further based on an estimate of data quality, Bayes theory provides the optimal a-posteriori information possible.\n",
    "\n",
    "In AVA inversion, here, the normalized contrasts make up the \"model\" in a Bayesian sense: as said, the properties to invert for. Hence, in a Bayesian context, the \"prior model\" comprises all information we have already derived from, e.g., a velocity analysis; and the \"prior uncertainty\" is the uncertainty with which we can perform a velocity analysis. \n",
    "\n",
    "The \"parameters\" in an AVA inversion are the P-to-S velocity ratio and the incidence angles. For now, let's assume, we know these parameters with zero uncertainty, although, admittedly, such accuracy will never be possible in practice.\n",
    "\n",
    "Then, the \"data\" are the reflection / transmission coefficients. Here, the terms coefficients and \"amplitude\" are often mixed up: AVA-inversion requires the coefficients or normalized amplitudes, that is the amplitude ratio of a wave after and before reflection / transmission. True-amplitude processing seems elusive in practice, but that uncertainty is part of the \"data uncertainty.\""
   ]
  },
  {
   "cell_type": "markdown",
   "id": "12140dc3",
   "metadata": {},
   "source": [
    "### Data\n",
    "\n",
    "The data -- amplitude over incidence angle -- can be input directly in the above figure.\n",
    "\n",
    "Tip: The order in which the data are input does not matter. You only need to click on the respective point in the display; the actual cursor position is shown at the bottom of the figure."
   ]
  },
  {
   "cell_type": "markdown",
   "id": "089a49dd",
   "metadata": {},
   "source": [
    "### Prior Model Uncertainty\n",
    "\n",
    "Let's take the prior model as above, and input only the prior uncertainty. Admittedly, estimating prior uncertainty is in itself another Bayesian problem. \n",
    "\n",
    "Tip: However, recall in an heuristic approach, a distribution of random numbers is almost entirely contained within 3 times its standard deviation (STD): so, estimate the maximum error of, e.g., our velocity analysis and devide that value by 3 to obtain the prior uncertainty expressed in terms of its standard deviation. Not perfect, but good enough for a first gestimate."
   ]
  },
  {
   "cell_type": "code",
   "execution_count": null,
   "id": "9beac51e",
   "metadata": {
    "scrolled": false
   },
   "outputs": [],
   "source": [
    "# write subtitle for the top halfspace\n",
    "display(dsp.Markdown(\"#### Top Halfspace:\"))\n",
    "\n",
    "# write input boxes for seismic properties in the top halfspace\n",
    "dvp1_box = ipw.BoundedFloatText(description=\"P-velocity +/-\", value=25, min=0, step=1, max=sys.maxsize)\n",
    "dvs1_box = ipw.BoundedFloatText(description=\"S-velocity +/-\", value=15, min=0, step=1, max=sys.maxsize)\n",
    "drho1_box = ipw.BoundedFloatText(description=\"density +/-\", value=20, min=0, step=1, max=sys.maxsize)\n",
    "\n",
    "# line up input boxes for the top halfspace and display\n",
    "dtop_box = ipw.GridBox(\n",
    "    [dvp1_box, dvs1_box, drho1_box], \n",
    "    layout=ipw.Layout(grid_template_columns=\"repeat(3, 300px)\"))\n",
    "display(dtop_box)\n",
    "\n",
    "# write subtitle for the bottom halfspace\n",
    "display(dsp.Markdown(\"#### Bottom Halfspace:\"))\n",
    "\n",
    "# write input boxes for seismic properties in the bottom halfspace\n",
    "\n",
    "dvp2_box = ipw.BoundedFloatText(description=\"P-velocity +/-\", value=25, min=0, step=1, max=sys.maxsize)\n",
    "dvs2_box = ipw.BoundedFloatText(description=\"S-velocity +/-\", value=15, min=0, step=1, max=sys.maxsize)\n",
    "drho2_box = ipw.BoundedFloatText(description=\"density +/-\", value=20, min=0, step=1, max=sys.maxsize)\n",
    "\n",
    "# line up input boxes for the bottom halfspace and display\n",
    "dbot_box = ipw.GridBox(\n",
    "    [dvp2_box, dvs2_box, drho2_box], \n",
    "    layout=ipw.Layout(grid_template_columns=\"repeat(3, 300px)\"))\n",
    "display(dbot_box)\n",
    "\n",
    "# update prior model\n",
    "def update_prior(**kwargs):\n",
    "    # assign input\n",
    "    cfg.est = [\n",
    "        np.sqrt(kwargs['dvp1'] ** 2 + kwargs['dvp2'] ** 2) / 2.,\n",
    "        np.sqrt(kwargs['dvs1'] ** 2 + kwargs['dvs2'] ** 2) / 2.,\n",
    "        np.sqrt(kwargs['drho1'] ** 2 + kwargs['drho2'] ** 2) / 2.]\n",
    "    \n",
    "# interact with all input boxes\n",
    "interactive_output(\n",
    "    update_prior, \n",
    "    {'dvp1': dvp1_box, 'dvs1': dvs1_box, 'drho1': drho1_box, 'dvp2': dvp2_box, 'dvs2': dvs2_box, 'drho2': drho2_box})"
   ]
  },
  {
   "cell_type": "markdown",
   "id": "4de34146",
   "metadata": {},
   "source": [
    "### Data Uncertainty\n",
    "\n",
    "\"Data uncertainty\", in a Bayesian sense, is the standard deviation (STD) of ambient noise contaminating the data, thereby assuming noise samples are normally distributed.\n",
    "\n",
    "However, the signal-to-noise ratio (SNR) is more popular. Here, the signal-to-noise ratio (SNR) is defined as the ratio of a wavelet's amplitude (A) and the standard deviation (STD) of ambient noise. The graph shows the superposition of a triangular wavelet with amplitude 1.0 and a realization of random noise with the requested STD (by definition, STD = A * SNR). \n",
    "\n",
    "Tip: Adjust the signal-to-noise ratio until the amount of noise appear similar to your data."
   ]
  },
  {
   "cell_type": "code",
   "execution_count": null,
   "id": "5df49d38",
   "metadata": {
    "scrolled": false
   },
   "outputs": [],
   "source": [
    "# Signal-To-Noise Ratio\n",
    "\n",
    "# define the input box for the signal-to-noise ratio\n",
    "snr_box = ipw.BoundedFloatText(description=\"signal-to-noise\", value=0.05, step=0.01)\n",
    "\n",
    "# display wavelet with ambient noise at the given signal-to-noise ratio\n",
    "def snr_update(**kwargs):\n",
    "    # update signal-to-noise ratio\n",
    "    cfg.snr = kwargs['snr']\n",
    "    # display \n",
    "    afd.plot_wavelet()\n",
    "    \n",
    "# interact with the signal-to-noise ratio box\n",
    "out = ipw.interactive_output(snr_update, {'snr': snr_box})\n",
    "display(snr_box)\n",
    "display(out)\n",
    "\n",
    "\n",
    "# define an update button\n",
    "def button_action(*args):\n",
    "    # wake up Jupyter\n",
    "    pass\n",
    "\n",
    "# interact with update button\n",
    "button =  ipw.Button(description = 'update', button_style = 'info', tooltip = 'update data uncertainty')\n",
    "display(button)\n",
    "button.on_click(button_action)"
   ]
  },
  {
   "cell_type": "code",
   "execution_count": null,
   "id": "9ac123e5",
   "metadata": {},
   "outputs": [],
   "source": []
  },
  {
   "cell_type": "code",
   "execution_count": null,
   "id": "26eb22a4",
   "metadata": {},
   "outputs": [],
   "source": [
    "# prepare final pdf file\n",
    "###%steinkauz --option printout --texdir . --texfile avo_for_density"
   ]
  },
  {
   "cell_type": "markdown",
   "id": "9c9e3bb5",
   "metadata": {},
   "source": [
    "# WORK IN PROGRESS!!!"
   ]
  },
  {
   "cell_type": "code",
   "execution_count": null,
   "id": "a8efbbc6",
   "metadata": {},
   "outputs": [],
   "source": [
    "# clean\n",
    "%steinkauz -o clean"
   ]
  },
  {
   "cell_type": "code",
   "execution_count": null,
   "id": "244037bd",
   "metadata": {},
   "outputs": [],
   "source": [
    "# input toggle\n",
    "###%inputtoggle"
   ]
  }
 ],
 "metadata": {
  "kernelspec": {
   "display_name": "Python 3 (ipykernel)",
   "language": "python",
   "name": "python3"
  },
  "language_info": {
   "codemirror_mode": {
    "name": "ipython",
    "version": 3
   },
   "file_extension": ".py",
   "mimetype": "text/x-python",
   "name": "python",
   "nbconvert_exporter": "python",
   "pygments_lexer": "ipython3",
   "version": "3.9.7"
  },
  "latex_envs": {
   "LaTeX_envs_menu_present": true,
   "autoclose": false,
   "autocomplete": true,
   "bibliofile": "biblio.bib",
   "cite_by": "apalike",
   "current_citInitial": 1,
   "eqLabelWithNumbers": true,
   "eqNumInitial": 1,
   "hotkeys": {
    "equation": "Ctrl-E",
    "itemize": "Ctrl-I"
   },
   "labels_anchors": false,
   "latex_user_defs": false,
   "report_style_numbering": false,
   "user_envs_cfg": false
  },
  "toc-showtags": true
 },
 "nbformat": 4,
 "nbformat_minor": 5
}
