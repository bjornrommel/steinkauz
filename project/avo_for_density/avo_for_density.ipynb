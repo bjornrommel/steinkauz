{
 "cells": [
  {
   "cell_type": "markdown",
   "id": "6f6b2afc",
   "metadata": {},
   "source": [
    "# Steinkauz\n",
    "\n",
    "## Notebook: avo_for_density\n",
    "\n",
    "See the [Steinkauz repository](https://github.com/bjornrommel/steinkauz/avo_for_density) for the code source."
   ]
  },
  {
   "cell_type": "code",
   "execution_count": 1,
   "id": "89477be4",
   "metadata": {},
   "outputs": [],
   "source": [
    "from IPython.core.interactiveshell import InteractiveShell\n",
    "InteractiveShell.ast_node_interactivity = \"all\""
   ]
  },
  {
   "cell_type": "code",
   "execution_count": 2,
   "id": "13abefeb",
   "metadata": {},
   "outputs": [],
   "source": [
    "# Steinkauz\n",
    "\n",
    "# load module\n",
    "# (currently not used, but reserved for later)\n",
    "%reload_ext steinkauz\n",
    "\n",
    "# toggle input\n",
    "###%inputtoggle"
   ]
  },
  {
   "cell_type": "code",
   "execution_count": 3,
   "id": "cae94484",
   "metadata": {},
   "outputs": [],
   "source": [
    "# Python, IPython\n",
    "\n",
    "# import Python modules\n",
    "import sys\n",
    "import numpy as np\n",
    "\n",
    "# import IPython modules\n",
    "from IPython import display as dsp\n",
    "import ipywidgets as ipw\n",
    "from ipywidgets import interact, interactive, interactive_output"
   ]
  },
  {
   "cell_type": "code",
   "execution_count": 4,
   "id": "ed7afd53",
   "metadata": {},
   "outputs": [],
   "source": [
    "# Matplotlib\n",
    "\n",
    "# set default parameters \n",
    "import matplotlib as mpl\n",
    "mpl.rcParams['font.size'] = 11             # same font size as the LaTeX document\n",
    "mpl.rcParams['text.usetex'] = True         # use latex throughout\n",
    "mpl.rcParams['ps.usedistiller'] = 'xpdf'   # for production quality\n",
    "\n",
    "# set API\n",
    "from matplotlib import pyplot as plt       # use Matlab-like API\n",
    "\n",
    "# set backend (ipympl integrates interactive features into Jupyter)\n",
    "%matplotlib widget"
   ]
  },
  {
   "cell_type": "code",
   "execution_count": 5,
   "id": "38e2c4ac",
   "metadata": {},
   "outputs": [],
   "source": [
    "# User-Defined Python \n",
    "\n",
    "# import notebook-specific functions\n",
    "import avo_for_density as afd\n",
    "import config as cfg"
   ]
  },
  {
   "cell_type": "code",
   "execution_count": 6,
   "id": "22c2b717",
   "metadata": {},
   "outputs": [],
   "source": [
    "# define an input box for the S-to-P velocity ratio\n",
    "vps_box = (\n",
    "    ipw.BoundedFloatText(\n",
    "        description=\"P-to-S velocity ratio\", value=1./cfg.para['vsp'], min=0, step=0.1, max=sys.maxsize))"
   ]
  },
  {
   "cell_type": "markdown",
   "id": "996e7e3b",
   "metadata": {},
   "source": [
    "# <center> Elements of Seismic Data Processing: </center>\n",
    "\n",
    "# <center> AVO Inversion for Density </center>\n",
    "\n",
    "# <center> Björn E. Rommel </center>"
   ]
  },
  {
   "cell_type": "markdown",
   "id": "3ec9ea2f",
   "metadata": {},
   "source": [
    "## The Forward Problem\n",
    "\n",
    "Commonly, the \"forward problem\" means simulating a physical process: we start with a model of reality, and then we calculate (observable) data based on the mathematical description of a physical law. Here, a plane wave impinging on an interface is reflected, partially transmitted, and the respective reflection / transmission coefficients are described by the Zoeppritz equation. \n",
    "\n",
    "The Zoeppritz equation depend on the seismic properties P-velocity, S-velocity and density on either side of the interface. For the sake of a better intuitive understand, and simplicity of computations, the Zoeppritz equation are commonly linearized in terms of small differences in seismic properties from their respective \"background\" (or average) medium. Then, a first-order linearized AVA depends on the normalized contrasts of seismic properties, the P-to-S velocity ratio of the background, and the incidence angles.\n",
    "\n",
    "### Input of Seismic Properties\n",
    "\n",
    "Nonetheless, traditionally, seismic properties, not their normalized contrasts, are input, as follows.\n",
    "\n",
    "Tip: You can skip inputting these seismic properties, if you don't want to see a theoretical AVA curve, but to jump ahead to an AVA inversion."
   ]
  },
  {
   "cell_type": "code",
   "execution_count": 7,
   "id": "24d3dd01",
   "metadata": {
    "scrolled": false
   },
   "outputs": [
    {
     "data": {
      "text/markdown": [
       "#### Top Halfspace:"
      ],
      "text/plain": [
       "<IPython.core.display.Markdown object>"
      ]
     },
     "metadata": {},
     "output_type": "display_data"
    },
    {
     "data": {
      "application/vnd.jupyter.widget-view+json": {
       "model_id": "3daf11cb0cb047ac91b5d57a54f08204",
       "version_major": 2,
       "version_minor": 0
      },
      "text/plain": [
       "GridBox(children=(BoundedFloatText(value=2000.0, description='P-velocity', max=9.223372036854776e+18, step=10.…"
      ]
     },
     "metadata": {},
     "output_type": "display_data"
    },
    {
     "data": {
      "text/markdown": [
       "#### Bottom Halfspace:"
      ],
      "text/plain": [
       "<IPython.core.display.Markdown object>"
      ]
     },
     "metadata": {},
     "output_type": "display_data"
    },
    {
     "data": {
      "application/vnd.jupyter.widget-view+json": {
       "model_id": "9c18356e9f8945a29b682ae3360fe5f4",
       "version_major": 2,
       "version_minor": 0
      },
      "text/plain": [
       "GridBox(children=(BoundedFloatText(value=2500.0, description='P-velocity', max=9.223372036854776e+18, step=10.…"
      ]
     },
     "metadata": {},
     "output_type": "display_data"
    },
    {
     "data": {
      "application/vnd.jupyter.widget-view+json": {
       "model_id": "8af949d39a0b49bba98de5208e58ac68",
       "version_major": 2,
       "version_minor": 0
      },
      "text/plain": [
       "Output()"
      ]
     },
     "metadata": {},
     "output_type": "display_data"
    },
    {
     "data": {
      "application/vnd.jupyter.widget-view+json": {
       "model_id": "2ee6c5d3768543209c0b46ec69421fb9",
       "version_major": 2,
       "version_minor": 0
      },
      "text/plain": [
       "Button(button_style='info', description='update', style=ButtonStyle(), tooltip='update the prior model')"
      ]
     },
     "metadata": {},
     "output_type": "display_data"
    }
   ],
   "source": [
    "# write top halfspace\n",
    "display(dsp.Markdown(\"#### Top Halfspace:\"))\n",
    "\n",
    "# define input boxes for vp, vs, and rho in the top halfspace\n",
    "vp1_box = ipw.BoundedFloatText(description=\"P-velocity\", value=afd.VP1, min=0, step=10, max=sys.maxsize)\n",
    "vs1_box = ipw.BoundedFloatText(description=\"S-velocity\", value=afd.VS1, min=0, step=10, max=sys.maxsize)\n",
    "rho1_box = ipw.BoundedFloatText(description=\"density\", value=afd.RHO1, min=0, step=10, max=sys.maxsize)\n",
    "    \n",
    "# group input boxes into a horizontal row\n",
    "top_box = ipw.GridBox(\n",
    "    [vp1_box, vs1_box, rho1_box], \n",
    "    layout=ipw.Layout(grid_template_columns=\"repeat(3, 300px)\"))\n",
    "display(top_box)\n",
    "\n",
    "\n",
    "# enforce stability criteria\n",
    "def update_vp1_box(*args):\n",
    "    global vp1_box\n",
    "    if np.isfinite(vp1_box.value):\n",
    "        if vp1_box.value <= 0.:\n",
    "            print('top medium: vp < 0!')\n",
    "            vp1_box.value = np.NAN\n",
    "        if vp1_box.value <= np.sqrt(8. / 3.) * vs1_box.value:\n",
    "            print('top medium: vp < sqrt(8 / 3) * vs!')\n",
    "            vp1_box.value = np.NAN\n",
    "vp1_box.observe(update_vp1_box, 'value')\n",
    "\n",
    "def update_vs1_box(*args):\n",
    "    global vs1_box\n",
    "    if np.isfinite(vs1_box.value):\n",
    "        if vs1_box.value <= 0.:\n",
    "            print('top medium: vs < 0!')\n",
    "            vs1_box.value = np.NAN\n",
    "        if vs1_box.value >= np.sqrt(3. / 8.) * vp1_box.value:\n",
    "            print('top medium: vs > sqrt(3 / 8) * vp!')\n",
    "            vs1_box.value = np.NAN\n",
    "vs1_box.observe(update_vs1_box, 'value')\n",
    "\n",
    "def update_rho1_box(*args):\n",
    "    global rho1_box\n",
    "    if np.isfinite(rho1_box.value):\n",
    "        if rho1_box.value <= 0.:\n",
    "            print('top medium: rho < 0!')\n",
    "            rho1_box.value = np.NAN\n",
    "rho1_box.observe(update_rho1_box, 'value')\n",
    "\n",
    "\n",
    "# write bottom halfspace\n",
    "display(dsp.Markdown(\"#### Bottom Halfspace:\"))\n",
    "\n",
    "# define input boxes for vs, vs, and rho in the bottom halfspace\n",
    "vp2_box = ipw.BoundedFloatText(description=\"P-velocity\", value=afd.VP2, min=0, step=10, max=sys.maxsize)\n",
    "vs2_box = ipw.BoundedFloatText(description=\"S-velocity\", value=afd.VS2, min=0, step=10, max=sys.maxsize)\n",
    "rho2_box = ipw.BoundedFloatText(description=\"density\", value=afd.RHO2, min=0, step=10, max=sys.maxsize)\n",
    "\n",
    "# group input boxes into a horizontal row\n",
    "bot_box = ipw.GridBox(\n",
    "    [vp2_box, vs2_box, rho2_box], \n",
    "    layout=ipw.Layout(grid_template_columns=\"repeat(3, 300px)\"))\n",
    "display(bot_box)\n",
    "\n",
    "\n",
    "# enforce stability criteria\n",
    "def update_vp2_box(*args):\n",
    "    global vp2_box\n",
    "    if np.isfinite(vp2_box.value):\n",
    "        if vp2_box.value <= 0.:\n",
    "            print('bottom medium: vp < 0!')\n",
    "            vp2_box.value = np.NAN\n",
    "        if vp2_box.value <= np.sqrt(8. / 3.) * vs2_box.value:\n",
    "            print('bottom medium: vp < sqrt(8 / 3) * vs!')\n",
    "            vp2_box.value = np.NAN\n",
    "vp2_box.observe(update_vp2_box, 'value')\n",
    "\n",
    "def update_vs2_box(*args):\n",
    "    global vs2_box\n",
    "    if np.isfinite(vs2_box.value):\n",
    "        if vs2_box.value <= 0.:\n",
    "            print('bottom medium: vs < 0!')\n",
    "            vs2_box.value = np.NAN\n",
    "        if vs2_box.value >= np.sqrt(3. / 8.) * vp2_box.value:\n",
    "            print('bottom medium: vs > sqrt(3 / 8) * vp!')\n",
    "            vs2_box.value = np.NAN\n",
    "vs2_box.observe(update_vs2_box, 'value')\n",
    "\n",
    "def update_rho2_box(*args):\n",
    "    global rho2_box\n",
    "    if np.isfinite(rho2_box.value):\n",
    "        if rho2_box.value <= 0.:\n",
    "            print('bottom medium: rho < 0!')\n",
    "            rho2_box.value = np.NAN\n",
    "rho2_box.observe(update_rho2_box, 'value')\n",
    "\n",
    "\n",
    "# calculate prior model and S-to-P velocity ratio\n",
    "def update_model(**kwargs):\n",
    "    # check all properties are setafd.get_medium(vp=kwargs['vp1'])\n",
    "    if not np.any([np.isnan(kwargs[prop]) for prop in ['vp1', 'vs1', 'rho1', 'vp2', 'vs2', 'rho2']]):\n",
    "        # set up the top model\n",
    "        afd.get_medium(halfspace='top', text='top', vp=kwargs['vp1'], vs=kwargs['vs1'], rho=kwargs['rho1'])\n",
    "        # set up the bottom model\n",
    "        afd.get_medium(halfspace='bot', text='bottom', vp=kwargs['vp2'], vs=kwargs['vs2'], rho=kwargs['rho2'])\n",
    "        # set up the background model\n",
    "        afd.get_back()\n",
    "        # calculate the S-to-P velocity ratio\n",
    "        afd.get_para()\n",
    "        vps_box.value = 1. / afd.para['vsp']\n",
    "        # compute the prior contrast\n",
    "        afd.get_precon()\n",
    "        # compute the prior model\n",
    "        afd.get_prior()\n",
    "\n",
    "\n",
    "# interact with input boxes and call for AVA calculation and curve preparation\n",
    "out=interactive_output(\n",
    "    update_model,\n",
    "    {'vp1': vp1_box, 'vs1': vs1_box, 'rho1': rho1_box, 'vp2': vp2_box, 'vs2': vs2_box, 'rho2': rho2_box})\n",
    "display(out)\n",
    "\n",
    "\n",
    "# define an update button\n",
    "def medbutton_action(*args):\n",
    "    # wake up Jupyter\n",
    "    pass\n",
    "\n",
    "# interact with update button\n",
    "medbutton =  ipw.Button(description = 'update', button_style = 'info', tooltip = 'update the prior model')\n",
    "display(medbutton)\n",
    "medbutton.on_click(medbutton_action)"
   ]
  },
  {
   "cell_type": "markdown",
   "id": "6fd01cea",
   "metadata": {},
   "source": [
    "### P-to-S Velocity Ratio\n",
    "\n",
    "The P-to-S velocity ratio, or internally rather its inverse, is required for both the forward and inverse problem. If all seismic properties are input above, the P-to-S velocity ratio is automatically populated, but it can be overridden in the following; otherwise, the P-to-S velocity ratio must be input next.  "
   ]
  },
  {
   "cell_type": "code",
   "execution_count": 8,
   "id": "d50f8e73",
   "metadata": {
    "scrolled": false
   },
   "outputs": [
    {
     "data": {
      "application/vnd.jupyter.widget-view+json": {
       "model_id": "fbb229109d2442a2aa0dee5f549e4e45",
       "version_major": 2,
       "version_minor": 0
      },
      "text/plain": [
       "interactive(children=(BoundedFloatText(value=1.6666666666666667, description='P-to-S velocity ratio', max=9.22…"
      ]
     },
     "metadata": {},
     "output_type": "display_data"
    },
    {
     "data": {
      "application/vnd.jupyter.widget-view+json": {
       "model_id": "e5f648543a0a4ee0992c9db8c99d97da",
       "version_major": 2,
       "version_minor": 0
      },
      "text/plain": [
       "Button(button_style='info', description='update', style=ButtonStyle(), tooltip='update the S-to-P velocity rat…"
      ]
     },
     "metadata": {},
     "output_type": "display_data"
    }
   ],
   "source": [
    "# interact with vps box\n",
    "@interact(vps=vps_box)\n",
    "def vsp_update(**kwargs):\n",
    "    # update S-to-P velocity ratio\n",
    "    afd.get_para(vps=kwargs['vps'])\n",
    "\n",
    "\n",
    "# define an update button\n",
    "def vspbutton_action(*args):\n",
    "    # wake up Jupyter\n",
    "    pass\n",
    "\n",
    "# interact with update button\n",
    "vspbutton =  ipw.Button(description = 'update', button_style = 'info', tooltip = 'update the S-to-P velocity ratio')\n",
    "display(vspbutton)\n",
    "vspbutton.on_click(vspbutton_action)"
   ]
  },
  {
   "cell_type": "markdown",
   "id": "5fd5fb73",
   "metadata": {},
   "source": [
    "### AVA Curve\n",
    "\n",
    "Finally, the theoretical AVA curve can be calculated and displayed. "
   ]
  },
  {
   "cell_type": "code",
   "execution_count": 9,
   "id": "b2a6220b",
   "metadata": {
    "scrolled": false
   },
   "outputs": [
    {
     "data": {
      "application/vnd.jupyter.widget-view+json": {
       "model_id": "ff202285bcd249dc8924bc63170c79f3",
       "version_major": 2,
       "version_minor": 0
      },
      "text/plain": [
       "Output()"
      ]
     },
     "metadata": {},
     "output_type": "display_data"
    }
   ],
   "source": [
    "# calculate and display an AVA curve based on a prior model\n",
    "def ava_update(**kwargs):\n",
    "    # check all properties are set\n",
    "    # (note, an AVA curve depends strictly on the prior model and the S-to-P velocity ratio)\n",
    "    if not (np.any(np.isnan(afd.prior['mod'])) or np.isnan(afd.para['vsp'])):\n",
    "        # initialize figure \n",
    "        afd.init_plot(num=1, title='AVA Curve')   # figure number hard-wired \n",
    "        # calculate AVA points for the given prior model\n",
    "        afd.comp_coeff(mode='COEFF')  \n",
    "        # create a figure based on those AVA points\n",
    "        afd.plot_all(mode='COEFF')      \n",
    "        # exit figure\n",
    "        afd.exit_plot(env=afd.PLOTENVIRONMENT)\n",
    "\n",
    "# interact with input boxes and call the above AVA calculation and display\n",
    "# (note, any change in any one of the following boxes already triggers a re-calcuation of the prior model or the S-to-P\n",
    "# velocity ratio)\n",
    "ava_box = interactive_output(ava_update, {'rho1': rho1_box, 'rho2': rho2_box, 'vps': vps_box})\n",
    "\n",
    "# display AVA curve\n",
    "display(ava_box)"
   ]
  },
  {
   "cell_type": "markdown",
   "id": "a6009fb3",
   "metadata": {},
   "source": [
    "## The Inverse Problem\n",
    "\n",
    "The \"inverse problem\" is the opposite, that is inferring a model from available data. \"Bayes's theory\" of inversion aims to optimize that inference: based on already a-priori available information about the model, an estimate of the uncertainty of such prior information, and further based on an estimate of data quality, Bayes theory provides the optimal a-posteriori information possible.\n",
    "\n",
    "In AVA inversion, here, the normalized contrasts make up the \"model\" in a Bayesian sense: as said, the properties to invert for. Hence, in a Bayesian context, the \"prior model\" comprises all information we have already derived from, e.g., a velocity analysis; and the \"prior uncertainty\" is the uncertainty with which we can perform a velocity analysis. \n",
    "\n",
    "The \"parameters\" in an AVA inversion are the P-to-S velocity ratio and the incidence angles. For now, let's assume, we know these parameters with zero uncertainty, although, admittedly, such accuracy will never be possible in practice.\n",
    "\n",
    "Then, the \"data\" are the reflection / transmission coefficients. Here, the terms coefficients and \"amplitude\" are often mixed up: AVA-inversion requires the coefficients or normalized amplitudes, that is the amplitude ratio of a wave after and before reflection / transmission. True-amplitude processing seems elusive in practice, but that uncertainty is part of the \"data uncertainty.\"\n",
    "\n",
    "Tip: Re-run this cell to make the figure active. This is because Matplotlib keeps the last figure active, and so any interactive input will be plotted in that figure. The data -- amplitude over incidence angle -- can be input directly in the below figure. The order in which the data are input does not matter. You only need to click on the respective point in the display; the actual cursor position is shown at the bottom of the figure.\n",
    "\n",
    "Tip: Due to a bug in Jupyter, I cannot make it accept double clicks for entering data points. And, so, single clicks are used for both the figure ornaments and data points. Hence, your best bet for now, don't change the figure layout."
   ]
  },
  {
   "cell_type": "code",
   "execution_count": 10,
   "id": "4e369c20",
   "metadata": {},
   "outputs": [
    {
     "data": {
      "application/vnd.jupyter.widget-view+json": {
       "model_id": "82b28a7e601049a08b851b83da7632ae",
       "version_major": 2,
       "version_minor": 0
      },
      "text/plain": [
       "Output()"
      ]
     },
     "metadata": {},
     "output_type": "display_data"
    },
    {
     "data": {
      "application/vnd.jupyter.widget-view+json": {
       "model_id": "434eb490a8df427c92a67c4ef9add22c",
       "version_major": 2,
       "version_minor": 0
      },
      "text/html": [
       "\n",
       "            <div style=\"display: inline-block;\">\n",
       "                <div class=\"jupyter-widgets widget-label\" style=\"text-align: center;\">\n",
       "                    Figure\n",
       "                </div>\n",
       "                <img src='data:image/png;base64,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' width=640.0/>\n",
       "            </div>\n",
       "        "
      ],
      "text/plain": [
       "Canvas(toolbar=Toolbar(toolitems=[('Home', 'Reset original view', 'home', 'home'), ('Back', 'Back to previous …"
      ]
     },
     "metadata": {},
     "output_type": "display_data"
    }
   ],
   "source": [
    "# input AVA data points and calculate best-fitting AVA curve\n",
    "def data_update(**kwargs):\n",
    "    # check all properties are set\n",
    "    if not np.isnan(afd.para['vsp']):\n",
    "        # initialize figure\n",
    "        afd.init_plot(num=2, title='Classical AVA Inversion')\n",
    "        # re-plot old data and AVA curve\n",
    "        if afd.data['nos'] > 0:\n",
    "            # re-invert data to posterior model \n",
    "            # (in case inversion method has changed w/o uncertainty or prior model)\n",
    "            afd.invert_ava(mode='COEFF-DATA-AVA-')\n",
    "            # re-calculate AVA curve from the posterior model\n",
    "            afd.comp_post_ava()\n",
    "            # re-plot old data and corresponding AVA curve\n",
    "            afd.replot_data_ava(mode='COEFF-DATA-AVA-', num=2)\n",
    "        # catch new data points, invert all data points, and plot an AVA curve based on the new posterior model\n",
    "        afd.plot_all(mode='COEFF-DATA-AVA-', num=2)        \n",
    "\n",
    "# interact with input boxes and call for AVA calculation and curve\n",
    "out = interactive_output(data_update, {'vps': vps_box})\n",
    "\n",
    "# display AVA curve\n",
    "display(out)"
   ]
  },
  {
   "cell_type": "markdown",
   "id": "089a49dd",
   "metadata": {},
   "source": [
    "### Prior Model Uncertainty\n",
    "\n",
    "Let's take the prior model as above, and input only the prior uncertainty. Admittedly, estimating prior uncertainty is in itself another Bayesian problem. \n",
    "\n",
    "Tip: However, recall, a distribution of random numbers is almost entirely contained within 3 times its standard deviation (STD): so, estimate the maximum error of, e.g., our velocity analysis and devide that value by 3 to obtain the prior uncertainty expressed in terms of its standard deviation. Not perfect, but good enough for a first gestimate."
   ]
  },
  {
   "cell_type": "code",
   "execution_count": 11,
   "id": "9beac51e",
   "metadata": {
    "scrolled": false
   },
   "outputs": [
    {
     "data": {
      "text/markdown": [
       "#### Top Halfspace:"
      ],
      "text/plain": [
       "<IPython.core.display.Markdown object>"
      ]
     },
     "metadata": {},
     "output_type": "display_data"
    },
    {
     "data": {
      "application/vnd.jupyter.widget-view+json": {
       "model_id": "969f0b3662794a20a2e1e12d9169b0dd",
       "version_major": 2,
       "version_minor": 0
      },
      "text/plain": [
       "GridBox(children=(BoundedFloatText(value=20.0, description='P-velocity +/-', max=9.223372036854776e+18, step=1…"
      ]
     },
     "metadata": {},
     "output_type": "display_data"
    },
    {
     "data": {
      "text/markdown": [
       "#### Bottom Halfspace:"
      ],
      "text/plain": [
       "<IPython.core.display.Markdown object>"
      ]
     },
     "metadata": {},
     "output_type": "display_data"
    },
    {
     "data": {
      "application/vnd.jupyter.widget-view+json": {
       "model_id": "b9930a9237eb4ed1873dc008b209cd88",
       "version_major": 2,
       "version_minor": 0
      },
      "text/plain": [
       "GridBox(children=(BoundedFloatText(value=25.0, description='P-velocity +/-', max=9.223372036854776e+18, step=1…"
      ]
     },
     "metadata": {},
     "output_type": "display_data"
    },
    {
     "data": {
      "application/vnd.jupyter.widget-view+json": {
       "model_id": "c21017ac1db64b85b329409517cc36d9",
       "version_major": 2,
       "version_minor": 0
      },
      "text/plain": [
       "Output()"
      ]
     },
     "metadata": {},
     "output_type": "display_data"
    }
   ],
   "source": [
    "# write subtitle for the top halfspace\n",
    "display(dsp.Markdown(\"#### Top Halfspace:\"))\n",
    "\n",
    "# write input boxes for seismic properties in the top halfspace\n",
    "dvp1_box = ipw.BoundedFloatText(description=\"P-velocity +/-\", value=afd.DVP1, min=0, step=1, max=sys.maxsize)\n",
    "dvs1_box = ipw.BoundedFloatText(description=\"S-velocity +/-\", value=afd.DVS1, min=0, step=1, max=sys.maxsize)\n",
    "drho1_box = ipw.BoundedFloatText(description=\"density +/-\", value=afd.DRHO1, min=0, step=1, max=sys.maxsize)\n",
    "\n",
    "# line up input boxes for the top halfspace and display\n",
    "dtop_box = ipw.GridBox(\n",
    "    [dvp1_box, dvs1_box, drho1_box], \n",
    "    layout=ipw.Layout(grid_template_columns=\"repeat(3, 300px)\"))\n",
    "display(dtop_box)\n",
    "\n",
    "# write subtitle for the bottom halfspace\n",
    "display(dsp.Markdown(\"#### Bottom Halfspace:\"))\n",
    "\n",
    "# write input boxes for seismic properties in the bottom halfspace\n",
    "\n",
    "dvp2_box = ipw.BoundedFloatText(description=\"P-velocity +/-\", value=afd.DVP2, min=0, step=1, max=sys.maxsize)\n",
    "dvs2_box = ipw.BoundedFloatText(description=\"S-velocity +/-\", value=afd.DVS2, min=0, step=1, max=sys.maxsize)\n",
    "drho2_box = ipw.BoundedFloatText(description=\"density +/-\", value=afd.DRHO2, min=0, step=1, max=sys.maxsize)\n",
    "\n",
    "# line up input boxes for the bottom halfspace and display\n",
    "dbot_box = ipw.GridBox(\n",
    "    [dvp2_box, dvs2_box, drho2_box], \n",
    "    layout=ipw.Layout(grid_template_columns=\"repeat(3, 300px)\"))\n",
    "display(dbot_box)\n",
    "\n",
    "# update P-to-S velocity ratio, prior model and coefficients\n",
    "def update_model(**kwargs):\n",
    "    # check all properties are setafd.get_medium(vp=kwargs['vp1'])\n",
    "    if not np.any([np.isnan(kwargs[prop]) for prop in ['dvp1', 'dvs1', 'drho1', 'dvp2', 'dvs2', 'drho2']]):\n",
    "        # set up the top model\n",
    "        afd.get_medium(halfspace='top', text='top', dvp=kwargs['dvp1'], dvs=kwargs['dvs1'], drho=kwargs['drho1'])\n",
    "        # set up the bottom model\n",
    "        afd.get_medium(halfspace='bot', text='bottom', dvp=kwargs['dvp2'], dvs=kwargs['dvs2'], drho=kwargs['drho2'])\n",
    "        # set up the background model\n",
    "        afd.get_back()\n",
    "        # calculate parameters as, here, the S-to-P velocity ratio\n",
    "        afd.get_para()\n",
    "        # compute prior contrast\n",
    "        afd.get_precon()\n",
    "        # compute the prior\n",
    "        afd.get_prior()\n",
    "        \n",
    "    \n",
    "# interact with all input boxes\n",
    "out = interactive_output(\n",
    "    update_model, \n",
    "    {'dvp1': dvp1_box, 'dvs1': dvs1_box, 'drho1': drho1_box, 'dvp2': dvp2_box, 'dvs2': dvs2_box, 'drho2': drho2_box})\n",
    "display(out)"
   ]
  },
  {
   "cell_type": "markdown",
   "id": "4de34146",
   "metadata": {},
   "source": [
    "### Data Uncertainty\n",
    "\n",
    "\"Data uncertainty\", in a Bayesian sense, is the standard deviation (STD) of ambient noise contaminating the data, thereby assuming noise samples are normally distributed.\n",
    "\n",
    "However, the signal-to-noise ratio (SNR) is more popular. Here, the signal-to-noise ratio (SNR) is defined as the ratio of a wavelet's amplitude (A) and the standard deviation (STD) of ambient noise. The graph shows the superposition of a triangular wavelet with amplitude 1.0 and a realization of random noise with the requested STD (by definition, STD = A * SNR). \n",
    "\n",
    "Tip: Adjust the signal-to-noise ratio until the amount of noise appear similar to your data."
   ]
  },
  {
   "cell_type": "code",
   "execution_count": 12,
   "id": "3f83b993",
   "metadata": {},
   "outputs": [
    {
     "data": {
      "application/vnd.jupyter.widget-view+json": {
       "model_id": "afdf931d70374bc3b8eae8d40c52d51f",
       "version_major": 2,
       "version_minor": 0
      },
      "text/plain": [
       "BoundedFloatText(value=5.0, description='signal-to-noise', max=9.223372036854776e+18, min=0.1, step=0.1)"
      ]
     },
     "metadata": {},
     "output_type": "display_data"
    },
    {
     "data": {
      "application/vnd.jupyter.widget-view+json": {
       "model_id": "82114ce71d62436a8b97f3e3d2e95ae9",
       "version_major": 2,
       "version_minor": 0
      },
      "text/plain": [
       "Output()"
      ]
     },
     "metadata": {},
     "output_type": "display_data"
    },
    {
     "data": {
      "application/vnd.jupyter.widget-view+json": {
       "model_id": "20efd2743a1944b78558f5e422a75f50",
       "version_major": 2,
       "version_minor": 0
      },
      "text/plain": [
       "Button(button_style='info', description='update', style=ButtonStyle(), tooltip='update the signal-to-noise rat…"
      ]
     },
     "metadata": {},
     "output_type": "display_data"
    }
   ],
   "source": [
    "# define the input box for the signal-to-noise ratio\n",
    "snr_box = ipw.BoundedFloatText(description=\"signal-to-noise\", value=afd.SNR, min=0.1, step=0.1, max=sys.maxsize)\n",
    "display(snr_box)\n",
    "\n",
    "# display wavelet with ambient noise at the given signal-to-noise ratio\n",
    "def snr_update(**kwargs):\n",
    "    global snr_box\n",
    "    afd.get_data(snr=kwargs['snr'])\n",
    "\n",
    "# interact with input boxes and call for AVA calculation and curve preparation\n",
    "interactive_output(snr_update, {'snr': snr_box})\n",
    "\n",
    "\n",
    "# define an update button\n",
    "def snrbutton_action(*args):\n",
    "    # wake up Jupyter\n",
    "    pass\n",
    "\n",
    "# interact with update button\n",
    "snrbutton =  ipw.Button(description = 'update', button_style = 'info', tooltip = 'update the signal-to-noise ratio')\n",
    "display(snrbutton)\n",
    "snrbutton.on_click(snrbutton_action)"
   ]
  },
  {
   "cell_type": "code",
   "execution_count": 13,
   "id": "5df49d38",
   "metadata": {
    "scrolled": false
   },
   "outputs": [
    {
     "data": {
      "application/vnd.jupyter.widget-view+json": {
       "model_id": "6c6b93fb474a494998c56991ed1ed6d7",
       "version_major": 2,
       "version_minor": 0
      },
      "text/plain": [
       "Output()"
      ]
     },
     "metadata": {},
     "output_type": "display_data"
    },
    {
     "data": {
      "application/vnd.jupyter.widget-view+json": {
       "model_id": "911d08f28af947caa4a3a61ccbdcb35c",
       "version_major": 2,
       "version_minor": 0
      },
      "text/plain": [
       "Button(button_style='info', description='repeat', style=ButtonStyle(), tooltip='repeat wavelet')"
      ]
     },
     "metadata": {},
     "output_type": "display_data"
    }
   ],
   "source": [
    "# display wavelet with ambient noise at the given signal-to-noise ratio\n",
    "def wvl_update(*args, **kwargs):\n",
    "    afd.init_plot(num=3)\n",
    "    afd.mk_wavelet(name='triangle', hwd=10, num=3)\n",
    "    afd.exit_plot(env=afd.PLOTENVIRONMENT)\n",
    "def wvl_repeat(*args, **kwargs):\n",
    "    afd.mk_wavelet(name='triangle', hwd=10, num=3)\n",
    "    afd.exit_plot(env=afd.CANVASENVIRONMENT)\n",
    "    \n",
    "# interact with the signal-to-noise ratio box\n",
    "wvl_box = interactive_output(wvl_update, {'snr': snr_box})\n",
    "\n",
    "# display AVA curve\n",
    "display(wvl_box)\n",
    "\n",
    "\n",
    "# interact with repeat button\n",
    "wvlbutton =  ipw.Button(description = 'repeat', button_style = 'info', tooltip = 'repeat wavelet')\n",
    "display(wvlbutton)\n",
    "wvlbutton.on_click(wvl_repeat)"
   ]
  },
  {
   "cell_type": "markdown",
   "id": "70cd650b",
   "metadata": {},
   "source": [
    "## Bayesian AVA Inversion\n",
    "\n",
    "Bayesian AVA inversion strikes an optimal balance between prior information and data -- that is, here, the prior model of normalized property contrasts and normalized reflection coefficients. Thereby, both sets of information are weighted according to their respective covariances.\n",
    "\n",
    "Note, the algorithm is robust, but its results are sensible only if, firstly, the assumptions behind \"linearized AVA inversion\" -- that is, small property contrasts -- are met, and, secondly, prior information and data are consistent. \"Consistent\" means, in turn, two physical important properties: Firstly, the data are normally distributed around the exact normalized reflection coefficients that would have been generated by a wave propagating in the true model. Fortunately, each seismic experiment yields multiple realizations -- in statistical language -- of reflection coefficients. In contrast, the prior model is but one realization of the true model. Only if we were to repeat the seismic experiment multiple times, and do so independently of each other, could we speak of multiple realizations of a prior model. Of course, that is not going to happen. At most, we could generate multiple realization of a prior model during seismic processing and repeat the inversion. So, instead, and secondly, we simply assume the prior model to be sufficiently close to the true model. \n",
    "\n",
    "Tip: The below figure shows a band of reflection coefficients generated for the prior model. Given the caveats above, the data error bars must be distributed across that band in a Gaussian sense. An unbalanced distribution of data points is a sure indication the prior model might be too far off the true model. Of course, theoretically, it can happen, but, then, do repeat the exercise with a set of normally distributed prior models and build a distribution of posterior models."
   ]
  },
  {
   "cell_type": "code",
   "execution_count": 14,
   "id": "1c57683e",
   "metadata": {
    "scrolled": false
   },
   "outputs": [
    {
     "data": {
      "application/vnd.jupyter.widget-view+json": {
       "model_id": "53fad8d598ed497c95b2fa8ce606035c",
       "version_major": 2,
       "version_minor": 0
      },
      "text/plain": [
       "Output()"
      ]
     },
     "metadata": {},
     "output_type": "display_data"
    },
    {
     "data": {
      "application/vnd.jupyter.widget-view+json": {
       "model_id": "2fb190633dae441a831d7e0ec8065171",
       "version_major": 2,
       "version_minor": 0
      },
      "text/plain": [
       "Output()"
      ]
     },
     "metadata": {},
     "output_type": "display_data"
    },
    {
     "data": {
      "application/vnd.jupyter.widget-view+json": {
       "model_id": "3c9db52c95d34ceaa1c66d0fb7968594",
       "version_major": 2,
       "version_minor": 0
      },
      "text/plain": [
       "Button(button_style='info', description='print', style=ButtonStyle(), tooltip='print posterior model')"
      ]
     },
     "metadata": {},
     "output_type": "display_data"
    }
   ],
   "source": [
    "# input AVA data points and calculate best-fitting AVA curve\n",
    "def coeff_data_ava_update(**kwargs):\n",
    "    # check all properties are set\n",
    "    if not (                                        # not any of the following:\n",
    "            np.isnan(afd.para['vsp']) or            # signal-to-noise ratio found in the reflection matrix NAN\n",
    "            np.isnan(afd.data['std']) or            # data uncertainty (blown up to data covariance) NAN\n",
    "            np.any(np.isnan(afd.prior['std'])) or   # any prior component uncertainty (blown up to prior covariance) NAN\n",
    "            np.any(np.isnan(afd.prior['mod']))):    # any prior model component NAN\n",
    "        # initialize figure \n",
    "        afd.init_plot(num=4) \n",
    "        # calculate the AVA curve from the prior model\n",
    "        afd.comp_coeff(mode='COEFF+DATA+AVA+')\n",
    "        # calculate the posterior model from the data if any\n",
    "        afd.invert_ava(mode='COEFF+DATA+AVA+')\n",
    "        # calculate the AVA curve for the posterior model\n",
    "        afd.comp_post_ava()\n",
    "        # re-plot the AVA curves for the prior and posterior model as well as the data points\n",
    "        afd.replot_data_ava(mode='COEFF+DATA+AVA+', num=4)\n",
    "        # catch data points, invert and plot an AVA curve from posteriors\n",
    "        afd.plot_all(mode='COEFF+DATA+AVA+', num=4) \n",
    "\n",
    "# interact with input boxes and call for AVA calculation and curve\n",
    "coeff_data_ava_box = interactive_output(\n",
    "    coeff_data_ava_update, {\n",
    "        'vps': vps_box,                                           # P- and S-velocities in top and bottom halfspaces\n",
    "        'rho1': rho1_box, 'rho2': rho2_box,                       # densities in top and bottom halfspaces\n",
    "        'dvp1': dvp1_box, 'dvs1': dvs1_box, 'drho1': drho1_box,   # uncertainties top halfspace\n",
    "        'dvp2': dvp2_box, 'dvs2': dvs2_box, 'drho2': drho2_box,   # uncertainties bottom halfspace \n",
    "        'snr': snr_box})                                          # uncertainty in data (from signal-to-noise ratio)\n",
    "\n",
    "# display AVA curve\n",
    "display(coeff_data_ava_box)\n",
    "\n",
    "\n",
    "# generate box for posterior\n",
    "out = ipw.Output()\n",
    "display(out)\n",
    "\n",
    "# define an update button\n",
    "def baybutton_action(*args):\n",
    "    # print\n",
    "    with out:\n",
    "        out.clear_output()\n",
    "        _ = afd.printout(text='posterior model', vals=afd.post)\n",
    "        _ = afd.printout(text='posterior contrast', vals=afd.poscon)\n",
    "\n",
    "# interact with update button\n",
    "baybutton =  ipw.Button(description = 'print', button_style = 'info', tooltip = 'print posterior model')\n",
    "display(baybutton)\n",
    "baybutton.on_click(baybutton_action)"
   ]
  },
  {
   "cell_type": "markdown",
   "id": "628a3e49",
   "metadata": {},
   "source": [
    "Tip: Due to a bug in Jupyter -- printing after an interactive event when using the backend ipympl -- the posterior model, which is updated with each additional data point, cannot be printed from within the Python code. Instead, it must be extracted manually, as done below."
   ]
  },
  {
   "cell_type": "code",
   "execution_count": 15,
   "id": "1d9cb337",
   "metadata": {},
   "outputs": [
    {
     "name": "stdout",
     "output_type": "stream",
     "text": [
      "posterior model\n",
      "   vp  =    +0.222222 +/-    +0.013968\n",
      "   vs  =    +0.222222 +/-    +0.013968\n",
      "   rho =    +0.080000 +/-    +0.141195\n",
      "\n"
     ]
    }
   ],
   "source": [
    "_ = afd.printout(text='posterior model', vals=afd.post)"
   ]
  },
  {
   "cell_type": "code",
   "execution_count": 16,
   "id": "aa461071",
   "metadata": {},
   "outputs": [],
   "source": [
    "# input toggle\n",
    "###%inputtoggle"
   ]
  }
 ],
 "metadata": {
  "kernelspec": {
   "display_name": "Python 3 (ipykernel)",
   "language": "python",
   "name": "python3"
  },
  "language_info": {
   "codemirror_mode": {
    "name": "ipython",
    "version": 3
   },
   "file_extension": ".py",
   "mimetype": "text/x-python",
   "name": "python",
   "nbconvert_exporter": "python",
   "pygments_lexer": "ipython3",
   "version": "3.9.7"
  },
  "latex_envs": {
   "LaTeX_envs_menu_present": true,
   "autoclose": false,
   "autocomplete": true,
   "bibliofile": "biblio.bib",
   "cite_by": "apalike",
   "current_citInitial": 1,
   "eqLabelWithNumbers": true,
   "eqNumInitial": 1,
   "hotkeys": {
    "equation": "Ctrl-E",
    "itemize": "Ctrl-I"
   },
   "labels_anchors": false,
   "latex_user_defs": false,
   "report_style_numbering": false,
   "user_envs_cfg": false
  },
  "toc-showtags": true
 },
 "nbformat": 4,
 "nbformat_minor": 5
}
