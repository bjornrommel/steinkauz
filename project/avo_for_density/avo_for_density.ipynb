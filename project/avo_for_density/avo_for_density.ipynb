{
 "cells": [
  {
   "cell_type": "markdown",
   "id": "e2e10595",
   "metadata": {},
   "source": [
    "# Steinkauz\n",
    "\n",
    "## Notebook: avo_for_density"
   ]
  },
  {
   "cell_type": "code",
   "execution_count": 1,
   "id": "7dba8029",
   "metadata": {},
   "outputs": [],
   "source": [
    "#from IPython.core.interactiveshell import InteractiveShell\n",
    "#InteractiveShell.ast_node_interactivity = \"all\""
   ]
  },
  {
   "cell_type": "code",
   "execution_count": 2,
   "id": "5e31596b",
   "metadata": {},
   "outputs": [
    {
     "data": {
      "text/html": [
       "\n",
       "            <script>\n",
       "                code_show=true;\n",
       "                function code_toggle() {\n",
       "                    if (code_show){\n",
       "                        $('div.input').hide();\n",
       "                    } else {\n",
       "                        $('div.input').show();\n",
       "                    }\n",
       "                    code_show = !code_show\n",
       "                }\n",
       "                $( document ).ready(code_toggle);\n",
       "            </script>\n",
       "            <form action=\"javascript:code_toggle()\">\n",
       "                <input type=\"submit\" value=\"Toggle Jupyter input on/off\">\n",
       "            </form>\n",
       "        "
      ],
      "text/plain": [
       "<IPython.core.display.HTML object>"
      ]
     },
     "metadata": {},
     "output_type": "display_data"
    }
   ],
   "source": [
    "# Magics\n",
    "\n",
    "# load magic\n",
    "%reload_ext inputtoggle\n",
    "\n",
    "# toggle input\n",
    "%inputtoggle"
   ]
  },
  {
   "cell_type": "code",
   "execution_count": 3,
   "id": "cae94484",
   "metadata": {},
   "outputs": [],
   "source": [
    "# Python, IPython\n",
    "\n",
    "# import Python modules\n",
    "import sys\n",
    "import numpy as np\n",
    "import functools as ft\n",
    "\n",
    "# import IPython modules\n",
    "from IPython import display as dsp\n",
    "import ipywidgets as ipw\n",
    "from ipywidgets import interact, interactive, interactive_output"
   ]
  },
  {
   "cell_type": "code",
   "execution_count": 4,
   "id": "ed7afd53",
   "metadata": {},
   "outputs": [],
   "source": [
    "# Matplotlib\n",
    "\n",
    "# set default parameters \n",
    "import matplotlib as mpl\n",
    "mpl.rcParams['font.size'] = 11             # same font size as the LaTeX document\n",
    "mpl.rcParams['text.usetex'] = True         # use latex throughout\n",
    "mpl.rcParams['ps.usedistiller'] = 'xpdf'   # for production quality\n",
    "\n",
    "# set API\n",
    "from matplotlib import pyplot as plt       # use Matlab-like API\n",
    "\n",
    "# set backend (ipympl integrates interactive features into Jupyter)\n",
    "%matplotlib widget"
   ]
  },
  {
   "cell_type": "code",
   "execution_count": 5,
   "id": "38e2c4ac",
   "metadata": {},
   "outputs": [],
   "source": [
    "# User-Defined Python \n",
    "\n",
    "# import notebook-specific functions\n",
    "import avo_for_density as afd"
   ]
  },
  {
   "cell_type": "code",
   "execution_count": 6,
   "id": "22c2b717",
   "metadata": {},
   "outputs": [],
   "source": [
    "# define an input box for the S-to-P velocity ratio\n",
    "vps_box = (\n",
    "    ipw.BoundedFloatText(\n",
    "        description=\"P-to-S velocity ratio\", value=1./afd.para['vsp'], min=0., step=0.1, max=sys.float_info.max))"
   ]
  },
  {
   "cell_type": "markdown",
   "id": "996e7e3b",
   "metadata": {},
   "source": [
    "# <center> Elements of Seismic Data Processing: </center>\n",
    "\n",
    "# <center> AVO Inversion for Density </center>\n",
    "\n",
    "# <center> Björn E. Rommel </center>"
   ]
  },
  {
   "cell_type": "markdown",
   "id": "3ec9ea2f",
   "metadata": {},
   "source": [
    "## The Forward Problem\n",
    "\n",
    "Commonly, the \"forward problem\" means simulating a physical process: we start with a model of reality, and then we calculate (observable) data based on the mathematical description of a physical law. Here, a plane wave impinging on an interface is reflected, partially transmitted, and the respective reflection / transmission coefficients are described by the Zoeppritz equation. \n",
    "\n",
    "The Zoeppritz equation depend on the seismic properties P-velocity, S-velocity and density on either side of the interface. For the sake of a better intuitive understand, and simplicity of computations, the Zoeppritz equation are commonly linearized in terms of small differences in seismic properties from their respective \"background\" (or average) medium. Then, a first-order linearized AVA depends on the normalized contrasts of seismic properties, the P-to-S velocity ratio of the background, and the incidence angles.\n",
    "\n",
    "### Input of Seismic Properties\n",
    "\n",
    "Nonetheless, traditionally, seismic properties, not their normalized contrasts, are input, as follows.\n",
    "\n",
    "Tip: You can skip inputting these seismic properties, if you don't want to see a theoretical AVA curve, but to jump ahead to an AVA inversion."
   ]
  },
  {
   "cell_type": "code",
   "execution_count": 7,
   "id": "b263b96a",
   "metadata": {},
   "outputs": [
    {
     "data": {
      "text/markdown": [
       "#### Top Halfspace:"
      ],
      "text/plain": [
       "<IPython.core.display.Markdown object>"
      ]
     },
     "metadata": {},
     "output_type": "display_data"
    },
    {
     "data": {
      "application/vnd.jupyter.widget-view+json": {
       "model_id": "551c81731f1247888d06cb9b6c54071f",
       "version_major": 2,
       "version_minor": 0
      },
      "text/plain": [
       "GridBox(children=(BoundedFloatText(value=2000.0, description='P-velocity', max=9.223372036854776e+18, step=10.…"
      ]
     },
     "metadata": {},
     "output_type": "display_data"
    },
    {
     "data": {
      "text/markdown": [
       "#### Bottom Halfspace:"
      ],
      "text/plain": [
       "<IPython.core.display.Markdown object>"
      ]
     },
     "metadata": {},
     "output_type": "display_data"
    },
    {
     "data": {
      "application/vnd.jupyter.widget-view+json": {
       "model_id": "0ca7270cf7354137b0f1bf96a0f25397",
       "version_major": 2,
       "version_minor": 0
      },
      "text/plain": [
       "GridBox(children=(BoundedFloatText(value=2500.0, description='P-velocity', max=9.223372036854776e+18, step=10.…"
      ]
     },
     "metadata": {},
     "output_type": "display_data"
    },
    {
     "data": {
      "application/vnd.jupyter.widget-view+json": {
       "model_id": "332d88c6d4104e25815985e8641d1ee3",
       "version_major": 2,
       "version_minor": 0
      },
      "text/plain": [
       "Output()"
      ]
     },
     "metadata": {},
     "output_type": "display_data"
    }
   ],
   "source": [
    "# write top halfspace\n",
    "display(dsp.Markdown(\"#### Top Halfspace:\"))\n",
    "\n",
    "# define input boxes for vp, vs, and rho in the top halfspace\n",
    "vp1_box = ipw.BoundedFloatText(description=\"P-velocity\", value=afd.VP1, min=0, step=10, max=sys.maxsize)\n",
    "vs1_box = ipw.BoundedFloatText(description=\"S-velocity\", value=afd.VS1, min=0, step=10, max=sys.maxsize)\n",
    "rho1_box = ipw.BoundedFloatText(description=\"density\", value=afd.RHO1, min=0, step=10, max=sys.maxsize)\n",
    "    \n",
    "# group input boxes into a horizontal row\n",
    "top_box = ipw.GridBox(\n",
    "    [vp1_box, vs1_box, rho1_box], \n",
    "    layout=ipw.Layout(grid_template_columns=\"repeat(3, 300px)\"))\n",
    "display(top_box)\n",
    "\n",
    "\n",
    "# enforce stability criteria\n",
    "def update_vp1_box(*args):\n",
    "    global vp1_box\n",
    "    if np.isfinite(vp1_box.value):\n",
    "        if vp1_box.value <= 0.:\n",
    "            print('top medium: vp < 0!')\n",
    "            vp1_box.value = np.NAN\n",
    "        if vp1_box.value <= np.sqrt(8. / 3.) * vs1_box.value:\n",
    "            print('top medium: vp < sqrt(8 / 3) * vs!')\n",
    "            vp1_box.value = np.NAN\n",
    "vp1_box.observe(update_vp1_box, 'value')\n",
    "\n",
    "def update_vs1_box(*args):\n",
    "    global vs1_box\n",
    "    if np.isfinite(vs1_box.value):\n",
    "        if vs1_box.value <= 0.:\n",
    "            print('top medium: vs < 0!')\n",
    "            vs1_box.value = np.NAN\n",
    "        if vs1_box.value >= np.sqrt(3. / 8.) * vp1_box.value:\n",
    "            print('top medium: vs > sqrt(3 / 8) * vp!')\n",
    "            vs1_box.value = np.NAN\n",
    "vs1_box.observe(update_vs1_box, 'value')\n",
    "\n",
    "def update_rho1_box(*args):\n",
    "    global rho1_box\n",
    "    if np.isfinite(rho1_box.value):\n",
    "        if rho1_box.value <= 0.:\n",
    "            print('top medium: rho < 0!')\n",
    "            rho1_box.value = np.NAN\n",
    "rho1_box.observe(update_rho1_box, 'value')\n",
    "\n",
    "\n",
    "# write bottom halfspace\n",
    "display(dsp.Markdown(\"#### Bottom Halfspace:\"))\n",
    "\n",
    "# define input boxes for vs, vs, and rho in the bottom halfspace\n",
    "vp2_box = ipw.BoundedFloatText(description=\"P-velocity\", value=afd.VP2, min=0, step=10, max=sys.maxsize)\n",
    "vs2_box = ipw.BoundedFloatText(description=\"S-velocity\", value=afd.VS2, min=0, step=10, max=sys.maxsize)\n",
    "rho2_box = ipw.BoundedFloatText(description=\"density\", value=afd.RHO2, min=0, step=10, max=sys.maxsize)\n",
    "\n",
    "# group input boxes into a horizontal row\n",
    "bot_box = ipw.GridBox(\n",
    "    [vp2_box, vs2_box, rho2_box], \n",
    "    layout=ipw.Layout(grid_template_columns=\"repeat(3, 300px)\"))\n",
    "display(bot_box)\n",
    "\n",
    "\n",
    "# enforce stability criteria\n",
    "def update_vp2_box(*args):\n",
    "    global vp2_box\n",
    "    if np.isfinite(vp2_box.value):\n",
    "        if vp2_box.value <= 0.:\n",
    "            print('bottom medium: vp < 0!')\n",
    "            vp2_box.value = np.NAN\n",
    "        if vp2_box.value <= np.sqrt(8. / 3.) * vs2_box.value:\n",
    "            print('bottom medium: vp < sqrt(8 / 3) * vs!')\n",
    "            vp2_box.value = np.NAN\n",
    "vp2_box.observe(update_vp2_box, 'value')\n",
    "\n",
    "def update_vs2_box(*args):\n",
    "    global vs2_box\n",
    "    if np.isfinite(vs2_box.value):\n",
    "        if vs2_box.value <= 0.:\n",
    "            print('bottom medium: vs < 0!')\n",
    "            vs2_box.value = np.NAN\n",
    "        if vs2_box.value >= np.sqrt(3. / 8.) * vp2_box.value:\n",
    "            print('bottom medium: vs > sqrt(3 / 8) * vp!')\n",
    "            vs2_box.value = np.NAN\n",
    "vs2_box.observe(update_vs2_box, 'value')\n",
    "\n",
    "def update_rho2_box(*args):\n",
    "    global rho2_box\n",
    "    if np.isfinite(rho2_box.value):\n",
    "        if rho2_box.value <= 0.:\n",
    "            print('bottom medium: rho < 0!')\n",
    "            rho2_box.value = np.NAN\n",
    "rho2_box.observe(update_rho2_box, 'value')\n",
    "\n",
    "\n",
    "# calculate prior model and S-to-P velocity ratio\n",
    "def update_model(**kwargs):\n",
    "    # check all properties are setafd.get_medium(vp=kwargs['vp1'])\n",
    "    if not np.any([np.isnan(kwargs[prop]) for prop in ['vp1', 'vs1', 'rho1', 'vp2', 'vs2', 'rho2']]):\n",
    "        # set up the top model\n",
    "        afd.get_medium(halfspace='top', text='top', vp=kwargs['vp1'], vs=kwargs['vs1'], rho=kwargs['rho1'])\n",
    "        # set up the bottom model\n",
    "        afd.get_medium(halfspace='bot', text='bottom', vp=kwargs['vp2'], vs=kwargs['vs2'], rho=kwargs['rho2'])\n",
    "        # set up the background model\n",
    "        afd.get_back(mode='COEFF-DATA-AVA-')\n",
    "        # calculate the S-to-P velocity ratio\n",
    "        afd.get_para()\n",
    "        vps_box.value = 1. / afd.para['vsp']\n",
    "        # compute the prior contrast\n",
    "        afd.get_precon(mode='COEFF-DATA-AVA-')\n",
    "        # compute the prior model\n",
    "        afd.get_prior(mode='COEFF-DATA-AVA-')\n",
    "\n",
    "\n",
    "# interact with input boxes and call for AVA calculation and curve preparation\n",
    "out=interactive_output(\n",
    "    update_model,\n",
    "    {'vp1': vp1_box, 'vs1': vs1_box, 'rho1': rho1_box, 'vp2': vp2_box, 'vs2': vs2_box, 'rho2': rho2_box})\n",
    "display(out)"
   ]
  },
  {
   "cell_type": "markdown",
   "id": "1f9c048c",
   "metadata": {},
   "source": [
    "### P-to-S Velocity Ratio\n",
    "\n",
    "The P-to-S velocity ratio, or internally rather its inverse, is required for both the forward and inverse problem. If all seismic properties are input above, the P-to-S velocity ratio is automatically populated, but it can be overridden in the following; otherwise, the P-to-S velocity ratio must be input next.  "
   ]
  },
  {
   "cell_type": "code",
   "execution_count": 8,
   "id": "8349a942",
   "metadata": {},
   "outputs": [
    {
     "data": {
      "application/vnd.jupyter.widget-view+json": {
       "model_id": "dbe99968a31f4db3b3c41ad12f04b2fc",
       "version_major": 2,
       "version_minor": 0
      },
      "text/plain": [
       "interactive(children=(BoundedFloatText(value=1.6666666666666667, description='P-to-S velocity ratio', max=1.79…"
      ]
     },
     "metadata": {},
     "output_type": "display_data"
    }
   ],
   "source": [
    "# interact with vps box\n",
    "@interact(vps=vps_box)\n",
    "def vsp_update(**kwargs):\n",
    "    # update S-to-P velocity ratio\n",
    "    afd.get_para(vps=kwargs['vps'])"
   ]
  },
  {
   "cell_type": "markdown",
   "id": "7a9a8658",
   "metadata": {},
   "source": [
    "### AVA Curve\n",
    "\n",
    "Finally, the theoretical AVA curve can be calculated and displayed. "
   ]
  },
  {
   "cell_type": "code",
   "execution_count": 9,
   "id": "b2a6220b",
   "metadata": {
    "scrolled": false
   },
   "outputs": [
    {
     "data": {
      "application/vnd.jupyter.widget-view+json": {
       "model_id": "e7fa3cbac91a485c829258856e385bf8",
       "version_major": 2,
       "version_minor": 0
      },
      "text/plain": [
       "Output()"
      ]
     },
     "metadata": {},
     "output_type": "display_data"
    }
   ],
   "source": [
    "# calculate and display an AVA curve based on a prior model\n",
    "def ava_update(**kwargs):\n",
    "    # check all properties are set\n",
    "    # (note, an AVA curve depends strictly on the prior model and the S-to-P velocity ratio)\n",
    "    if not (np.any(np.isnan(afd.prior['mod'])) or np.isnan(afd.para['vsp'])):\n",
    "        # initialize figure \n",
    "        afd.init_plot(num=1, title='AVA Curve')   # figure number hard-wired \n",
    "        # calculate AVA points for the given prior model\n",
    "        afd.comp_coeff(mode='COEFF')  \n",
    "        # create a figure based on those AVA points\n",
    "        afd.plot_all(mode='COEFF')      \n",
    "        # exit figure\n",
    "        afd.exit_plot(env=afd.PLOTENVIRONMENT)\n",
    "\n",
    "# interact with input boxes and call the above AVA calculation and display\n",
    "# (note, any change in any one of the following boxes already triggers a re-calcuation of the prior model or the S-to-P\n",
    "# velocity ratio: vp1, vp2, vs1, vs2)\n",
    "ava_box = interactive_output(ava_update, {'rho1': rho1_box, 'rho2': rho2_box, 'vps': vps_box})\n",
    "\n",
    "# display AVA curve\n",
    "display(ava_box)"
   ]
  },
  {
   "cell_type": "markdown",
   "id": "a6009fb3",
   "metadata": {},
   "source": [
    "## The Inverse Problem\n",
    "\n",
    "The \"inverse problem\" is the opposite, that is inferring a model from available data. \"Bayes's theory\" of inversion aims to optimize that inference: based on already a-priori available information about the model, an estimate of the uncertainty of such prior information, and further based on an estimate of data quality, Bayes theory provides the optimal a-posteriori information possible.\n",
    "\n",
    "In AVA inversion, here, the normalized contrasts make up the \"model\" in a Bayesian sense: as said, the properties to invert for. Hence, in a Bayesian context, the \"prior model\" comprises all information we have already derived from, e.g., a velocity analysis; and the \"prior uncertainty\" is the uncertainty with which we can perform a velocity analysis. \n",
    "\n",
    "The \"parameters\" in an AVA inversion are the P-to-S velocity ratio and the incidence angles. For now, let's assume, we know these parameters with zero uncertainty, although, admittedly, such accuracy will never be possible in practice.\n",
    "\n",
    "Then, the \"data\" are the reflection / transmission coefficients. Here, the terms coefficients and \"amplitude\" are often mixed up: AVA-inversion requires the coefficients or normalized amplitudes, that is the amplitude ratio of a wave after and before reflection / transmission. True-amplitude processing seems elusive in practice, but that uncertainty is part of the \"data uncertainty.\"\n",
    "\n",
    "Tip: Re-run this cell to make the figure active. This is because Matplotlib keeps the last figure active, and so any interactive input will be plotted in that figure. The data -- amplitude over incidence angle -- can be input directly in the below figure. The order in which the data are input does not matter. You only need to click on the respective point in the display; the actual cursor position is shown at the bottom of the figure.\n",
    "\n",
    "Tip: Due to a bug in Jupyter, I cannot make it accept double clicks for entering data points. And, so, single clicks are used for both the figure ornaments and data points. Hence, your best bet for now, don't change the figure layout."
   ]
  },
  {
   "cell_type": "code",
   "execution_count": 10,
   "id": "07d02cc4",
   "metadata": {},
   "outputs": [
    {
     "data": {
      "application/vnd.jupyter.widget-view+json": {
       "model_id": "b9e04ed2fd0f4989b8d94b1945e629ef",
       "version_major": 2,
       "version_minor": 0
      },
      "text/plain": [
       "Button(button_style='info', description='focus', style=ButtonStyle(), tooltip='focus on classical AVA inversio…"
      ]
     },
     "metadata": {},
     "output_type": "display_data"
    },
    {
     "data": {
      "application/vnd.jupyter.widget-view+json": {
       "model_id": "0c2fc3f6be394edaa33b2e5a0b1bda8d",
       "version_major": 2,
       "version_minor": 0
      },
      "text/plain": [
       "Output()"
      ]
     },
     "metadata": {},
     "output_type": "display_data"
    },
    {
     "data": {
      "application/vnd.jupyter.widget-view+json": {
       "model_id": "7e2743a533bb4754ae31d005a3776591",
       "version_major": 2,
       "version_minor": 0
      },
      "text/plain": [
       "Button(button_style='info', description='print', style=ButtonStyle(), tooltip='print posterior model')"
      ]
     },
     "metadata": {},
     "output_type": "display_data"
    },
    {
     "data": {
      "application/vnd.jupyter.widget-view+json": {
       "model_id": "2b901aaed6764532be12a069c752bcba",
       "version_major": 2,
       "version_minor": 0
      },
      "text/plain": [
       "Output()"
      ]
     },
     "metadata": {},
     "output_type": "display_data"
    },
    {
     "data": {
      "application/vnd.jupyter.widget-view+json": {
       "model_id": "e684c9bfc39d438d8868f5e9458e861e",
       "version_major": 2,
       "version_minor": 0
      },
      "image/png": "[encoded data removed]",
      "text/html": [
       "\n",
       "            <div style=\"display: inline-block;\">\n",
       "                <div class=\"jupyter-widgets widget-label\" style=\"text-align: center;\">\n",
       "                    Figure\n",
       "                </div>\n",
       "                <img src='data:image/png;base64,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' width=640.0/>\n",
       "            </div>\n",
       "        "
      ],
      "text/plain": [
       "Canvas(toolbar=Toolbar(toolitems=[('Home', 'Reset original view', 'home', 'home'), ('Back', 'Back to previous …"
      ]
     },
     "metadata": {},
     "output_type": "display_data"
    }
   ],
   "source": [
    "# define a focus button\n",
    "def classbutton_action(*args):\n",
    "    # set figure\n",
    "    plt.figure(num=2)\n",
    "    # wake up Jupyter\n",
    "    pass\n",
    "\n",
    "# interact with focus button\n",
    "classbutton =  ipw.Button(description = 'focus', button_style = 'info', tooltip = 'focus on classical AVA inversion')\n",
    "display(classbutton)\n",
    "classbutton.on_click(classbutton_action)\n",
    "\n",
    "\n",
    "# input AVA data points and calculate best-fitting AVA curve\n",
    "def class_update(**kwargs):\n",
    "    # check all properties are set\n",
    "    if not np.isnan(afd.para['vsp']):\n",
    "        # initialize figure\n",
    "        afd.init_plot(num=2, title='Classical AVA Inversion')\n",
    "        # calculate AVA points for the given prior model\n",
    "        afd.comp_coeff(mode='COEFF-')\n",
    "        # re-plot old data and AVA curve\n",
    "        if afd.data['nos'] >= 3:\n",
    "            # re-invert data to posterior model \n",
    "            # (in case inversion method has changed w/o uncertainty or prior model)\n",
    "            afd.invert_ava(mode='COEFF-DATA-AVA-')\n",
    "            # re-calculate AVA curve from the posterior model\n",
    "            afd.comp_post_ava()\n",
    "            # re-plot old data and corresponding AVA curve\n",
    "            afd.replot_data_ava(mode='COEFF-DATA-AVA-', num=2)\n",
    "        # catch new data points, invert all data points, and plot an AVA curve based on the new posterior model\n",
    "        afd.plot_all(mode='COEFF-DATA-AVA-', num=2)        \n",
    "\n",
    "# interact with input boxes and call for AVA calculation and curve\n",
    "class_box = interactive_output(class_update, {'vps': vps_box})\n",
    "\n",
    "# display AVA curve\n",
    "display(class_box)\n",
    "\n",
    "\n",
    "# define print output\n",
    "out = ipw.Output()   # https://ipywidgets.readthedocs.io/en/latest/examples/Output%20Widget.html\n",
    "\n",
    "# define a print button\n",
    "def printbutton_action(b,out):\n",
    "    # print\n",
    "    with out:\n",
    "        out.clear_output()\n",
    "        _ = afd.printout['COEFF-DATA-AVA-'](text='posterior model', vals=afd.post)\n",
    "        _ = afd.printout['COEFF-DATA-AVA-'](text='posterior contrast', vals=afd.poscon)\n",
    "\n",
    "# interact with print button\n",
    "printbutton =  ipw.Button(description = 'print', button_style = 'info', tooltip = 'print posterior model')\n",
    "display(printbutton)\n",
    "printbutton.on_click(ft.partial(printbutton_action, out=out))\n",
    "\n",
    "# display print output\n",
    "display(out)"
   ]
  },
  {
   "cell_type": "markdown",
   "id": "089a49dd",
   "metadata": {},
   "source": [
    "### Prior Model Uncertainty\n",
    "\n",
    "Let's take the prior model as above, and input only the prior uncertainty. Admittedly, estimating prior uncertainty is in itself another Bayesian problem. \n",
    "\n",
    "Tip: However, recall, a distribution of random numbers is almost entirely contained within 3 times its standard deviation (STD): so, estimate the maximum error of, e.g., our velocity analysis and devide that value by 3 to obtain the prior uncertainty expressed in terms of its standard deviation. Not perfect, but good enough for a first gestimate."
   ]
  },
  {
   "cell_type": "code",
   "execution_count": 11,
   "id": "9beac51e",
   "metadata": {
    "scrolled": false
   },
   "outputs": [
    {
     "data": {
      "text/markdown": [
       "#### Top Halfspace:"
      ],
      "text/plain": [
       "<IPython.core.display.Markdown object>"
      ]
     },
     "metadata": {},
     "output_type": "display_data"
    },
    {
     "data": {
      "application/vnd.jupyter.widget-view+json": {
       "model_id": "1fcb6c77fe3842eab11694072b40dc73",
       "version_major": 2,
       "version_minor": 0
      },
      "text/plain": [
       "GridBox(children=(BoundedFloatText(value=20.0, description='P-velocity +/-', max=9.223372036854776e+18, step=1…"
      ]
     },
     "metadata": {},
     "output_type": "display_data"
    },
    {
     "data": {
      "text/markdown": [
       "#### Bottom Halfspace:"
      ],
      "text/plain": [
       "<IPython.core.display.Markdown object>"
      ]
     },
     "metadata": {},
     "output_type": "display_data"
    },
    {
     "data": {
      "application/vnd.jupyter.widget-view+json": {
       "model_id": "fcd804c81b68403c8a3bed3ab932c93f",
       "version_major": 2,
       "version_minor": 0
      },
      "text/plain": [
       "GridBox(children=(BoundedFloatText(value=25.0, description='P-velocity +/-', max=9.223372036854776e+18, step=1…"
      ]
     },
     "metadata": {},
     "output_type": "display_data"
    },
    {
     "data": {
      "application/vnd.jupyter.widget-view+json": {
       "model_id": "a1cb043ea0704edba48534583a890699",
       "version_major": 2,
       "version_minor": 0
      },
      "text/plain": [
       "Output()"
      ]
     },
     "metadata": {},
     "output_type": "display_data"
    }
   ],
   "source": [
    "# write subtitle for the top halfspace\n",
    "display(dsp.Markdown(\"#### Top Halfspace:\"))\n",
    "\n",
    "# write input boxes for seismic properties in the top halfspace\n",
    "dvp1_box = ipw.BoundedFloatText(description=\"P-velocity +/-\", value=afd.DVP1, min=0, step=1, max=sys.maxsize)\n",
    "dvs1_box = ipw.BoundedFloatText(description=\"S-velocity +/-\", value=afd.DVS1, min=0, step=1, max=sys.maxsize)\n",
    "drho1_box = ipw.BoundedFloatText(description=\"density +/-\", value=afd.DRHO1, min=0, step=1, max=sys.maxsize)\n",
    "\n",
    "# line up input boxes for the top halfspace and display\n",
    "dtop_box = ipw.GridBox(\n",
    "    [dvp1_box, dvs1_box, drho1_box], \n",
    "    layout=ipw.Layout(grid_template_columns=\"repeat(3, 300px)\"))\n",
    "display(dtop_box)\n",
    "\n",
    "# write subtitle for the bottom halfspace\n",
    "display(dsp.Markdown(\"#### Bottom Halfspace:\"))\n",
    "\n",
    "# write input boxes for seismic properties in the bottom halfspace\n",
    "\n",
    "dvp2_box = ipw.BoundedFloatText(description=\"P-velocity +/-\", value=afd.DVP2, min=0, step=1, max=sys.maxsize)\n",
    "dvs2_box = ipw.BoundedFloatText(description=\"S-velocity +/-\", value=afd.DVS2, min=0, step=1, max=sys.maxsize)\n",
    "drho2_box = ipw.BoundedFloatText(description=\"density +/-\", value=afd.DRHO2, min=0, step=1, max=sys.maxsize)\n",
    "\n",
    "# line up input boxes for the bottom halfspace and display\n",
    "dbot_box = ipw.GridBox(\n",
    "    [dvp2_box, dvs2_box, drho2_box], \n",
    "    layout=ipw.Layout(grid_template_columns=\"repeat(3, 300px)\"))\n",
    "display(dbot_box)\n",
    "\n",
    "# update P-to-S velocity ratio, prior model and coefficients\n",
    "def update_model(**kwargs):\n",
    "    # check all properties are setafd.get_medium(vp=kwargs['vp1'])\n",
    "    if not np.any([np.isnan(kwargs[prop]) for prop in ['dvp1', 'dvs1', 'drho1', 'dvp2', 'dvs2', 'drho2']]):\n",
    "        # set up the top model\n",
    "        afd.get_medium(halfspace='top', text='top', dvp=kwargs['dvp1'], dvs=kwargs['dvs1'], drho=kwargs['drho1'])\n",
    "        # set up the bottom model\n",
    "        afd.get_medium(halfspace='bot', text='bottom', dvp=kwargs['dvp2'], dvs=kwargs['dvs2'], drho=kwargs['drho2'])\n",
    "        # set up the background model\n",
    "        afd.get_back()\n",
    "        # calculate parameters as, here, the S-to-P velocity ratio\n",
    "        afd.get_para()\n",
    "        # compute prior contrast\n",
    "        afd.get_precon(mode='COEFF+DATA+AVA+')\n",
    "        # compute the prior\n",
    "        afd.get_prior(mode='COEFF+DATA+AVA+')\n",
    "        \n",
    "    \n",
    "# interact with all input boxes\n",
    "out = interactive_output(\n",
    "    update_model, \n",
    "    {'dvp1': dvp1_box, 'dvs1': dvs1_box, 'drho1': drho1_box, 'dvp2': dvp2_box, 'dvs2': dvs2_box, 'drho2': drho2_box})\n",
    "display(out)"
   ]
  },
  {
   "cell_type": "markdown",
   "id": "4de34146",
   "metadata": {},
   "source": [
    "### Data Uncertainty\n",
    "\n",
    "\"Data uncertainty\", in a Bayesian sense, is the standard deviation (STD) of ambient noise contaminating the data, thereby assuming noise samples are normally distributed.\n",
    "\n",
    "However, the signal-to-noise ratio (SNR) is more popular. Here, the signal-to-noise ratio (SNR) is defined as the ratio of a wavelet's amplitude (A) and the standard deviation (STD) of ambient noise. The graph shows the superposition of a triangular wavelet with amplitude 1.0 and a realization of random noise with the requested STD (by definition, STD = A * SNR). \n",
    "\n",
    "Tip: Adjust the signal-to-noise ratio until the amount of noise appear similar to your data."
   ]
  },
  {
   "cell_type": "code",
   "execution_count": 12,
   "id": "3f83b993",
   "metadata": {},
   "outputs": [
    {
     "data": {
      "application/vnd.jupyter.widget-view+json": {
       "model_id": "f105585783f54eecad1ca6767fcba24d",
       "version_major": 2,
       "version_minor": 0
      },
      "text/plain": [
       "Button(button_style='info', description='update', style=ButtonStyle(), tooltip='update the signal-to-noise rat…"
      ]
     },
     "metadata": {},
     "output_type": "display_data"
    },
    {
     "data": {
      "application/vnd.jupyter.widget-view+json": {
       "model_id": "6af4f1b4b6e940898c64aa79c24a7a1e",
       "version_major": 2,
       "version_minor": 0
      },
      "text/plain": [
       "BoundedFloatText(value=3.0, description='signal-to-noise', max=9.223372036854776e+18, min=0.1, step=0.1)"
      ]
     },
     "metadata": {},
     "output_type": "display_data"
    },
    {
     "data": {
      "application/vnd.jupyter.widget-view+json": {
       "model_id": "35a8130f644a4316b8c4e9b77fe5b4b5",
       "version_major": 2,
       "version_minor": 0
      },
      "text/plain": [
       "Output()"
      ]
     },
     "execution_count": 12,
     "metadata": {},
     "output_type": "execute_result"
    }
   ],
   "source": [
    "# define an update button\n",
    "def snrbutton_action(*args):\n",
    "    # wake up Jupyter\n",
    "    pass\n",
    "\n",
    "# interact with update button\n",
    "snrbutton =  ipw.Button(description = 'update', button_style = 'info', tooltip = 'update the signal-to-noise ratio')\n",
    "display(snrbutton)\n",
    "snrbutton.on_click(snrbutton_action)\n",
    "\n",
    "\n",
    "# define the input box for the signal-to-noise ratio\n",
    "snr_box = ipw.BoundedFloatText(description=\"signal-to-noise\", value=afd.SNR, min=0.1, step=0.1, max=sys.maxsize)\n",
    "display(snr_box)\n",
    "\n",
    "# display wavelet with ambient noise at the given signal-to-noise ratio\n",
    "def snr_update(**kwargs):\n",
    "    global snr_box\n",
    "    afd.get_data(snr=kwargs['snr'])\n",
    "\n",
    "# interact with input boxes and call for AVA calculation and curve preparation\n",
    "interactive_output(snr_update, {'snr': snr_box})"
   ]
  },
  {
   "cell_type": "code",
   "execution_count": 13,
   "id": "5df49d38",
   "metadata": {
    "scrolled": false
   },
   "outputs": [
    {
     "data": {
      "application/vnd.jupyter.widget-view+json": {
       "model_id": "02ac6f905f9f41a29911d938d1b06cd4",
       "version_major": 2,
       "version_minor": 0
      },
      "text/plain": [
       "Button(button_style='info', description='repeat', style=ButtonStyle(), tooltip='repeat wavelet')"
      ]
     },
     "metadata": {},
     "output_type": "display_data"
    },
    {
     "data": {
      "application/vnd.jupyter.widget-view+json": {
       "model_id": "23b4fb8ea6764f1a9657e8081e16cec9",
       "version_major": 2,
       "version_minor": 0
      },
      "text/plain": [
       "Output()"
      ]
     },
     "metadata": {},
     "output_type": "display_data"
    }
   ],
   "source": [
    "# define repeat function\n",
    "def wvl_repeat(*args, **kwargs):\n",
    "    afd.mk_wavelet(name='triangle', hwd=10, num=3)\n",
    "    afd.exit_plot(env=afd.CANVASENVIRONMENT)\n",
    "\n",
    "# interact with repeat button\n",
    "wvlbutton =  ipw.Button(description = 'repeat', button_style = 'info', tooltip = 'repeat wavelet')\n",
    "display(wvlbutton)\n",
    "wvlbutton.on_click(wvl_repeat)\n",
    "\n",
    "\n",
    "# display wavelet with ambient noise at the given signal-to-noise ratio\n",
    "def wvl_update(*args, **kwargs):\n",
    "    afd.init_plot(num=3)\n",
    "    afd.mk_wavelet(name='triangle', hwd=10, num=3)\n",
    "    afd.exit_plot(env=afd.PLOTENVIRONMENT)\n",
    "\n",
    "    \n",
    "# interact with the signal-to-noise ratio box\n",
    "wvl_box = interactive_output(wvl_update, {'snr': snr_box})\n",
    "\n",
    "# display AVA curve\n",
    "display(wvl_box)"
   ]
  },
  {
   "cell_type": "markdown",
   "id": "70cd650b",
   "metadata": {},
   "source": [
    "## Bayesian AVA Inversion\n",
    "\n",
    "Bayesian AVA inversion strikes an optimal balance between prior information and data -- that is, here, the prior model of normalized property contrasts and normalized reflection coefficients. Thereby, both sets of information are weighted according to their respective covariances.\n",
    "\n",
    "Note, the algorithm is robust, but its results are sensible only if, firstly, the assumptions behind \"linearized AVA inversion\" -- that is, small property contrasts -- are met, and, secondly, prior information and data are consistent. \"Consistent\" means, in turn, two physical important properties: Firstly, the data are normally distributed around the exact normalized reflection coefficients that would have been generated by a wave propagating in the true model. Fortunately, each seismic experiment yields multiple realizations -- in statistical language -- of reflection coefficients. In contrast, the prior model is but one realization of the true model. Only if we were to repeat the seismic experiment multiple times, and do so independently of each other, could we speak of multiple realizations of a prior model. Of course, that is not going to happen. At most, we could generate multiple realization of a prior model during seismic processing and repeat the inversion. So, instead, and secondly, we simply assume the prior model to be sufficiently close to the true model. \n",
    "\n",
    "Tip: The below figure shows a band of reflection coefficients generated for the prior model. Given the caveats above, the data error bars must be distributed across that band in a Gaussian sense. An unbalanced distribution of data points is a sure indication the prior model might be too far off the true model. Of course, theoretically, it can happen, but, then, do repeat the exercise with a set of normally distributed prior models and build a distribution of posterior models."
   ]
  },
  {
   "cell_type": "code",
   "execution_count": 14,
   "id": "680b8976",
   "metadata": {},
   "outputs": [
    {
     "data": {
      "application/vnd.jupyter.widget-view+json": {
       "model_id": "4fe0971ac15c4baaa6b0764817493229",
       "version_major": 2,
       "version_minor": 0
      },
      "text/plain": [
       "Button(button_style='info', description='focus', style=ButtonStyle(), tooltip='focus on Bayesian AVA inversion…"
      ]
     },
     "metadata": {},
     "output_type": "display_data"
    },
    {
     "data": {
      "application/vnd.jupyter.widget-view+json": {
       "model_id": "bc2b35b86d64469b905d67fc969dcb62",
       "version_major": 2,
       "version_minor": 0
      },
      "text/plain": [
       "Output()"
      ]
     },
     "metadata": {},
     "output_type": "display_data"
    },
    {
     "data": {
      "application/vnd.jupyter.widget-view+json": {
       "model_id": "8e308a741aa34cafaa92c9a4f174f6f7",
       "version_major": 2,
       "version_minor": 0
      },
      "text/plain": [
       "Button(button_style='info', description='print', style=ButtonStyle(), tooltip='print posterior model')"
      ]
     },
     "metadata": {},
     "output_type": "display_data"
    },
    {
     "data": {
      "application/vnd.jupyter.widget-view+json": {
       "model_id": "ad7dc570ee6342ba8aacde2605029503",
       "version_major": 2,
       "version_minor": 0
      },
      "text/plain": [
       "Output()"
      ]
     },
     "metadata": {},
     "output_type": "display_data"
    },
    {
     "data": {
      "application/vnd.jupyter.widget-view+json": {
       "model_id": "889e5fd39d474264910172eafe218732",
       "version_major": 2,
       "version_minor": 0
      },
      "image/png": "[encoded data removed]",
      "text/html": [
       "\n",
       "            <div style=\"display: inline-block;\">\n",
       "                <div class=\"jupyter-widgets widget-label\" style=\"text-align: center;\">\n",
       "                    Figure\n",
       "                </div>\n",
       "                <img src='data:image/png;base64,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' width=640.0/>\n",
       "            </div>\n",
       "        "
      ],
      "text/plain": [
       "Canvas(toolbar=Toolbar(toolitems=[('Home', 'Reset original view', 'home', 'home'), ('Back', 'Back to previous …"
      ]
     },
     "metadata": {},
     "output_type": "display_data"
    }
   ],
   "source": [
    "# define a focus button\n",
    "def bayesbutton_action(*args):\n",
    "    # set figure\n",
    "    plt.figure(num=4)\n",
    "    # wake up Jupyter\n",
    "    pass\n",
    "\n",
    "# interact with focus button\n",
    "bayesbutton =  ipw.Button(description = 'focus', button_style = 'info', tooltip = 'focus on Bayesian AVA inversion')\n",
    "display(bayesbutton)\n",
    "bayesbutton.on_click(bayesbutton_action)\n",
    "\n",
    "\n",
    "# input AVA data points and calculate best-fitting AVA curve\n",
    "def bayes_update(**kwargs):\n",
    "    # check all properties are set\n",
    "    if not (                                        # not any of the following:\n",
    "            np.isnan(afd.para['vsp']) or            # signal-to-noise ratio found in the reflection matrix NAN\n",
    "            np.isnan(afd.data['std']) or            # data uncertainty (blown up to data covariance) NAN\n",
    "            np.any(np.isnan(afd.prior['std'])) or   # any prior component uncertainty (blown up to prior covariance) NAN\n",
    "            np.any(np.isnan(afd.prior['mod']))):    # any prior model component NAN\n",
    "        # initialize figure \n",
    "        afd.init_plot(num=4, title='Bayesian AVA Inversion') \n",
    "        # calculate the AVA curve from the prior model\n",
    "        afd.comp_coeff(mode='COEFF+DATA+AVA+')\n",
    "        # re-plot old data and AVA curve\n",
    "        if afd.data['nos'] >= 3:\n",
    "            # calculate the posterior model from the data if any\n",
    "            afd.invert_ava(mode='COEFF+DATA+AVA+')\n",
    "            # calculate the AVA curve for the posterior model\n",
    "            afd.comp_post_ava()\n",
    "            # re-plot the AVA curves for the prior and posterior model as well as the data points\n",
    "            afd.replot_data_ava(mode='COEFF+DATA+AVA+', num=4)\n",
    "        # catch data points, invert and plot an AVA curve from posteriors\n",
    "        afd.plot_all(mode='COEFF+DATA+AVA+', num=4) \n",
    "\n",
    "# interact with input boxes and call for AVA calculation and curve\n",
    "bayes_box = interactive_output(\n",
    "    bayes_update, {\n",
    "        'vps': vps_box,                                           # P- and S-velocities in top and bottom halfspaces\n",
    "        'rho1': rho1_box, 'rho2': rho2_box,                       # densities in top and bottom halfspaces\n",
    "        'dvp1': dvp1_box, 'dvs1': dvs1_box, 'drho1': drho1_box,   # uncertainties top halfspace\n",
    "        'dvp2': dvp2_box, 'dvs2': dvs2_box, 'drho2': drho2_box,   # uncertainties bottom halfspace \n",
    "        'snr': snr_box})                                          # uncertainty in data (from signal-to-noise ratio)\n",
    "\n",
    "# display AVA curve\n",
    "display(bayes_box)\n",
    "\n",
    "\n",
    "# define print output\n",
    "out = ipw.Output()   # https://ipywidgets.readthedocs.io/en/latest/examples/Output%20Widget.html\n",
    "\n",
    "# define a print button\n",
    "def printbutton_action(b,out):\n",
    "    # print\n",
    "    with out:\n",
    "        out.clear_output()\n",
    "        _ = afd.printout['COEFF+DATA+AVA+'](text='posterior model', vals=afd.post)\n",
    "        _ = afd.printout['COEFF+DATA+AVA+'](text='posterior contrast', vals=afd.poscon)\n",
    "\n",
    "# interact with print button\n",
    "printbutton =  ipw.Button(description = 'print', button_style = 'info', tooltip = 'print posterior model')\n",
    "display(printbutton)\n",
    "printbutton.on_click(ft.partial(printbutton_action, out=out))\n",
    "\n",
    "# display print output\n",
    "display(out)"
   ]
  },
  {
   "cell_type": "markdown",
   "id": "628a3e49",
   "metadata": {},
   "source": [
    "Tip: Due to a bug in Jupyter -- printing after an interactive event when using the backend ipympl -- the posterior model, which is updated with each additional data point, cannot be printed from within the Python code. Instead, it must be extracted manually, as done above.\n",
    "\n",
    "Tip: \"Run\" the cell containing the Bayesian inversion. The \"focus\" button does not catch any data input into the classical inversion yet.\n",
    "\n",
    "Tip: Do the classical inversion first, then the Bayesian inversion, and don't jump back. You may, however, update the prior model uncertainty and data uncertainty and, then, redo the Bayesian inversion."
   ]
  },
  {
   "cell_type": "code",
   "execution_count": 15,
   "id": "aa461071",
   "metadata": {},
   "outputs": [
    {
     "data": {
      "text/html": [
       "\n",
       "            <script>\n",
       "                code_show=true;\n",
       "                function code_toggle() {\n",
       "                    if (code_show){\n",
       "                        $('div.input').hide();\n",
       "                    } else {\n",
       "                        $('div.input').show();\n",
       "                    }\n",
       "                    code_show = !code_show\n",
       "                }\n",
       "                $( document ).ready(code_toggle);\n",
       "            </script>\n",
       "            <form action=\"javascript:code_toggle()\">\n",
       "                <input type=\"submit\" value=\"Toggle Jupyter input on/off\">\n",
       "            </form>\n",
       "        "
      ],
      "text/plain": [
       "<IPython.core.display.HTML object>"
      ]
     },
     "metadata": {},
     "output_type": "display_data"
    }
   ],
   "source": [
    "# input toggle\n",
    "%inputtoggle"
   ]
  }
 ],
 "metadata": {
  "kernelspec": {
   "display_name": "Python 3 (ipykernel)",
   "language": "python",
   "name": "python3"
  },
  "language_info": {
   "codemirror_mode": {
    "name": "ipython",
    "version": 3
   },
   "file_extension": ".py",
   "mimetype": "text/x-python",
   "name": "python",
   "nbconvert_exporter": "python",
   "pygments_lexer": "ipython3",
   "version": "3.9.15"
  },
  "latex_envs": {
   "LaTeX_envs_menu_present": true,
   "autoclose": false,
   "autocomplete": true,
   "bibliofile": "biblio.bib",
   "cite_by": "apalike",
   "current_citInitial": 1,
   "eqLabelWithNumbers": true,
   "eqNumInitial": 1,
   "hotkeys": {
    "equation": "Ctrl-E",
    "itemize": "Ctrl-I"
   },
   "labels_anchors": false,
   "latex_user_defs": false,
   "report_style_numbering": false,
   "user_envs_cfg": false
  },
  "toc-showtags": true
 },
 "nbformat": 4,
 "nbformat_minor": 5
}
