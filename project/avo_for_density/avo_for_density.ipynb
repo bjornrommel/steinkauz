{
 "cells": [
  {
   "cell_type": "raw",
   "id": "91023639-f11d-4322-bb09-e75147cd916f",
   "metadata": {
    "jupyter": {
     "source_hidden": true
    }
   },
   "source": [
    "# Impressum\n",
    "\n",
    "Jupyter Notebook\n",
    "AVO Inversion for Density\n",
    "\n",
    "version: 2.1.0\n",
    "date: 05.08.2024\n",
    "author: Björn E. Rommel\n",
    "email: info@seisrock.com"
   ]
  },
  {
   "cell_type": "code",
   "execution_count": null,
   "id": "7dba8029",
   "metadata": {
    "jupyter": {
     "source_hidden": true
    }
   },
   "outputs": [],
   "source": [
    "# IPython\n",
    "\n",
    "# import IPython modules\n",
    "from IPython.core.interactiveshell import InteractiveShell\n",
    "InteractiveShell.ast_node_interactivity = \"all\"\n",
    "from IPython import display as dsp\n",
    "import ipywidgets as ipw\n",
    "from ipywidgets import interact, interactive, interactive_output"
   ]
  },
  {
   "cell_type": "code",
   "execution_count": null,
   "id": "cae94484",
   "metadata": {
    "jupyter": {
     "source_hidden": true
    }
   },
   "outputs": [],
   "source": [
    "# Python\n",
    "\n",
    "# import Python modules\n",
    "import sys\n",
    "import numpy as np; np.NAN = np.nan # stupid myBinder.org doesn't know NAN\n",
    "import functools as ft"
   ]
  },
  {
   "cell_type": "code",
   "execution_count": null,
   "id": "ed7afd53",
   "metadata": {
    "jupyter": {
     "source_hidden": true
    }
   },
   "outputs": [],
   "source": [
    "# Matplotlib\n",
    "\n",
    "# set default parameters \n",
    "import matplotlib as mpl\n",
    "mpl.rcParams['font.size'] = 11             # same font size as the LaTeX document\n",
    "mpl.rcParams['text.usetex'] = True         # use latex throughout\n",
    "mpl.rcParams['ps.usedistiller'] = 'xpdf'   # for production quality\n",
    "\n",
    "# set API\n",
    "from matplotlib import pyplot as plt       # use Matlab-like API\n",
    "\n",
    "# set backend (ipympl integrates interactive features into Jupyter)\n",
    "%matplotlib widget"
   ]
  },
  {
   "cell_type": "code",
   "execution_count": null,
   "id": "38e2c4ac",
   "metadata": {
    "jupyter": {
     "source_hidden": true
    }
   },
   "outputs": [],
   "source": [
    "# user module\n",
    "\n",
    "# import notebook-specific functions\n",
    "import avo_for_density as afd"
   ]
  },
  {
   "cell_type": "markdown",
   "id": "996e7e3b",
   "metadata": {},
   "source": [
    "# <center> Elements of Seismic Data Processing: </center>\n",
    "\n",
    "# <center> AVO Inversion for Density </center>\n",
    "\n",
    "# <center> Björn E. Rommel </center>"
   ]
  },
  {
   "cell_type": "markdown",
   "id": "6e04b890-c237-44cb-a6ff-f06b3bf030d2",
   "metadata": {},
   "source": [
    "## The Forward Problem\n",
    "\n",
    "The \"forward problem\" means simulating a physical process: we start with a model of reality, and then we calculate (observable) data based on the mathematical description of a physical law. Here, a plane wave impinging on an interface is reflected, partially transmitted, and the respective reflection / transmission coefficients are described by the \"Zoeppritz equation\" (Zoeppritz, 1919). \n",
    "\n",
    "The Zoeppritz equation depend on the seismic properties -- P-velocity, S-velocity and density -- on either side of the interface. For the sake of a better intuitive understanding, and simplicity of computations, the Zoeppritz equation are commonly linearized in terms of small perturbations of the seismic properties relative to their respective \"background\" -- that is, average -- medium (Aki & Richards, 1980). To be precise, the thus derived \"Aki-Richards equation\" depends on the normalized contrasts of seismic properties, the P-to-S velocity ratio of the background, and the incidence angles.\n",
    "\n",
    "\"AVA\" -- amplitude-versus-angle -- just means a series of reflection / transmission coefficients over incidence angles. These coefficients -- observed data after having removed the signal -- are inverted for the seismic properties, of which density is commonly the least accurate one."
   ]
  },
  {
   "cell_type": "markdown",
   "id": "a4942ac7-15d9-4647-8565-30b6da1469b7",
   "metadata": {},
   "source": [
    "## Input of Seismic Properties\n",
    "\n",
    "Traditionally, seismic properties, not their normalized contrasts, are input. The contrast will, then, be calculated.\n",
    "\n",
    "Tip: You can skip inputting these seismic properties, if you don't want to see a theoretical AVA curve, but to jump ahead to an AVA inversion."
   ]
  },
  {
   "cell_type": "code",
   "execution_count": null,
   "id": "b263b96a",
   "metadata": {
    "jupyter": {
     "source_hidden": true
    }
   },
   "outputs": [],
   "source": [
    "# write top halfspace\n",
    "display(dsp.Markdown(\"#### Top Halfspace:\"))\n",
    "\n",
    "# define input boxes for vp, vs, and rho in the top halfspace\n",
    "vp1_box = ipw.BoundedFloatText(description=\"P-velocity\", value=afd.VP1, min=0, step=10, max=sys.maxsize)\n",
    "vs1_box = ipw.BoundedFloatText(description=\"S-velocity\", value=afd.VS1, min=0, step=10, max=sys.maxsize)\n",
    "rho1_box = ipw.BoundedFloatText(description=\"density\", value=afd.RHO1, min=0, step=10, max=sys.maxsize)\n",
    "    \n",
    "# group input boxes into a horizontal row\n",
    "top_box = ipw.GridBox(\n",
    "    [vp1_box, vs1_box, rho1_box], \n",
    "    layout=ipw.Layout(grid_template_columns=\"repeat(3, 300px)\"))\n",
    "display(top_box)\n",
    "\n",
    "\n",
    "# enforce stability criteria\n",
    "def update_vp1_box(*args):\n",
    "    global vp1_box\n",
    "    if np.isfinite(vp1_box.value):\n",
    "        if vp1_box.value <= 0.:\n",
    "            print('top medium: vp < 0!')\n",
    "            vp1_box.value = np.NAN\n",
    "        if vp1_box.value <= np.sqrt(8. / 3.) * vs1_box.value:\n",
    "            print('top medium: vp < sqrt(8 / 3) * vs!')\n",
    "            vp1_box.value = np.NAN\n",
    "vp1_box.observe(update_vp1_box, 'value')\n",
    "\n",
    "def update_vs1_box(*args):\n",
    "    global vs1_box\n",
    "    if np.isfinite(vs1_box.value):\n",
    "        if vs1_box.value <= 0.:\n",
    "            print('top medium: vs < 0!')\n",
    "            vs1_box.value = np.NAN\n",
    "        if vs1_box.value >= np.sqrt(3. / 8.) * vp1_box.value:\n",
    "            print('top medium: vs > sqrt(3 / 8) * vp!')\n",
    "            vs1_box.value = np.NAN\n",
    "vs1_box.observe(update_vs1_box, 'value')\n",
    "\n",
    "def update_rho1_box(*args):\n",
    "    global rho1_box\n",
    "    if np.isfinite(rho1_box.value):\n",
    "        if rho1_box.value <= 0.:\n",
    "            print('top medium: rho < 0!')\n",
    "            rho1_box.value = np.NAN\n",
    "rho1_box.observe(update_rho1_box, 'value')\n",
    "\n",
    "\n",
    "# write bottom halfspace\n",
    "display(dsp.Markdown(\"#### Bottom Halfspace:\"))\n",
    "\n",
    "# define input boxes for vs, vs, and rho in the bottom halfspace\n",
    "vp2_box = ipw.BoundedFloatText(description=\"P-velocity\", value=afd.VP2, min=0, step=10, max=sys.maxsize)\n",
    "vs2_box = ipw.BoundedFloatText(description=\"S-velocity\", value=afd.VS2, min=0, step=10, max=sys.maxsize)\n",
    "rho2_box = ipw.BoundedFloatText(description=\"density\", value=afd.RHO2, min=0, step=10, max=sys.maxsize)\n",
    "\n",
    "# group input boxes into a horizontal row\n",
    "bot_box = ipw.GridBox(\n",
    "    [vp2_box, vs2_box, rho2_box], \n",
    "    layout=ipw.Layout(grid_template_columns=\"repeat(3, 300px)\"))\n",
    "display(bot_box)\n",
    "\n",
    "\n",
    "# enforce stability criteria\n",
    "def update_vp2_box(*args):\n",
    "    global vp2_box\n",
    "    if np.isfinite(vp2_box.value):\n",
    "        if vp2_box.value <= 0.:\n",
    "            print('bottom medium: vp < 0!')\n",
    "            vp2_box.value = np.NAN\n",
    "        if vp2_box.value <= np.sqrt(8. / 3.) * vs2_box.value:\n",
    "            print('bottom medium: vp < sqrt(8 / 3) * vs!')\n",
    "            vp2_box.value = np.NAN\n",
    "vp2_box.observe(update_vp2_box, 'value')\n",
    "\n",
    "def update_vs2_box(*args):\n",
    "    global vs2_box\n",
    "    if np.isfinite(vs2_box.value):\n",
    "        if vs2_box.value <= 0.:\n",
    "            print('bottom medium: vs < 0!')\n",
    "            vs2_box.value = np.NAN\n",
    "        if vs2_box.value >= np.sqrt(3. / 8.) * vp2_box.value:\n",
    "            print('bottom medium: vs > sqrt(3 / 8) * vp!')\n",
    "            vs2_box.value = np.NAN\n",
    "vs2_box.observe(update_vs2_box, 'value')\n",
    "\n",
    "def update_rho2_box(*args):\n",
    "    global rho2_box\n",
    "    if np.isfinite(rho2_box.value):\n",
    "        if rho2_box.value <= 0.:\n",
    "            print('bottom medium: rho < 0!')\n",
    "            rho2_box.value = np.NAN\n",
    "rho2_box.observe(update_rho2_box, 'value')\n",
    "\n",
    "\n",
    "# calculate prior model and S-to-P velocity ratio\n",
    "def update_model(**kwargs):\n",
    "    # check all properties are setafd.get_medium(vp=kwargs['vp1'])\n",
    "    if not np.any([np.isnan(kwargs[prop]) for prop in ['vp1', 'vs1', 'rho1', 'vp2', 'vs2', 'rho2']]):\n",
    "        # set up the top model\n",
    "        afd.get_medium(halfspace='top', text='top', vp=kwargs['vp1'], vs=kwargs['vs1'], rho=kwargs['rho1'])\n",
    "        # set up the bottom model\n",
    "        afd.get_medium(halfspace='bot', text='bottom', vp=kwargs['vp2'], vs=kwargs['vs2'], rho=kwargs['rho2'])\n",
    "        # set up the background model\n",
    "        afd.get_back(mode='COEFF-DATA-AVA-')\n",
    "        # calculate the S-to-P velocity ratio\n",
    "        afd.get_para()\n",
    "        vps_box.value = 1. / afd.para['vsp']\n",
    "        # compute the prior contrast\n",
    "        afd.get_precon(mode='COEFF-DATA-AVA-')\n",
    "        # compute the prior model\n",
    "        afd.get_prior(mode='COEFF-DATA-AVA-')\n",
    "\n",
    "\n",
    "# interact with input boxes and call for AVA calculation and curve preparation\n",
    "out=interactive_output(\n",
    "    update_model,\n",
    "    {'vp1': vp1_box, 'vs1': vs1_box, 'rho1': rho1_box, 'vp2': vp2_box, 'vs2': vs2_box, 'rho2': rho2_box})\n",
    "display(out)"
   ]
  },
  {
   "cell_type": "markdown",
   "id": "1f9c048c",
   "metadata": {},
   "source": [
    "### P-to-S Velocity Ratio\n",
    "\n",
    "The P-to-S velocity ratio is required for both the forward and inverse problem. If all seismic properties are input above, the P-to-S velocity ratio is automatically calculated, but it can nonetheless be overridden in the following; otherwise, the P-to-S velocity ratio must be input next.  "
   ]
  },
  {
   "cell_type": "code",
   "execution_count": null,
   "id": "8349a942",
   "metadata": {
    "jupyter": {
     "source_hidden": true
    }
   },
   "outputs": [],
   "source": [
    "# P-to-S velocity\n",
    "\n",
    "# define an input box for the S-to-P velocity ratio\n",
    "vps_box = (\n",
    "    ipw.BoundedFloatText(\n",
    "        description=\"P-to-S velocity ratio\", value=1./afd.para['vsp'], min=0., step=0.1, max=sys.float_info.max))\n",
    "\n",
    "# interact with vps box\n",
    "@interact(vps=vps_box)\n",
    "def vsp_update(**kwargs):\n",
    "    # update S-to-P velocity ratio\n",
    "    afd.get_para(vps=kwargs['vps'])"
   ]
  },
  {
   "cell_type": "markdown",
   "id": "7a9a8658",
   "metadata": {},
   "source": [
    "### AVA Curve\n",
    "\n",
    "Finally, the theoretical AVA curve can be calculated and displayed. "
   ]
  },
  {
   "cell_type": "code",
   "execution_count": null,
   "id": "b2a6220b",
   "metadata": {
    "jupyter": {
     "source_hidden": true
    }
   },
   "outputs": [],
   "source": [
    "# calculate and display an AVA curve based on a prior model\n",
    "def ava_update(**kwargs):\n",
    "    # check all properties are set\n",
    "    # (note, an AVA curve depends strictly on the prior model and the S-to-P velocity ratio)\n",
    "    if not (np.any(np.isnan(afd.prior['mod'])) or np.isnan(afd.para['vsp'])):\n",
    "        # initialize figure \n",
    "        afd.init_plot(num=1, title='AVA Curve')   # figure number hard-wired \n",
    "        # calculate AVA points for the given prior model\n",
    "        afd.comp_coeff(mode='COEFF')  \n",
    "        # create a figure based on those AVA points\n",
    "        afd.plot_all(mode='COEFF')      \n",
    "        # exit figure\n",
    "        afd.exit_plot(env=afd.PLOTENVIRONMENT)\n",
    "\n",
    "# interact with input boxes and call the above AVA calculation and display\n",
    "# (note, any change in any one of the following boxes already triggers a re-calcuation of the prior model or the S-to-P\n",
    "# velocity ratio: vp1, vp2, vs1, vs2)\n",
    "ava_box = interactive_output(ava_update, {'rho1': rho1_box, 'rho2': rho2_box, 'vps': vps_box})\n",
    "\n",
    "# display AVA curve\n",
    "display(ava_box)"
   ]
  },
  {
   "cell_type": "markdown",
   "id": "a6009fb3",
   "metadata": {},
   "source": [
    "## The Inverse Problem\n",
    "\n",
    "The \"inverse problem\" is the opposite, that is inferring a model from available data. \"Bayes's theory\" of inversion aims to optimize that inference: based on already a-priori available information about the model, an estimate of the uncertainty of such prior information, and further based on an estimate of data quality, Bayes theory provides the optimal a-posteriori information possible.\n",
    "\n",
    "In AVA inversion, here, the normalized contrasts make up the \"model\" in a Bayesian sense: as said, the properties to invert for. Hence, in a Bayesian context, the \"prior model\" comprises all information we have already derived from, e.g., a velocity analysis; and the \"prior uncertainty\" is the uncertainty with which we can perform a velocity analysis. \n",
    "\n",
    "The \"parameters\" in an AVA inversion are the P-to-S velocity ratio and the incidence angles. For now, let's assume, we know these parameters with zero uncertainty, although, admittedly, such accuracy will never be possible in practice.\n",
    "\n",
    "Then, the \"data\" are the reflection / transmission coefficients. Here, the terms coefficients and \"amplitude\" are often mixed up: AVA-inversion requires the coefficients or normalized amplitudes, that is the amplitude ratio of a wave after and before reflection / transmission. True-amplitude processing seems elusive in practice, but that uncertainty is part of the \"data uncertainty.\"\n",
    "\n",
    "Tip: Re-run this cell to make the figure active. This is because Matplotlib keeps the last figure active, and so any interactive input will be plotted in that figure. The data -- amplitude over incidence angle -- can be input directly in the below figure. The order in which the data are input does not matter. You only need to click on the respective point in the display; the actual cursor position is shown at the bottom of the figure.\n",
    "\n",
    "Tip: Due to a bug in Jupyter, I cannot make it accept double clicks for entering data points. And, so, single clicks are used for both the figure ornaments and data points. Hence, your best bet for now, don't change the figure layout."
   ]
  },
  {
   "cell_type": "code",
   "execution_count": null,
   "id": "07d02cc4",
   "metadata": {
    "jupyter": {
     "source_hidden": true
    }
   },
   "outputs": [],
   "source": [
    "# define a focus button\n",
    "def classbutton_action(*args):\n",
    "    # set figure\n",
    "    plt.figure(num=2)\n",
    "    # wake up Jupyter\n",
    "    pass\n",
    "\n",
    "# interact with focus button\n",
    "classbutton =  ipw.Button(description = 'focus', button_style = 'info', tooltip = 'focus on classical AVA inversion')\n",
    "display(classbutton)\n",
    "classbutton.on_click(classbutton_action)\n",
    "\n",
    "\n",
    "# input AVA data points and calculate best-fitting AVA curve\n",
    "def class_update(**kwargs):\n",
    "    # check all properties are set\n",
    "    if not np.isnan(afd.para['vsp']):\n",
    "        # initialize figure\n",
    "        afd.init_plot(num=2, title='Classical AVA Inversion')\n",
    "        # calculate AVA points for the given prior model\n",
    "        afd.comp_coeff(mode='COEFF-')\n",
    "        # re-plot old data and AVA curve\n",
    "        if afd.data['nos'] >= 3:\n",
    "            # re-invert data to posterior model \n",
    "            # (in case inversion method has changed w/o uncertainty or prior model)\n",
    "            afd.invert_ava(mode='COEFF-DATA-AVA-')\n",
    "            # re-calculate AVA curve from the posterior model\n",
    "            afd.comp_post_ava()\n",
    "            # re-plot old data and corresponding AVA curve\n",
    "            afd.replot_data_ava(mode='COEFF-DATA-AVA-', num=2)\n",
    "        # catch new data points, invert all data points, and plot an AVA curve based on the new posterior model\n",
    "        afd.plot_all(mode='COEFF-DATA-AVA-', num=2)        \n",
    "\n",
    "# interact with input boxes and call for AVA calculation and curve\n",
    "class_box = interactive_output(class_update, {'vps': vps_box})\n",
    "\n",
    "# display AVA curve\n",
    "display(class_box)\n",
    "\n",
    "\n",
    "# define print output\n",
    "out = ipw.Output()   # https://ipywidgets.readthedocs.io/en/latest/examples/Output%20Widget.html\n",
    "\n",
    "# define a print button\n",
    "def printbutton_action(b,out):\n",
    "    # print\n",
    "    with out:\n",
    "        out.clear_output()\n",
    "        _ = afd.printout['COEFF-DATA-AVA-'](text='posterior model', vals=afd.post)\n",
    "        _ = afd.printout['COEFF-DATA-AVA-'](text='posterior contrast', vals=afd.poscon)\n",
    "\n",
    "# interact with print button\n",
    "printbutton =  ipw.Button(description = 'print', button_style = 'info', tooltip = 'print posterior model')\n",
    "display(printbutton)\n",
    "printbutton.on_click(ft.partial(printbutton_action, out=out))\n",
    "\n",
    "# display print output\n",
    "display(out)"
   ]
  },
  {
   "cell_type": "markdown",
   "id": "089a49dd",
   "metadata": {},
   "source": [
    "### Prior Model Uncertainty\n",
    "\n",
    "Let's take the prior model as above, and input only the prior uncertainty. Admittedly, estimating prior uncertainty is in itself another Bayesian problem. \n",
    "\n",
    "Tip: However, recall, a distribution of random numbers is almost entirely contained within 3 times its standard deviation (STD): so, estimate the maximum error of, e.g., our velocity analysis and devide that value by 3 to obtain the prior uncertainty expressed in terms of its standard deviation. Not perfect, but good enough for a first gestimate."
   ]
  },
  {
   "cell_type": "code",
   "execution_count": null,
   "id": "9beac51e",
   "metadata": {
    "jupyter": {
     "source_hidden": true
    }
   },
   "outputs": [],
   "source": [
    "# write subtitle for the top halfspace\n",
    "display(dsp.Markdown(\"#### Top Halfspace:\"))\n",
    "\n",
    "# write input boxes for seismic properties in the top halfspace\n",
    "dvp1_box = ipw.BoundedFloatText(description=\"P-velocity +/-\", value=afd.DVP1, min=0, step=1, max=sys.maxsize)\n",
    "dvs1_box = ipw.BoundedFloatText(description=\"S-velocity +/-\", value=afd.DVS1, min=0, step=1, max=sys.maxsize)\n",
    "drho1_box = ipw.BoundedFloatText(description=\"density +/-\", value=afd.DRHO1, min=0, step=1, max=sys.maxsize)\n",
    "\n",
    "# line up input boxes for the top halfspace and display\n",
    "dtop_box = ipw.GridBox(\n",
    "    [dvp1_box, dvs1_box, drho1_box], \n",
    "    layout=ipw.Layout(grid_template_columns=\"repeat(3, 300px)\"))\n",
    "display(dtop_box)\n",
    "\n",
    "# write subtitle for the bottom halfspace\n",
    "display(dsp.Markdown(\"#### Bottom Halfspace:\"))\n",
    "\n",
    "# write input boxes for seismic properties in the bottom halfspace\n",
    "\n",
    "dvp2_box = ipw.BoundedFloatText(description=\"P-velocity +/-\", value=afd.DVP2, min=0, step=1, max=sys.maxsize)\n",
    "dvs2_box = ipw.BoundedFloatText(description=\"S-velocity +/-\", value=afd.DVS2, min=0, step=1, max=sys.maxsize)\n",
    "drho2_box = ipw.BoundedFloatText(description=\"density +/-\", value=afd.DRHO2, min=0, step=1, max=sys.maxsize)\n",
    "\n",
    "# line up input boxes for the bottom halfspace and display\n",
    "dbot_box = ipw.GridBox(\n",
    "    [dvp2_box, dvs2_box, drho2_box], \n",
    "    layout=ipw.Layout(grid_template_columns=\"repeat(3, 300px)\"))\n",
    "display(dbot_box)\n",
    "\n",
    "# update P-to-S velocity ratio, prior model and coefficients\n",
    "def update_model(**kwargs):\n",
    "    # check all properties are setafd.get_medium(vp=kwargs['vp1'])\n",
    "    if not np.any([np.isnan(kwargs[prop]) for prop in ['dvp1', 'dvs1', 'drho1', 'dvp2', 'dvs2', 'drho2']]):\n",
    "        # set up the top model\n",
    "        afd.get_medium(halfspace='top', text='top', dvp=kwargs['dvp1'], dvs=kwargs['dvs1'], drho=kwargs['drho1'])\n",
    "        # set up the bottom model\n",
    "        afd.get_medium(halfspace='bot', text='bottom', dvp=kwargs['dvp2'], dvs=kwargs['dvs2'], drho=kwargs['drho2'])\n",
    "        # set up the background model\n",
    "        afd.get_back()\n",
    "        # calculate parameters as, here, the S-to-P velocity ratio\n",
    "        afd.get_para()\n",
    "        # compute prior contrast\n",
    "        afd.get_precon(mode='COEFF+DATA+AVA+')\n",
    "        # compute the prior\n",
    "        afd.get_prior(mode='COEFF+DATA+AVA+')\n",
    "        \n",
    "    \n",
    "# interact with all input boxes\n",
    "out = interactive_output(\n",
    "    update_model, \n",
    "    {'dvp1': dvp1_box, 'dvs1': dvs1_box, 'drho1': drho1_box, 'dvp2': dvp2_box, 'dvs2': dvs2_box, 'drho2': drho2_box})\n",
    "display(out)"
   ]
  },
  {
   "cell_type": "markdown",
   "id": "4de34146",
   "metadata": {},
   "source": [
    "### Data Uncertainty\n",
    "\n",
    "\"Data uncertainty\", in a Bayesian sense, is the standard deviation (STD) of ambient noise contaminating the data, thereby assuming noise samples are normally distributed.\n",
    "\n",
    "However, the signal-to-noise ratio (SNR) is more popular. Here, the signal-to-noise ratio (SNR) is defined as the ratio of a wavelet's amplitude (A) and the standard deviation (STD) of ambient noise. The graph shows the superposition of a triangular wavelet with amplitude 1.0 and a realization of random noise with the requested STD (by definition, STD = A * SNR). \n",
    "\n",
    "Tip: Adjust the signal-to-noise ratio until the amount of noise appear similar to your data."
   ]
  },
  {
   "cell_type": "code",
   "execution_count": null,
   "id": "3f83b993",
   "metadata": {
    "jupyter": {
     "source_hidden": true
    }
   },
   "outputs": [],
   "source": [
    "# define an update button\n",
    "def snrbutton_action(*args):\n",
    "    # wake up Jupyter\n",
    "    pass\n",
    "\n",
    "# interact with update button\n",
    "snrbutton =  ipw.Button(description = 'update', button_style = 'info', tooltip = 'update the signal-to-noise ratio')\n",
    "display(snrbutton)\n",
    "snrbutton.on_click(snrbutton_action)\n",
    "\n",
    "\n",
    "# define the input box for the signal-to-noise ratio\n",
    "snr_box = ipw.BoundedFloatText(description=\"signal-to-noise\", value=afd.SNR, min=0.1, step=0.1, max=sys.maxsize)\n",
    "display(snr_box)\n",
    "\n",
    "# display wavelet with ambient noise at the given signal-to-noise ratio\n",
    "def snr_update(**kwargs):\n",
    "    global snr_box\n",
    "    afd.get_noise(snr=kwargs['snr'])\n",
    "\n",
    "# interact with input boxes and call for AVA calculation and curve preparation\n",
    "interactive_output(snr_update, {'snr': snr_box})"
   ]
  },
  {
   "cell_type": "code",
   "execution_count": null,
   "id": "5df49d38",
   "metadata": {
    "jupyter": {
     "source_hidden": true
    }
   },
   "outputs": [],
   "source": [
    "# define repeat function\n",
    "def wvl_repeat(*args, **kwargs):\n",
    "    afd.mk_wavelet(name='triangle', hwd=10, num=3)\n",
    "    afd.exit_plot(env=afd.CANVASENVIRONMENT)\n",
    "\n",
    "# interact with repeat button\n",
    "wvlbutton =  ipw.Button(description = 'repeat', button_style = 'info', tooltip = 'repeat wavelet')\n",
    "display(wvlbutton)\n",
    "wvlbutton.on_click(wvl_repeat)\n",
    "\n",
    "\n",
    "# display wavelet with ambient noise at the given signal-to-noise ratio\n",
    "def wvl_update(*args, **kwargs):\n",
    "    afd.init_plot(num=3)\n",
    "    afd.mk_wavelet(name='triangle', hwd=10, num=3)\n",
    "    afd.exit_plot(env=afd.PLOTENVIRONMENT)\n",
    "\n",
    "    \n",
    "# interact with the signal-to-noise ratio box\n",
    "wvl_box = interactive_output(wvl_update, {'snr': snr_box})\n",
    "\n",
    "# display AVA curve\n",
    "display(wvl_box)"
   ]
  },
  {
   "cell_type": "markdown",
   "id": "70cd650b",
   "metadata": {},
   "source": [
    "## Bayesian AVA Inversion\n",
    "\n",
    "Bayesian AVA inversion strikes an optimal balance between prior information and data -- that is, here, the prior model of normalized property contrasts and normalized reflection coefficients. Thereby, both sets of information are weighted according to their respective covariances.\n",
    "\n",
    "Note, the algorithm is robust, but its results are sensible only if, firstly, the assumptions behind \"linearized AVA inversion\" -- that is, small property contrasts -- are met, and, secondly, prior information and data are consistent. \"Consistent\" means, in turn, two physical important properties: Firstly, the data are normally distributed around the exact normalized reflection coefficients that would have been generated by a wave propagating in the true model. Fortunately, each seismic experiment yields multiple realizations -- in statistical language -- of reflection coefficients. In contrast, the prior model is but one realization of the true model. Only if we were to repeat the seismic experiment multiple times, and do so independently of each other, could we speak of multiple realizations of a prior model. Of course, that is not going to happen. At most, we could generate multiple realization of a prior model during seismic processing and repeat the inversion. So, instead, and secondly, we simply assume the prior model to be sufficiently close to the true model. \n",
    "\n",
    "Tip: The below figure shows a band of reflection coefficients generated for the prior model. Given the caveats above, the data error bars must be distributed across that band in a Gaussian sense. An unbalanced distribution of data points is a sure indication the prior model might be too far off the true model. Of course, theoretically, it can happen, but, then, do repeat the exercise with a set of normally distributed prior models and build a distribution of posterior models."
   ]
  },
  {
   "cell_type": "code",
   "execution_count": null,
   "id": "680b8976",
   "metadata": {
    "jupyter": {
     "source_hidden": true
    }
   },
   "outputs": [],
   "source": [
    "# define a focus button\n",
    "def bayesbutton_action(*args):\n",
    "    # set figure\n",
    "    plt.figure(num=4)\n",
    "    # wake up Jupyter\n",
    "    pass\n",
    "\n",
    "# interact with focus button\n",
    "bayesbutton =  ipw.Button(description = 'focus', button_style = 'info', tooltip = 'focus on Bayesian AVA inversion')\n",
    "display(bayesbutton)\n",
    "bayesbutton.on_click(bayesbutton_action)\n",
    "\n",
    "\n",
    "# input AVA data points and calculate best-fitting AVA curve\n",
    "def bayes_update(**kwargs):\n",
    "    # check all properties are set\n",
    "    if not (                                        # not any of the following:\n",
    "            np.isnan(afd.para['vsp']) or            # signal-to-noise ratio found in the reflection matrix NAN\n",
    "            np.isnan(afd.data['std']) or            # data uncertainty (blown up to data covariance) NAN\n",
    "            np.any(np.isnan(afd.prior['std'])) or   # any prior component uncertainty (blown up to prior covariance) NAN\n",
    "            np.any(np.isnan(afd.prior['mod']))):    # any prior model component NAN\n",
    "        # initialize figure \n",
    "        afd.init_plot(num=4, title='Bayesian AVA Inversion') \n",
    "        # calculate the AVA curve from the prior model\n",
    "        afd.comp_coeff(mode='COEFF+DATA+AVA+')\n",
    "        # re-plot old data and AVA curve\n",
    "        if afd.data['nos'] >= 3:\n",
    "            # calculate the posterior model from the data if any\n",
    "            afd.inv_ava(mode='COEFF+DATA+AVA+')\n",
    "            # calculate the AVA curve for the posterior model\n",
    "            afd.comp_post_ava()\n",
    "            # re-plot the AVA curves for the prior and posterior model as well as the data points\n",
    "            afd.replot_data_ava(mode='COEFF+DATA+AVA+', num=4)\n",
    "        # catch data points, invert and plot an AVA curve from posteriors\n",
    "        afd.plot_all(mode='COEFF+DATA+AVA+', num=4) \n",
    "\n",
    "# interact with input boxes and call for AVA calculation and curve\n",
    "bayes_box = interactive_output(\n",
    "    bayes_update, {\n",
    "        'vps': vps_box,                                           # P- and S-velocities in top and bottom halfspaces\n",
    "        'rho1': rho1_box, 'rho2': rho2_box,                       # densities in top and bottom halfspaces\n",
    "        'dvp1': dvp1_box, 'dvs1': dvs1_box, 'drho1': drho1_box,   # uncertainties top halfspace\n",
    "        'dvp2': dvp2_box, 'dvs2': dvs2_box, 'drho2': drho2_box,   # uncertainties bottom halfspace \n",
    "        'snr': snr_box})                                          # uncertainty in data (from signal-to-noise ratio)\n",
    "\n",
    "# display AVA curve\n",
    "display(bayes_box)\n",
    "\n",
    "\n",
    "# define print output\n",
    "out = ipw.Output()   # https://ipywidgets.readthedocs.io/en/latest/examples/Output%20Widget.html\n",
    "\n",
    "# define a print button\n",
    "def printbutton_action(b,out):\n",
    "    # print\n",
    "    with out:\n",
    "        out.clear_output()\n",
    "        _ = afd.printout['COEFF+DATA+AVA+'](text='posterior model', vals=afd.post)\n",
    "        _ = afd.printout['COEFF+DATA+AVA+'](text='posterior contrast', vals=afd.poscon)\n",
    "\n",
    "# interact with print button\n",
    "printbutton =  ipw.Button(description = 'print', button_style = 'info', tooltip = 'print posterior model')\n",
    "display(printbutton)\n",
    "printbutton.on_click(ft.partial(printbutton_action, out=out))\n",
    "\n",
    "# display print output\n",
    "display(out)"
   ]
  },
  {
   "cell_type": "raw",
   "id": "73fba475-c51f-4d85-972d-f997e372d660",
   "metadata": {},
   "source": [
    "Tip: Due to a bug in Jupyter -- printing after an interactive event when using the backend ipympl -- the posterior model, which is updated with each additional data point, cannot be printed from within the Python code. Instead, it must be extracted manually, as done above.\n",
    "\n",
    "Tip: \"Run\" the cell containing the Bayesian inversion. The \"focus\" button does not catch any data input into the classical inversion yet.\n",
    "\n",
    "Tip: Do the classical inversion first, then the Bayesian inversion, and don't jump back. You may, however, update the prior model uncertainty and data uncertainty and, then, redo the Bayesian inversion."
   ]
  }
 ],
 "metadata": {
  "kernelspec": {
   "display_name": "Python 3 (ipykernel)",
   "language": "python",
   "name": "python3"
  },
  "language_info": {
   "codemirror_mode": {
    "name": "ipython",
    "version": 3
   },
   "file_extension": ".py",
   "mimetype": "text/x-python",
   "name": "python",
   "nbconvert_exporter": "python",
   "pygments_lexer": "ipython3",
   "version": "3.11.5"
  },
  "latex_envs": {
   "LaTeX_envs_menu_present": true,
   "autoclose": false,
   "autocomplete": true,
   "bibliofile": "biblio.bib",
   "cite_by": "apalike",
   "current_citInitial": 1,
   "eqLabelWithNumbers": true,
   "eqNumInitial": 1,
   "hotkeys": {
    "equation": "Ctrl-E",
    "itemize": "Ctrl-I"
   },
   "labels_anchors": false,
   "latex_user_defs": false,
   "report_style_numbering": false,
   "user_envs_cfg": false
  },
  "toc-showtags": true
 },
 "nbformat": 4,
 "nbformat_minor": 5
}
