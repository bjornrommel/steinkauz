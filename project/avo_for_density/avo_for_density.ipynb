{
 "cells": [
  {
   "cell_type": "markdown",
   "id": "6f6b2afc",
   "metadata": {},
   "source": [
    "# Steinkauz\n",
    "\n",
    "## Notebook: avo_for_density\n",
    "\n",
    "See the [Steinkauz repository](https://github.com/bjornrommel/steinkauz/avo_for_density) for the code source."
   ]
  },
  {
   "cell_type": "code",
   "execution_count": 1,
   "id": "89477be4",
   "metadata": {},
   "outputs": [],
   "source": [
    "from IPython.core.interactiveshell import InteractiveShell\n",
    "InteractiveShell.ast_node_interactivity = \"all\""
   ]
  },
  {
   "cell_type": "code",
   "execution_count": 2,
   "id": "13abefeb",
   "metadata": {},
   "outputs": [
    {
     "data": {
      "text/html": [
       "\n",
       "                <script>\n",
       "                    code_show=true;\n",
       "                    function code_toggle() {\n",
       "                        if (code_show){\n",
       "                            $('div.input').hide();\n",
       "                        } else {\n",
       "                            $('div.input').show();\n",
       "                        }\n",
       "                        code_show = !code_show\n",
       "                    }\n",
       "                    $( document ).ready(code_toggle);\n",
       "                </script>\n",
       "                <form action=\"javascript:code_toggle()\">\n",
       "                    <input type=\"submit\" value=\"Toggle Jupyter input on/off\">\n",
       "                </form>\n",
       "            "
      ],
      "text/plain": [
       "<IPython.core.display.HTML object>"
      ]
     },
     "metadata": {},
     "output_type": "display_data"
    }
   ],
   "source": [
    "# Steinkauz\n",
    "\n",
    "# load module\n",
    "# (currently not used, but reserved for later)\n",
    "%reload_ext steinkauz\n",
    "\n",
    "# toggle input\n",
    "%inputtoggle"
   ]
  },
  {
   "cell_type": "code",
   "execution_count": 3,
   "id": "cae94484",
   "metadata": {},
   "outputs": [],
   "source": [
    "# Python, IPython\n",
    "\n",
    "# import Python modules\n",
    "import sys\n",
    "import numpy as np\n",
    "\n",
    "# import IPython modules\n",
    "from IPython import display as dsp\n",
    "import ipywidgets as ipw\n",
    "from ipywidgets import interact, interactive, interactive_output"
   ]
  },
  {
   "cell_type": "code",
   "execution_count": 4,
   "id": "ed7afd53",
   "metadata": {},
   "outputs": [],
   "source": [
    "# Matplotlib\n",
    "\n",
    "# set default parameters \n",
    "import matplotlib as mpl\n",
    "mpl.rcParams['font.size'] = 11             # same font size as the LaTeX document\n",
    "mpl.rcParams['text.usetex'] = True         # use latex throughout\n",
    "mpl.rcParams['ps.usedistiller'] = 'xpdf'   # for production quality\n",
    "\n",
    "# set API\n",
    "from matplotlib import pyplot as plt       # use Matlab-like API\n",
    "\n",
    "# set backend (ipympl integrates interactive features into Jupyter)\n",
    "%matplotlib widget"
   ]
  },
  {
   "cell_type": "code",
   "execution_count": 5,
   "id": "38e2c4ac",
   "metadata": {},
   "outputs": [],
   "source": [
    "# User-Defined Python \n",
    "\n",
    "# import notebook-specific functions\n",
    "import avo_for_density as afd"
   ]
  },
  {
   "cell_type": "code",
   "execution_count": 6,
   "id": "22c2b717",
   "metadata": {},
   "outputs": [],
   "source": [
    "# define an input box for the S-to-P velocity ratio\n",
    "vps_box = (\n",
    "    ipw.BoundedFloatText(\n",
    "        description=\"P-to-S velocity ratio\", value=1./afd.para['vsp'], min=0., step=0.1, max=sys.float_info.max))"
   ]
  },
  {
   "cell_type": "markdown",
   "id": "996e7e3b",
   "metadata": {},
   "source": [
    "# <center> Elements of Seismic Data Processing: </center>\n",
    "\n",
    "# <center> AVO Inversion for Density </center>\n",
    "\n",
    "# <center> Björn E. Rommel </center>"
   ]
  },
  {
   "cell_type": "markdown",
   "id": "3ec9ea2f",
   "metadata": {},
   "source": [
    "## The Forward Problem\n",
    "\n",
    "Commonly, the \"forward problem\" means simulating a physical process: we start with a model of reality, and then we calculate (observable) data based on the mathematical description of a physical law. Here, a plane wave impinging on an interface is reflected, partially transmitted, and the respective reflection / transmission coefficients are described by the Zoeppritz equation. \n",
    "\n",
    "The Zoeppritz equation depend on the seismic properties P-velocity, S-velocity and density on either side of the interface. For the sake of a better intuitive understand, and simplicity of computations, the Zoeppritz equation are commonly linearized in terms of small differences in seismic properties from their respective \"background\" (or average) medium. Then, a first-order linearized AVA depends on the normalized contrasts of seismic properties, the P-to-S velocity ratio of the background, and the incidence angles.\n",
    "\n",
    "### Input of Seismic Properties\n",
    "\n",
    "Nonetheless, traditionally, seismic properties, not their normalized contrasts, are input, as follows.\n",
    "\n",
    "Tip: You can skip inputting these seismic properties, if you don't want to see a theoretical AVA curve, but to jump ahead to an AVA inversion."
   ]
  },
  {
   "cell_type": "code",
   "execution_count": 7,
   "id": "24d3dd01",
   "metadata": {
    "scrolled": false
   },
   "outputs": [
    {
     "data": {
      "text/markdown": [
       "#### Top Halfspace:"
      ],
      "text/plain": [
       "<IPython.core.display.Markdown object>"
      ]
     },
     "metadata": {},
     "output_type": "display_data"
    },
    {
     "data": {
      "application/vnd.jupyter.widget-view+json": {
       "model_id": "32cc62d89ef14369af3304bb539a7c8e",
       "version_major": 2,
       "version_minor": 0
      },
      "text/plain": [
       "GridBox(children=(BoundedFloatText(value=2000.0, description='P-velocity', max=9.223372036854776e+18, step=10.…"
      ]
     },
     "metadata": {},
     "output_type": "display_data"
    },
    {
     "data": {
      "text/markdown": [
       "#### Bottom Halfspace:"
      ],
      "text/plain": [
       "<IPython.core.display.Markdown object>"
      ]
     },
     "metadata": {},
     "output_type": "display_data"
    },
    {
     "data": {
      "application/vnd.jupyter.widget-view+json": {
       "model_id": "5fb84fe5fd6e4c1cb89d8922f9eb0f96",
       "version_major": 2,
       "version_minor": 0
      },
      "text/plain": [
       "GridBox(children=(BoundedFloatText(value=2500.0, description='P-velocity', max=9.223372036854776e+18, step=10.…"
      ]
     },
     "metadata": {},
     "output_type": "display_data"
    },
    {
     "data": {
      "application/vnd.jupyter.widget-view+json": {
       "model_id": "45e531d3e08f45daa48d2746bbdf4b2e",
       "version_major": 2,
       "version_minor": 0
      },
      "text/plain": [
       "Output()"
      ]
     },
     "metadata": {},
     "output_type": "display_data"
    },
    {
     "data": {
      "application/vnd.jupyter.widget-view+json": {
       "model_id": "d51c1d1b828849ccbb1c6064eecdc770",
       "version_major": 2,
       "version_minor": 0
      },
      "text/plain": [
       "Button(button_style='info', description='update', style=ButtonStyle(), tooltip='update the prior model')"
      ]
     },
     "metadata": {},
     "output_type": "display_data"
    }
   ],
   "source": [
    "# write top halfspace\n",
    "display(dsp.Markdown(\"#### Top Halfspace:\"))\n",
    "\n",
    "# define input boxes for vp, vs, and rho in the top halfspace\n",
    "vp1_box = ipw.BoundedFloatText(description=\"P-velocity\", value=afd.VP1, min=0, step=10, max=sys.maxsize)\n",
    "vs1_box = ipw.BoundedFloatText(description=\"S-velocity\", value=afd.VS1, min=0, step=10, max=sys.maxsize)\n",
    "rho1_box = ipw.BoundedFloatText(description=\"density\", value=afd.RHO1, min=0, step=10, max=sys.maxsize)\n",
    "    \n",
    "# group input boxes into a horizontal row\n",
    "top_box = ipw.GridBox(\n",
    "    [vp1_box, vs1_box, rho1_box], \n",
    "    layout=ipw.Layout(grid_template_columns=\"repeat(3, 300px)\"))\n",
    "display(top_box)\n",
    "\n",
    "\n",
    "# enforce stability criteria\n",
    "def update_vp1_box(*args):\n",
    "    global vp1_box\n",
    "    if np.isfinite(vp1_box.value):\n",
    "        if vp1_box.value <= 0.:\n",
    "            print('top medium: vp < 0!')\n",
    "            vp1_box.value = np.NAN\n",
    "        if vp1_box.value <= np.sqrt(8. / 3.) * vs1_box.value:\n",
    "            print('top medium: vp < sqrt(8 / 3) * vs!')\n",
    "            vp1_box.value = np.NAN\n",
    "vp1_box.observe(update_vp1_box, 'value')\n",
    "\n",
    "def update_vs1_box(*args):\n",
    "    global vs1_box\n",
    "    if np.isfinite(vs1_box.value):\n",
    "        if vs1_box.value <= 0.:\n",
    "            print('top medium: vs < 0!')\n",
    "            vs1_box.value = np.NAN\n",
    "        if vs1_box.value >= np.sqrt(3. / 8.) * vp1_box.value:\n",
    "            print('top medium: vs > sqrt(3 / 8) * vp!')\n",
    "            vs1_box.value = np.NAN\n",
    "vs1_box.observe(update_vs1_box, 'value')\n",
    "\n",
    "def update_rho1_box(*args):\n",
    "    global rho1_box\n",
    "    if np.isfinite(rho1_box.value):\n",
    "        if rho1_box.value <= 0.:\n",
    "            print('top medium: rho < 0!')\n",
    "            rho1_box.value = np.NAN\n",
    "rho1_box.observe(update_rho1_box, 'value')\n",
    "\n",
    "\n",
    "# write bottom halfspace\n",
    "display(dsp.Markdown(\"#### Bottom Halfspace:\"))\n",
    "\n",
    "# define input boxes for vs, vs, and rho in the bottom halfspace\n",
    "vp2_box = ipw.BoundedFloatText(description=\"P-velocity\", value=afd.VP2, min=0, step=10, max=sys.maxsize)\n",
    "vs2_box = ipw.BoundedFloatText(description=\"S-velocity\", value=afd.VS2, min=0, step=10, max=sys.maxsize)\n",
    "rho2_box = ipw.BoundedFloatText(description=\"density\", value=afd.RHO2, min=0, step=10, max=sys.maxsize)\n",
    "\n",
    "# group input boxes into a horizontal row\n",
    "bot_box = ipw.GridBox(\n",
    "    [vp2_box, vs2_box, rho2_box], \n",
    "    layout=ipw.Layout(grid_template_columns=\"repeat(3, 300px)\"))\n",
    "display(bot_box)\n",
    "\n",
    "\n",
    "# enforce stability criteria\n",
    "def update_vp2_box(*args):\n",
    "    global vp2_box\n",
    "    if np.isfinite(vp2_box.value):\n",
    "        if vp2_box.value <= 0.:\n",
    "            print('bottom medium: vp < 0!')\n",
    "            vp2_box.value = np.NAN\n",
    "        if vp2_box.value <= np.sqrt(8. / 3.) * vs2_box.value:\n",
    "            print('bottom medium: vp < sqrt(8 / 3) * vs!')\n",
    "            vp2_box.value = np.NAN\n",
    "vp2_box.observe(update_vp2_box, 'value')\n",
    "\n",
    "def update_vs2_box(*args):\n",
    "    global vs2_box\n",
    "    if np.isfinite(vs2_box.value):\n",
    "        if vs2_box.value <= 0.:\n",
    "            print('bottom medium: vs < 0!')\n",
    "            vs2_box.value = np.NAN\n",
    "        if vs2_box.value >= np.sqrt(3. / 8.) * vp2_box.value:\n",
    "            print('bottom medium: vs > sqrt(3 / 8) * vp!')\n",
    "            vs2_box.value = np.NAN\n",
    "vs2_box.observe(update_vs2_box, 'value')\n",
    "\n",
    "def update_rho2_box(*args):\n",
    "    global rho2_box\n",
    "    if np.isfinite(rho2_box.value):\n",
    "        if rho2_box.value <= 0.:\n",
    "            print('bottom medium: rho < 0!')\n",
    "            rho2_box.value = np.NAN\n",
    "rho2_box.observe(update_rho2_box, 'value')\n",
    "\n",
    "\n",
    "# calculate prior model and S-to-P velocity ratio\n",
    "def update_model(**kwargs):\n",
    "    # check all properties are setafd.get_medium(vp=kwargs['vp1'])\n",
    "    if not np.any([np.isnan(kwargs[prop]) for prop in ['vp1', 'vs1', 'rho1', 'vp2', 'vs2', 'rho2']]):\n",
    "        # set up the top model\n",
    "        afd.get_medium(halfspace='top', text='top', vp=kwargs['vp1'], vs=kwargs['vs1'], rho=kwargs['rho1'])\n",
    "        # set up the bottom model\n",
    "        afd.get_medium(halfspace='bot', text='bottom', vp=kwargs['vp2'], vs=kwargs['vs2'], rho=kwargs['rho2'])\n",
    "        # set up the background model\n",
    "        afd.get_back()\n",
    "        # calculate the S-to-P velocity ratio\n",
    "        afd.get_para()\n",
    "        vps_box.value = 1. / afd.para['vsp']\n",
    "        # compute the prior contrast\n",
    "        afd.get_precon()\n",
    "        # compute the prior model\n",
    "        afd.get_prior()\n",
    "\n",
    "\n",
    "# interact with input boxes and call for AVA calculation and curve preparation\n",
    "out=interactive_output(\n",
    "    update_model,\n",
    "    {'vp1': vp1_box, 'vs1': vs1_box, 'rho1': rho1_box, 'vp2': vp2_box, 'vs2': vs2_box, 'rho2': rho2_box})\n",
    "display(out)\n",
    "\n",
    "\n",
    "# define an update button\n",
    "def medbutton_action(*args):\n",
    "    # wake up Jupyter\n",
    "    pass\n",
    "\n",
    "# interact with update button\n",
    "medbutton =  ipw.Button(description = 'update', button_style = 'info', tooltip = 'update the prior model')\n",
    "display(medbutton)\n",
    "medbutton.on_click(medbutton_action)"
   ]
  },
  {
   "cell_type": "markdown",
   "id": "6fd01cea",
   "metadata": {},
   "source": [
    "### P-to-S Velocity Ratio\n",
    "\n",
    "The P-to-S velocity ratio, or internally rather its inverse, is required for both the forward and inverse problem. If all seismic properties are input above, the P-to-S velocity ratio is automatically populated, but it can be overridden in the following; otherwise, the P-to-S velocity ratio must be input next.  "
   ]
  },
  {
   "cell_type": "code",
   "execution_count": 8,
   "id": "d50f8e73",
   "metadata": {
    "scrolled": false
   },
   "outputs": [
    {
     "data": {
      "application/vnd.jupyter.widget-view+json": {
       "model_id": "66ab615b475d49a59a143122cac1f3f0",
       "version_major": 2,
       "version_minor": 0
      },
      "text/plain": [
       "interactive(children=(BoundedFloatText(value=1.6666666666666667, description='P-to-S velocity ratio', max=1.79…"
      ]
     },
     "metadata": {},
     "output_type": "display_data"
    },
    {
     "data": {
      "application/vnd.jupyter.widget-view+json": {
       "model_id": "d6986b9c4062489f9b299ced0061aaea",
       "version_major": 2,
       "version_minor": 0
      },
      "text/plain": [
       "Button(button_style='info', description='update', style=ButtonStyle(), tooltip='update the S-to-P velocity rat…"
      ]
     },
     "metadata": {},
     "output_type": "display_data"
    },
    {
     "data": {
      "application/vnd.jupyter.widget-view+json": {
       "model_id": "da0b8c65185e406b9453fd4441cf57e2",
       "version_major": 2,
       "version_minor": 0
      },
      "image/png": "[encoded data removed]",
      "text/html": [
       "\n",
       "            <div style=\"display: inline-block;\">\n",
       "                <div class=\"jupyter-widgets widget-label\" style=\"text-align: center;\">\n",
       "                    Figure\n",
       "                </div>\n",
       "                <img src='data:image/png;base64,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' width=640.0/>\n",
       "            </div>\n",
       "        "
      ],
      "text/plain": [
       "Canvas(toolbar=Toolbar(toolitems=[('Home', 'Reset original view', 'home', 'home'), ('Back', 'Back to previous …"
      ]
     },
     "metadata": {},
     "output_type": "display_data"
    },
    {
     "data": {
      "application/vnd.jupyter.widget-view+json": {
       "model_id": "e565bc803e314fd08c8230e628a7ef6b",
       "version_major": 2,
       "version_minor": 0
      },
      "image/png": "[encoded data removed]",
      "text/html": [
       "\n",
       "            <div style=\"display: inline-block;\">\n",
       "                <div class=\"jupyter-widgets widget-label\" style=\"text-align: center;\">\n",
       "                    Figure\n",
       "                </div>\n",
       "                <img src='data:image/png;base64,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' width=640.0/>\n",
       "            </div>\n",
       "        "
      ],
      "text/plain": [
       "Canvas(toolbar=Toolbar(toolitems=[('Home', 'Reset original view', 'home', 'home'), ('Back', 'Back to previous …"
      ]
     },
     "metadata": {},
     "output_type": "display_data"
    }
   ],
   "source": [
    "# interact with vps box\n",
    "@interact(vps=vps_box)\n",
    "def vsp_update(**kwargs):\n",
    "    # update S-to-P velocity ratio\n",
    "    afd.get_para(vps=kwargs['vps'])\n",
    "\n",
    "\n",
    "# define an update button\n",
    "def vspbutton_action(*args):\n",
    "    # wake up Jupyter\n",
    "    pass\n",
    "\n",
    "# interact with update button\n",
    "vspbutton =  ipw.Button(description = 'update', button_style = 'info', tooltip = 'update the S-to-P velocity ratio')\n",
    "display(vspbutton)\n",
    "vspbutton.on_click(vspbutton_action)"
   ]
  },
  {
   "cell_type": "markdown",
   "id": "5fd5fb73",
   "metadata": {},
   "source": [
    "### AVA Curve\n",
    "\n",
    "Finally, the theoretical AVA curve can be calculated and displayed. "
   ]
  },
  {
   "cell_type": "code",
   "execution_count": 9,
   "id": "b2a6220b",
   "metadata": {
    "scrolled": false
   },
   "outputs": [
    {
     "data": {
      "application/vnd.jupyter.widget-view+json": {
       "model_id": "e8e4b369a6e242ea86cb09207b4e74f4",
       "version_major": 2,
       "version_minor": 0
      },
      "text/plain": [
       "Output()"
      ]
     },
     "metadata": {},
     "output_type": "display_data"
    }
   ],
   "source": [
    "# calculate and display an AVA curve based on a prior model\n",
    "def ava_update(**kwargs):\n",
    "    # check all properties are set\n",
    "    # (note, an AVA curve depends strictly on the prior model and the S-to-P velocity ratio)\n",
    "    if not (np.any(np.isnan(afd.prior['mod'])) or np.isnan(afd.para['vsp'])):\n",
    "        # initialize figure \n",
    "        afd.init_plot(num=1, title='AVA Curve')   # figure number hard-wired \n",
    "        # calculate AVA points for the given prior model\n",
    "        afd.comp_coeff(mode='COEFF')  \n",
    "        # create a figure based on those AVA points\n",
    "        afd.plot_all(mode='COEFF')      \n",
    "        # exit figure\n",
    "        afd.exit_plot(env=afd.PLOTENVIRONMENT)\n",
    "\n",
    "# interact with input boxes and call the above AVA calculation and display\n",
    "# (note, any change in any one of the following boxes already triggers a re-calcuation of the prior model or the S-to-P\n",
    "# velocity ratio)\n",
    "ava_box = interactive_output(ava_update, {'rho1': rho1_box, 'rho2': rho2_box, 'vps': vps_box})\n",
    "\n",
    "# display AVA curve\n",
    "display(ava_box)"
   ]
  },
  {
   "cell_type": "markdown",
   "id": "a6009fb3",
   "metadata": {},
   "source": [
    "## The Inverse Problem\n",
    "\n",
    "The \"inverse problem\" is the opposite, that is inferring a model from available data. \"Bayes's theory\" of inversion aims to optimize that inference: based on already a-priori available information about the model, an estimate of the uncertainty of such prior information, and further based on an estimate of data quality, Bayes theory provides the optimal a-posteriori information possible.\n",
    "\n",
    "In AVA inversion, here, the normalized contrasts make up the \"model\" in a Bayesian sense: as said, the properties to invert for. Hence, in a Bayesian context, the \"prior model\" comprises all information we have already derived from, e.g., a velocity analysis; and the \"prior uncertainty\" is the uncertainty with which we can perform a velocity analysis. \n",
    "\n",
    "The \"parameters\" in an AVA inversion are the P-to-S velocity ratio and the incidence angles. For now, let's assume, we know these parameters with zero uncertainty, although, admittedly, such accuracy will never be possible in practice.\n",
    "\n",
    "Then, the \"data\" are the reflection / transmission coefficients. Here, the terms coefficients and \"amplitude\" are often mixed up: AVA-inversion requires the coefficients or normalized amplitudes, that is the amplitude ratio of a wave after and before reflection / transmission. True-amplitude processing seems elusive in practice, but that uncertainty is part of the \"data uncertainty.\"\n",
    "\n",
    "Tip: Re-run this cell to make the figure active. This is because Matplotlib keeps the last figure active, and so any interactive input will be plotted in that figure. The data -- amplitude over incidence angle -- can be input directly in the below figure. The order in which the data are input does not matter. You only need to click on the respective point in the display; the actual cursor position is shown at the bottom of the figure.\n",
    "\n",
    "Tip: Due to a bug in Jupyter, I cannot make it accept double clicks for entering data points. And, so, single clicks are used for both the figure ornaments and data points. Hence, your best bet for now, don't change the figure layout."
   ]
  },
  {
   "cell_type": "code",
   "execution_count": 10,
   "id": "4e369c20",
   "metadata": {
    "scrolled": false
   },
   "outputs": [
    {
     "data": {
      "application/vnd.jupyter.widget-view+json": {
       "model_id": "b8f31f74df6c4d3ebee1535fdcbef13c",
       "version_major": 2,
       "version_minor": 0
      },
      "text/plain": [
       "Output()"
      ]
     },
     "metadata": {},
     "output_type": "display_data"
    },
    {
     "data": {
      "application/vnd.jupyter.widget-view+json": {
       "model_id": "1c00d1293a7e43588399b41c714ccd9d",
       "version_major": 2,
       "version_minor": 0
      },
      "image/png": "[encoded data removed]",
      "text/html": [
       "\n",
       "            <div style=\"display: inline-block;\">\n",
       "                <div class=\"jupyter-widgets widget-label\" style=\"text-align: center;\">\n",
       "                    Figure\n",
       "                </div>\n",
       "                <img src='data:image/png;base64,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' width=640.0/>\n",
       "            </div>\n",
       "        "
      ],
      "text/plain": [
       "Canvas(toolbar=Toolbar(toolitems=[('Home', 'Reset original view', 'home', 'home'), ('Back', 'Back to previous …"
      ]
     },
     "metadata": {},
     "output_type": "display_data"
    }
   ],
   "source": [
    "# input AVA data points and calculate best-fitting AVA curve\n",
    "def data_update(**kwargs):\n",
    "    # check all properties are set\n",
    "    if not np.isnan(afd.para['vsp']):\n",
    "        # initialize figure\n",
    "        afd.init_plot(num=2, title='Classical AVA Inversion')\n",
    "        # re-plot old data and AVA curve\n",
    "        if afd.data['nos'] > 0:\n",
    "            # re-invert data to posterior model \n",
    "            # (in case inversion method has changed w/o uncertainty or prior model)\n",
    "            afd.invert_ava(mode='COEFF-DATA-AVA-')\n",
    "            # re-calculate AVA curve from the posterior model\n",
    "            afd.comp_post_ava()\n",
    "            # re-plot old data and corresponding AVA curve\n",
    "            afd.replot_data_ava(mode='COEFF-DATA-AVA-', num=2)\n",
    "        # catch new data points, invert all data points, and plot an AVA curve based on the new posterior model\n",
    "        afd.plot_all(mode='COEFF-DATA-AVA-', num=2)        \n",
    "\n",
    "# interact with input boxes and call for AVA calculation and curve\n",
    "out = interactive_output(data_update, {'vps': vps_box})\n",
    "\n",
    "# display AVA curve\n",
    "display(out)"
   ]
  },
  {
   "cell_type": "markdown",
   "id": "089a49dd",
   "metadata": {},
   "source": [
    "### Prior Model Uncertainty\n",
    "\n",
    "Let's take the prior model as above, and input only the prior uncertainty. Admittedly, estimating prior uncertainty is in itself another Bayesian problem. \n",
    "\n",
    "Tip: However, recall, a distribution of random numbers is almost entirely contained within 3 times its standard deviation (STD): so, estimate the maximum error of, e.g., our velocity analysis and devide that value by 3 to obtain the prior uncertainty expressed in terms of its standard deviation. Not perfect, but good enough for a first gestimate."
   ]
  },
  {
   "cell_type": "code",
   "execution_count": 11,
   "id": "9beac51e",
   "metadata": {
    "scrolled": false
   },
   "outputs": [
    {
     "data": {
      "text/markdown": [
       "#### Top Halfspace:"
      ],
      "text/plain": [
       "<IPython.core.display.Markdown object>"
      ]
     },
     "metadata": {},
     "output_type": "display_data"
    },
    {
     "data": {
      "application/vnd.jupyter.widget-view+json": {
       "model_id": "d84bb0c33f284140aad772342f8e802c",
       "version_major": 2,
       "version_minor": 0
      },
      "text/plain": [
       "GridBox(children=(BoundedFloatText(value=20.0, description='P-velocity +/-', max=9.223372036854776e+18, step=1…"
      ]
     },
     "metadata": {},
     "output_type": "display_data"
    },
    {
     "data": {
      "text/markdown": [
       "#### Bottom Halfspace:"
      ],
      "text/plain": [
       "<IPython.core.display.Markdown object>"
      ]
     },
     "metadata": {},
     "output_type": "display_data"
    },
    {
     "data": {
      "application/vnd.jupyter.widget-view+json": {
       "model_id": "248f5fcc28de4362b3ff64f3b009a946",
       "version_major": 2,
       "version_minor": 0
      },
      "text/plain": [
       "GridBox(children=(BoundedFloatText(value=25.0, description='P-velocity +/-', max=9.223372036854776e+18, step=1…"
      ]
     },
     "metadata": {},
     "output_type": "display_data"
    },
    {
     "data": {
      "application/vnd.jupyter.widget-view+json": {
       "model_id": "88fc8be2dca64d29a888d8dc3f9cfd40",
       "version_major": 2,
       "version_minor": 0
      },
      "text/plain": [
       "Output()"
      ]
     },
     "metadata": {},
     "output_type": "display_data"
    }
   ],
   "source": [
    "# write subtitle for the top halfspace\n",
    "display(dsp.Markdown(\"#### Top Halfspace:\"))\n",
    "\n",
    "# write input boxes for seismic properties in the top halfspace\n",
    "dvp1_box = ipw.BoundedFloatText(description=\"P-velocity +/-\", value=afd.DVP1, min=0, step=1, max=sys.maxsize)\n",
    "dvs1_box = ipw.BoundedFloatText(description=\"S-velocity +/-\", value=afd.DVS1, min=0, step=1, max=sys.maxsize)\n",
    "drho1_box = ipw.BoundedFloatText(description=\"density +/-\", value=afd.DRHO1, min=0, step=1, max=sys.maxsize)\n",
    "\n",
    "# line up input boxes for the top halfspace and display\n",
    "dtop_box = ipw.GridBox(\n",
    "    [dvp1_box, dvs1_box, drho1_box], \n",
    "    layout=ipw.Layout(grid_template_columns=\"repeat(3, 300px)\"))\n",
    "display(dtop_box)\n",
    "\n",
    "# write subtitle for the bottom halfspace\n",
    "display(dsp.Markdown(\"#### Bottom Halfspace:\"))\n",
    "\n",
    "# write input boxes for seismic properties in the bottom halfspace\n",
    "\n",
    "dvp2_box = ipw.BoundedFloatText(description=\"P-velocity +/-\", value=afd.DVP2, min=0, step=1, max=sys.maxsize)\n",
    "dvs2_box = ipw.BoundedFloatText(description=\"S-velocity +/-\", value=afd.DVS2, min=0, step=1, max=sys.maxsize)\n",
    "drho2_box = ipw.BoundedFloatText(description=\"density +/-\", value=afd.DRHO2, min=0, step=1, max=sys.maxsize)\n",
    "\n",
    "# line up input boxes for the bottom halfspace and display\n",
    "dbot_box = ipw.GridBox(\n",
    "    [dvp2_box, dvs2_box, drho2_box], \n",
    "    layout=ipw.Layout(grid_template_columns=\"repeat(3, 300px)\"))\n",
    "display(dbot_box)\n",
    "\n",
    "# update P-to-S velocity ratio, prior model and coefficients\n",
    "def update_model(**kwargs):\n",
    "    # check all properties are setafd.get_medium(vp=kwargs['vp1'])\n",
    "    if not np.any([np.isnan(kwargs[prop]) for prop in ['dvp1', 'dvs1', 'drho1', 'dvp2', 'dvs2', 'drho2']]):\n",
    "        # set up the top model\n",
    "        afd.get_medium(halfspace='top', text='top', dvp=kwargs['dvp1'], dvs=kwargs['dvs1'], drho=kwargs['drho1'])\n",
    "        # set up the bottom model\n",
    "        afd.get_medium(halfspace='bot', text='bottom', dvp=kwargs['dvp2'], dvs=kwargs['dvs2'], drho=kwargs['drho2'])\n",
    "        # set up the background model\n",
    "        afd.get_back()\n",
    "        # calculate parameters as, here, the S-to-P velocity ratio\n",
    "        afd.get_para()\n",
    "        # compute prior contrast\n",
    "        afd.get_precon()\n",
    "        # compute the prior\n",
    "        afd.get_prior()\n",
    "        \n",
    "    \n",
    "# interact with all input boxes\n",
    "out = interactive_output(\n",
    "    update_model, \n",
    "    {'dvp1': dvp1_box, 'dvs1': dvs1_box, 'drho1': drho1_box, 'dvp2': dvp2_box, 'dvs2': dvs2_box, 'drho2': drho2_box})\n",
    "display(out)"
   ]
  },
  {
   "cell_type": "markdown",
   "id": "4de34146",
   "metadata": {},
   "source": [
    "### Data Uncertainty\n",
    "\n",
    "\"Data uncertainty\", in a Bayesian sense, is the standard deviation (STD) of ambient noise contaminating the data, thereby assuming noise samples are normally distributed.\n",
    "\n",
    "However, the signal-to-noise ratio (SNR) is more popular. Here, the signal-to-noise ratio (SNR) is defined as the ratio of a wavelet's amplitude (A) and the standard deviation (STD) of ambient noise. The graph shows the superposition of a triangular wavelet with amplitude 1.0 and a realization of random noise with the requested STD (by definition, STD = A * SNR). \n",
    "\n",
    "Tip: Adjust the signal-to-noise ratio until the amount of noise appear similar to your data."
   ]
  },
  {
   "cell_type": "code",
   "execution_count": 12,
   "id": "3f83b993",
   "metadata": {},
   "outputs": [
    {
     "data": {
      "application/vnd.jupyter.widget-view+json": {
       "model_id": "e4d3fff28c3c4649accaa055a3ac6736",
       "version_major": 2,
       "version_minor": 0
      },
      "text/plain": [
       "BoundedFloatText(value=5.0, description='signal-to-noise', max=9.223372036854776e+18, min=0.1, step=0.1)"
      ]
     },
     "metadata": {},
     "output_type": "display_data"
    },
    {
     "data": {
      "application/vnd.jupyter.widget-view+json": {
       "model_id": "4cc29311d53349a7b8f1d82e732b48fa",
       "version_major": 2,
       "version_minor": 0
      },
      "text/plain": [
       "Output()"
      ]
     },
     "execution_count": 12,
     "metadata": {},
     "output_type": "execute_result"
    },
    {
     "data": {
      "application/vnd.jupyter.widget-view+json": {
       "model_id": "b7040835da1b49b495c88d287a102812",
       "version_major": 2,
       "version_minor": 0
      },
      "text/plain": [
       "Button(button_style='info', description='update', style=ButtonStyle(), tooltip='update the signal-to-noise rat…"
      ]
     },
     "metadata": {},
     "output_type": "display_data"
    }
   ],
   "source": [
    "# define the input box for the signal-to-noise ratio\n",
    "snr_box = ipw.BoundedFloatText(description=\"signal-to-noise\", value=afd.SNR, min=0.1, step=0.1, max=sys.maxsize)\n",
    "display(snr_box)\n",
    "\n",
    "# display wavelet with ambient noise at the given signal-to-noise ratio\n",
    "def snr_update(**kwargs):\n",
    "    global snr_box\n",
    "    afd.get_data(snr=kwargs['snr'])\n",
    "\n",
    "# interact with input boxes and call for AVA calculation and curve preparation\n",
    "interactive_output(snr_update, {'snr': snr_box})\n",
    "\n",
    "\n",
    "# define an update button\n",
    "def snrbutton_action(*args):\n",
    "    # wake up Jupyter\n",
    "    pass\n",
    "\n",
    "# interact with update button\n",
    "snrbutton =  ipw.Button(description = 'update', button_style = 'info', tooltip = 'update the signal-to-noise ratio')\n",
    "display(snrbutton)\n",
    "snrbutton.on_click(snrbutton_action)"
   ]
  },
  {
   "cell_type": "code",
   "execution_count": 13,
   "id": "5df49d38",
   "metadata": {
    "scrolled": false
   },
   "outputs": [
    {
     "data": {
      "application/vnd.jupyter.widget-view+json": {
       "model_id": "91470562f99640b999238b380217ab19",
       "version_major": 2,
       "version_minor": 0
      },
      "text/plain": [
       "Output()"
      ]
     },
     "metadata": {},
     "output_type": "display_data"
    },
    {
     "data": {
      "application/vnd.jupyter.widget-view+json": {
       "model_id": "2d01915f48734544b5294493eaee0c8f",
       "version_major": 2,
       "version_minor": 0
      },
      "text/plain": [
       "Button(button_style='info', description='repeat', style=ButtonStyle(), tooltip='repeat wavelet')"
      ]
     },
     "metadata": {},
     "output_type": "display_data"
    }
   ],
   "source": [
    "# display wavelet with ambient noise at the given signal-to-noise ratio\n",
    "def wvl_update(*args, **kwargs):\n",
    "    afd.init_plot(num=3)\n",
    "    afd.mk_wavelet(name='triangle', hwd=10, num=3)\n",
    "    afd.exit_plot(env=afd.PLOTENVIRONMENT)\n",
    "def wvl_repeat(*args, **kwargs):\n",
    "    afd.mk_wavelet(name='triangle', hwd=10, num=3)\n",
    "    afd.exit_plot(env=afd.CANVASENVIRONMENT)\n",
    "    \n",
    "# interact with the signal-to-noise ratio box\n",
    "wvl_box = interactive_output(wvl_update, {'snr': snr_box})\n",
    "\n",
    "# display AVA curve\n",
    "display(wvl_box)\n",
    "\n",
    "\n",
    "# interact with repeat button\n",
    "wvlbutton =  ipw.Button(description = 'repeat', button_style = 'info', tooltip = 'repeat wavelet')\n",
    "display(wvlbutton)\n",
    "wvlbutton.on_click(wvl_repeat)"
   ]
  },
  {
   "cell_type": "markdown",
   "id": "70cd650b",
   "metadata": {},
   "source": [
    "## Bayesian AVA Inversion\n",
    "\n",
    "Bayesian AVA inversion strikes an optimal balance between prior information and data -- that is, here, the prior model of normalized property contrasts and normalized reflection coefficients. Thereby, both sets of information are weighted according to their respective covariances.\n",
    "\n",
    "Note, the algorithm is robust, but its results are sensible only if, firstly, the assumptions behind \"linearized AVA inversion\" -- that is, small property contrasts -- are met, and, secondly, prior information and data are consistent. \"Consistent\" means, in turn, two physical important properties: Firstly, the data are normally distributed around the exact normalized reflection coefficients that would have been generated by a wave propagating in the true model. Fortunately, each seismic experiment yields multiple realizations -- in statistical language -- of reflection coefficients. In contrast, the prior model is but one realization of the true model. Only if we were to repeat the seismic experiment multiple times, and do so independently of each other, could we speak of multiple realizations of a prior model. Of course, that is not going to happen. At most, we could generate multiple realization of a prior model during seismic processing and repeat the inversion. So, instead, and secondly, we simply assume the prior model to be sufficiently close to the true model. \n",
    "\n",
    "Tip: The below figure shows a band of reflection coefficients generated for the prior model. Given the caveats above, the data error bars must be distributed across that band in a Gaussian sense. An unbalanced distribution of data points is a sure indication the prior model might be too far off the true model. Of course, theoretically, it can happen, but, then, do repeat the exercise with a set of normally distributed prior models and build a distribution of posterior models."
   ]
  },
  {
   "cell_type": "code",
   "execution_count": 14,
   "id": "1c57683e",
   "metadata": {
    "scrolled": false
   },
   "outputs": [
    {
     "data": {
      "application/vnd.jupyter.widget-view+json": {
       "model_id": "083faea573d6499fa3de802296cae7cd",
       "version_major": 2,
       "version_minor": 0
      },
      "text/plain": [
       "Output()"
      ]
     },
     "metadata": {},
     "output_type": "display_data"
    },
    {
     "data": {
      "application/vnd.jupyter.widget-view+json": {
       "model_id": "a60d877ef37a43b89b2bfe27832ec296",
       "version_major": 2,
       "version_minor": 0
      },
      "text/plain": [
       "Output()"
      ]
     },
     "metadata": {},
     "output_type": "display_data"
    },
    {
     "data": {
      "application/vnd.jupyter.widget-view+json": {
       "model_id": "8f78c489965d42ef9c45027ebe57e6f3",
       "version_major": 2,
       "version_minor": 0
      },
      "text/plain": [
       "Button(button_style='info', description='print', style=ButtonStyle(), tooltip='print posterior model')"
      ]
     },
     "metadata": {},
     "output_type": "display_data"
    }
   ],
   "source": [
    "# input AVA data points and calculate best-fitting AVA curve\n",
    "def coeff_data_ava_update(**kwargs):\n",
    "    # check all properties are set\n",
    "    if not (                                        # not any of the following:\n",
    "            np.isnan(afd.para['vsp']) or            # signal-to-noise ratio found in the reflection matrix NAN\n",
    "            np.isnan(afd.data['std']) or            # data uncertainty (blown up to data covariance) NAN\n",
    "            np.any(np.isnan(afd.prior['std'])) or   # any prior component uncertainty (blown up to prior covariance) NAN\n",
    "            np.any(np.isnan(afd.prior['mod']))):    # any prior model component NAN\n",
    "        # initialize figure \n",
    "        afd.init_plot(num=4) \n",
    "        # calculate the AVA curve from the prior model\n",
    "        afd.comp_coeff(mode='COEFF+DATA+AVA+')\n",
    "        # calculate the posterior model from the data if any\n",
    "        afd.invert_ava(mode='COEFF+DATA+AVA+')\n",
    "        # calculate the AVA curve for the posterior model\n",
    "        afd.comp_post_ava()\n",
    "        # re-plot the AVA curves for the prior and posterior model as well as the data points\n",
    "        afd.replot_data_ava(mode='COEFF+DATA+AVA+', num=4)\n",
    "        # catch data points, invert and plot an AVA curve from posteriors\n",
    "        afd.plot_all(mode='COEFF+DATA+AVA+', num=4) \n",
    "\n",
    "# interact with input boxes and call for AVA calculation and curve\n",
    "coeff_data_ava_box = interactive_output(\n",
    "    coeff_data_ava_update, {\n",
    "        'vps': vps_box,                                           # P- and S-velocities in top and bottom halfspaces\n",
    "        'rho1': rho1_box, 'rho2': rho2_box,                       # densities in top and bottom halfspaces\n",
    "        'dvp1': dvp1_box, 'dvs1': dvs1_box, 'drho1': drho1_box,   # uncertainties top halfspace\n",
    "        'dvp2': dvp2_box, 'dvs2': dvs2_box, 'drho2': drho2_box,   # uncertainties bottom halfspace \n",
    "        'snr': snr_box})                                          # uncertainty in data (from signal-to-noise ratio)\n",
    "\n",
    "# display AVA curve\n",
    "display(coeff_data_ava_box)\n",
    "\n",
    "\n",
    "# generate box for posterior\n",
    "out = ipw.Output()\n",
    "display(out)\n",
    "\n",
    "# define an update button\n",
    "def baybutton_action(*args):\n",
    "    # print\n",
    "    with out:\n",
    "        out.clear_output()\n",
    "        _ = afd.printout(text='posterior model', vals=afd.post)\n",
    "        _ = afd.printout(text='posterior contrast', vals=afd.poscon)\n",
    "\n",
    "# interact with update button\n",
    "baybutton =  ipw.Button(description = 'print', button_style = 'info', tooltip = 'print posterior model')\n",
    "display(baybutton)\n",
    "baybutton.on_click(baybutton_action)"
   ]
  },
  {
   "cell_type": "markdown",
   "id": "628a3e49",
   "metadata": {},
   "source": [
    "Tip: Due to a bug in Jupyter -- printing after an interactive event when using the backend ipympl -- the posterior model, which is updated with each additional data point, cannot be printed from within the Python code. Instead, it must be extracted manually, as done above."
   ]
  },
  {
   "cell_type": "code",
   "execution_count": 15,
   "id": "aa461071",
   "metadata": {},
   "outputs": [
    {
     "data": {
      "text/html": [
       "\n",
       "                <script>\n",
       "                    code_show=true;\n",
       "                    function code_toggle() {\n",
       "                        if (code_show){\n",
       "                            $('div.input').hide();\n",
       "                        } else {\n",
       "                            $('div.input').show();\n",
       "                        }\n",
       "                        code_show = !code_show\n",
       "                    }\n",
       "                    $( document ).ready(code_toggle);\n",
       "                </script>\n",
       "                <form action=\"javascript:code_toggle()\">\n",
       "                    <input type=\"submit\" value=\"Toggle Jupyter input on/off\">\n",
       "                </form>\n",
       "            "
      ],
      "text/plain": [
       "<IPython.core.display.HTML object>"
      ]
     },
     "metadata": {},
     "output_type": "display_data"
    }
   ],
   "source": [
    "# input toggle\n",
    "%inputtoggle"
   ]
  },
  {
   "cell_type": "code",
   "execution_count": null,
   "id": "81437d9e",
   "metadata": {},
   "outputs": [],
   "source": []
  }
 ],
 "metadata": {
  "kernelspec": {
   "display_name": "Python 3 (ipykernel)",
   "language": "python",
   "name": "python3"
  },
  "language_info": {
   "codemirror_mode": {
    "name": "ipython",
    "version": 3
   },
   "file_extension": ".py",
   "mimetype": "text/x-python",
   "name": "python",
   "nbconvert_exporter": "python",
   "pygments_lexer": "ipython3",
   "version": "3.9.15"
  },
  "latex_envs": {
   "LaTeX_envs_menu_present": true,
   "autoclose": false,
   "autocomplete": true,
   "bibliofile": "biblio.bib",
   "cite_by": "apalike",
   "current_citInitial": 1,
   "eqLabelWithNumbers": true,
   "eqNumInitial": 1,
   "hotkeys": {
    "equation": "Ctrl-E",
    "itemize": "Ctrl-I"
   },
   "labels_anchors": false,
   "latex_user_defs": false,
   "report_style_numbering": false,
   "user_envs_cfg": false
  },
  "toc-showtags": true
 },
 "nbformat": 4,
 "nbformat_minor": 5
}
