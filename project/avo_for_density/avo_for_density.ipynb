{
 "cells": [
  {
   "cell_type": "markdown",
   "id": "6f6b2afc",
   "metadata": {},
   "source": [
    "# Steinkauz\n",
    "\n",
    "## Notebook: avo_for_density\n",
    "\n",
    "See the [Steinkauz repository](https://github.com/bjornrommel/steinkauz) for the code source."
   ]
  },
  {
   "cell_type": "code",
   "execution_count": 1,
   "id": "67b7ff9f",
   "metadata": {
    "scrolled": false
   },
   "outputs": [],
   "source": [
    "# load project magics\n",
    "try:\n",
    "    %reload_ext steinkauz\n",
    "except ModuleNotFoundError as msg:\n",
    "    print(msg)\n",
    "    print(\"steinkauz not installed?\")"
   ]
  },
  {
   "cell_type": "code",
   "execution_count": 2,
   "id": "7a6ac075",
   "metadata": {},
   "outputs": [],
   "source": [
    "%steinkauz --option setup --prefile mypackages.tex --predir ."
   ]
  },
  {
   "cell_type": "code",
   "execution_count": 3,
   "id": "cae94484",
   "metadata": {},
   "outputs": [],
   "source": [
    "# import Python, IPython modules\n",
    "import sys\n",
    "import numpy as np\n",
    "from functools import wraps\n",
    "from IPython.display import display, Image, Javascript\n",
    "import ipywidgets as ipw\n",
    "from ipywidgets import interact, interactive, fixed, interact_manual\n",
    "from matplotlib import pyplot as plt\n",
    "import avo_for_density as ad"
   ]
  },
  {
   "cell_type": "code",
   "execution_count": 4,
   "id": "7c969ee5",
   "metadata": {},
   "outputs": [],
   "source": [
    "# define matplotlib in one of the following two alternatives: notebook or inline (preferrably with retina)\n",
    "%matplotlib ipympl"
   ]
  },
  {
   "cell_type": "code",
   "execution_count": 5,
   "id": "ed7afd53",
   "metadata": {},
   "outputs": [],
   "source": [
    "# set default parameters\n",
    "import matplotlib as mpl\n",
    "# change to local matplotlibrc and edit the same parameters or set the rcParams below\n",
    "### mpl.matplotlib_fname()                   # print location of matplotlibrc\n",
    "mpl.rcParams['text.usetex'] = True           # use latex\n",
    "### mpl.rcParams['ps.usedistiller'] = None   # 'ghostscript' or 'xpdf', but any difference?\n",
    "mpl.rcParams['font.size'] = 11"
   ]
  },
  {
   "cell_type": "code",
   "execution_count": 6,
   "id": "1af05e47",
   "metadata": {},
   "outputs": [
    {
     "data": {
      "text/html": [
       "\n",
       "                <script>\n",
       "                    code_show=true;\n",
       "                    function code_toggle() {\n",
       "                        if (code_show){\n",
       "                            $('div.input').hide();\n",
       "                        } else {\n",
       "                            $('div.input').show();\n",
       "                        }\n",
       "                        code_show = !code_show\n",
       "                    }\n",
       "                    $( document ).ready(code_toggle);\n",
       "                </script>\n",
       "                <form action=\"javascript:code_toggle()\">\n",
       "                    <input type=\"submit\" value=\"Toggle Jupyter input on/off\">\n",
       "                </form>\n",
       "            "
      ],
      "text/plain": [
       "<IPython.core.display.HTML object>"
      ]
     },
     "metadata": {},
     "output_type": "display_data"
    }
   ],
   "source": [
    "# input toggle\n",
    "%inputtoggle"
   ]
  },
  {
   "cell_type": "markdown",
   "id": "6c02c138",
   "metadata": {},
   "source": [
    "Set the DPI and magnification of the screen output!"
   ]
  },
  {
   "cell_type": "code",
   "execution_count": 7,
   "id": "a83a7aa0",
   "metadata": {
    "scrolled": true
   },
   "outputs": [
    {
     "data": {
      "application/vnd.jupyter.widget-view+json": {
       "model_id": "e8b2bd2d37274fa5acf470bbf961d364",
       "version_major": 2,
       "version_minor": 0
      },
      "text/plain": [
       "interactive(children=(BoundedIntText(value=300, description='DPI', max=9223372036854775807, min=1), Output()),…"
      ]
     },
     "metadata": {},
     "output_type": "display_data"
    },
    {
     "data": {
      "application/vnd.jupyter.widget-view+json": {
       "model_id": "420bad84f60348fda5c80594aeedd943",
       "version_major": 2,
       "version_minor": 0
      },
      "text/plain": [
       "interactive(children=(BoundedFloatText(value=0.5, description='magnification', step=0.01), Output()), _dom_cla…"
      ]
     },
     "metadata": {},
     "output_type": "display_data"
    },
    {
     "data": {
      "application/vnd.jupyter.widget-view+json": {
       "model_id": "4384bc94284644fd99973291237afc5f",
       "version_major": 2,
       "version_minor": 0
      },
      "text/plain": [
       "Button(button_style='info', description='update', style=ButtonStyle(), tooltip='update calculations and graphi…"
      ]
     },
     "metadata": {},
     "output_type": "display_data"
    }
   ],
   "source": [
    "# request DPI\n",
    "dpi_box = ipw.BoundedIntText(value=300, min=1, max=sys.maxsize, step=1, description='DPI')\n",
    "\n",
    "# update DPI\n",
    "def dpi_update(**kwargs):\n",
    "    global dpi\n",
    "    dpi = kwargs['dpi']\n",
    "\n",
    "# interact with dpi box\n",
    "@interact(dpi=dpi_box)\n",
    "@wraps(dpi_update)\n",
    "def func(**kwargs):\n",
    "    # update dpi\n",
    "    dpi_update(**kwargs)\n",
    "\n",
    "\n",
    "# request magnification\n",
    "mag_box = ipw.BoundedFloatText(description=\"magnification\", value=0.5, step=0.01)\n",
    "\n",
    "# update mag\n",
    "def mag_update(**kwargs):\n",
    "    global mag\n",
    "    mag = kwargs['mag']\n",
    "\n",
    "# interact with mag box\n",
    "@interact(mag=mag_box)\n",
    "@wraps(mag_update)\n",
    "def func(**kwargs):\n",
    "    # update magnification\n",
    "    mag_update(**kwargs)\n",
    "\n",
    "\n",
    "def button_action(*args):\n",
    "    # do nothing but wake up Jupyter\n",
    "    pass \n",
    "    \n",
    "# click button\n",
    "button =  ipw.Button(description = 'update', button_style = 'info', tooltip = 'update calculations and graphics')\n",
    "display(button)\n",
    "button.on_click(button_action)"
   ]
  },
  {
   "cell_type": "code",
   "execution_count": 8,
   "id": "f724370e",
   "metadata": {
    "scrolled": false
   },
   "outputs": [
    {
     "data": {
      "image/png": "[encoded data removed]",
      "text/plain": [
       "<IPython.core.display.Image object>"
      ]
     },
     "metadata": {},
     "output_type": "display_data"
    }
   ],
   "source": [
    "%steinkauz --option notebook --dpi $dpi --mag $mag --texdir title --texfile title VERSION"
   ]
  },
  {
   "cell_type": "markdown",
   "id": "c1b32ae3",
   "metadata": {},
   "source": [
    "top medium:"
   ]
  },
  {
   "cell_type": "code",
   "execution_count": 9,
   "id": "9beac51e",
   "metadata": {
    "scrolled": false
   },
   "outputs": [
    {
     "data": {
      "application/vnd.jupyter.widget-view+json": {
       "model_id": "07a66a591dc045a98c0dea217f359b8a",
       "version_major": 2,
       "version_minor": 0
      },
      "text/plain": [
       "GridBox(children=(BoundedFloatText(value=2000.0, description='P-velocity', max=9.223372036854776e+18, step=1.0…"
      ]
     },
     "metadata": {},
     "output_type": "display_data"
    }
   ],
   "source": [
    "vp1_box = ipw.BoundedFloatText(description=\"P-velocity\", value=2000, min=0, step=1, max=sys.maxsize)\n",
    "vs1_box = ipw.BoundedFloatText(description=\"S-velocity\", value=1200, min=0, step=1, max=sys.maxsize)\n",
    "rho1_box = ipw.BoundedFloatText(description=\"density\", value=2000, min=0, step=1, max=sys.maxsize)\n",
    "\n",
    "dvp1_box = ipw.BoundedFloatText(description=\"+/-\", value=25, min=0, step=1, max=sys.maxsize)\n",
    "dvs1_box = ipw.BoundedFloatText(description=\"+/-\", value=15, min=0, step=1, max=sys.maxsize)\n",
    "drho1_box = ipw.BoundedFloatText(description=\"+/-\", value=20, min=0, step=1, max=sys.maxsize)\n",
    "    \n",
    "items = [vp1_box, vs1_box, rho1_box, dvp1_box, dvs1_box, drho1_box]\n",
    "ipw.GridBox(items, layout=ipw.Layout(grid_template_columns=\"repeat(3, 300px)\"))"
   ]
  },
  {
   "cell_type": "markdown",
   "id": "c9a46dba",
   "metadata": {},
   "source": [
    "bottom medium:"
   ]
  },
  {
   "cell_type": "code",
   "execution_count": 10,
   "id": "3e2f10f5",
   "metadata": {},
   "outputs": [
    {
     "data": {
      "application/vnd.jupyter.widget-view+json": {
       "model_id": "0e7194d9ba504d8582c9b10fd194d59c",
       "version_major": 2,
       "version_minor": 0
      },
      "text/plain": [
       "GridBox(children=(BoundedFloatText(value=2500.0, description='P-velocity', max=9.223372036854776e+18, step=1.0…"
      ]
     },
     "metadata": {},
     "output_type": "display_data"
    }
   ],
   "source": [
    "vp2_box = ipw.BoundedFloatText(description=\"P-velocity\", value=2500, min=0, step=1, max=sys.maxsize)\n",
    "vs2_box = ipw.BoundedFloatText(description=\"S-velocity\", value=1500, min=0, step=1, max=sys.maxsize)\n",
    "rho2_box = ipw.BoundedFloatText(description=\"density\", value=2200, min=0, step=1, max=sys.maxsize)\n",
    "\n",
    "dvp2_box = ipw.BoundedFloatText(description=\"+/-\", value=25, min=0, step=1, max=sys.maxsize)\n",
    "dvs2_box = ipw.BoundedFloatText(description=\"+/-\", value=15, min=0, step=1, max=sys.maxsize)\n",
    "drho2_box = ipw.BoundedFloatText(description=\"+/-\", value=20, min=0, step=1, max=sys.maxsize)\n",
    "\n",
    "items = [vp2_box, vs2_box, rho2_box, dvp2_box, dvs2_box, drho2_box]\n",
    "ipw.GridBox(items, layout=ipw.Layout(grid_template_columns=\"repeat(3, 300px)\"))"
   ]
  },
  {
   "cell_type": "code",
   "execution_count": 11,
   "id": "bbc5a269",
   "metadata": {},
   "outputs": [],
   "source": [
    "# prepare final pdf file\n",
    "%steinkauz --option printout --texdir . --texfile avo_for_density"
   ]
  },
  {
   "cell_type": "markdown",
   "id": "360bab06",
   "metadata": {},
   "source": [
    "# WORK IN PROGRESS!!!"
   ]
  },
  {
   "cell_type": "code",
   "execution_count": 12,
   "id": "a8efbbc6",
   "metadata": {},
   "outputs": [],
   "source": [
    "# clean\n",
    "%steinkauz -o clean"
   ]
  },
  {
   "cell_type": "code",
   "execution_count": 13,
   "id": "244037bd",
   "metadata": {},
   "outputs": [
    {
     "data": {
      "text/html": [
       "\n",
       "                <script>\n",
       "                    code_show=true;\n",
       "                    function code_toggle() {\n",
       "                        if (code_show){\n",
       "                            $('div.input').hide();\n",
       "                        } else {\n",
       "                            $('div.input').show();\n",
       "                        }\n",
       "                        code_show = !code_show\n",
       "                    }\n",
       "                    $( document ).ready(code_toggle);\n",
       "                </script>\n",
       "                <form action=\"javascript:code_toggle()\">\n",
       "                    <input type=\"submit\" value=\"Toggle Jupyter input on/off\">\n",
       "                </form>\n",
       "            "
      ],
      "text/plain": [
       "<IPython.core.display.HTML object>"
      ]
     },
     "metadata": {},
     "output_type": "display_data"
    }
   ],
   "source": [
    "# input toggle\n",
    "%inputtoggle"
   ]
  }
 ],
 "metadata": {
  "kernelspec": {
   "display_name": "Python 3 (ipykernel)",
   "language": "python",
   "name": "python3"
  },
  "language_info": {
   "codemirror_mode": {
    "name": "ipython",
    "version": 3
   },
   "file_extension": ".py",
   "mimetype": "text/x-python",
   "name": "python",
   "nbconvert_exporter": "python",
   "pygments_lexer": "ipython3",
   "version": "3.8.8"
  },
  "latex_envs": {
   "LaTeX_envs_menu_present": true,
   "autoclose": false,
   "autocomplete": true,
   "bibliofile": "biblio.bib",
   "cite_by": "apalike",
   "current_citInitial": 1,
   "eqLabelWithNumbers": true,
   "eqNumInitial": 1,
   "hotkeys": {
    "equation": "Ctrl-E",
    "itemize": "Ctrl-I"
   },
   "labels_anchors": false,
   "latex_user_defs": false,
   "report_style_numbering": false,
   "user_envs_cfg": false
  },
  "toc-showtags": true
 },
 "nbformat": 4,
 "nbformat_minor": 5
}
