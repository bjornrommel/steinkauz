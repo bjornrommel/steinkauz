{
 "cells": [
  {
   "cell_type": "markdown",
   "id": "ef3491b0",
   "metadata": {},
   "source": [
    "# Tutorial: Projekt Steinkauz\n",
    "\n",
    "## Notebook: Tutorial"
   ]
  },
  {
   "cell_type": "markdown",
   "id": "6613a102",
   "metadata": {},
   "source": [
    "## Introduction\n",
    "\n",
    "Projekt Steinkauz presents Jupyter notebooks on various topics of seismic acquisition and processing. These notebooks shall be written out in high print quality. To that end, the text shall be written in LaTeX, the standard for scientific publications. However, since Jupyter Notebook can only handle a subset of LaTeX, I have developed a Jupyter magic allowing all(!) LaTeX. Integrated in your Jupyter notebook, the magic can collect any user-generated information -- data analyses, mathematical calculations, visual displays or simply additional text -- and integrate it into a pre-set layout. In this way, the user can generate a high-quality, yet interatively generated textbook based only on the rich environment of a Jupyter Notebook plus a magic, also called steinkauz."
   ]
  },
  {
   "cell_type": "markdown",
   "id": "99139f19",
   "metadata": {},
   "source": [
    "## Loading\n",
    "\n",
    "As said, steinkauz is a Jupyter magic. Hence, a Jupyter Notebook invokes it simply by calling\n",
    "    \n",
    "    %reload_ext steinkauz\n",
    "    \n",
    "Do it first!"
   ]
  },
  {
   "cell_type": "code",
   "execution_count": 1,
   "id": "98c28ca7",
   "metadata": {
    "scrolled": false
   },
   "outputs": [],
   "source": [
    "%reload_ext steinkauz"
   ]
  },
  {
   "cell_type": "markdown",
   "id": "a2c49fb0",
   "metadata": {},
   "source": [
    "## Line Magic\n",
    "\n",
    "In the most simple case, a LaTeX fragment \\<latex\\> is read in from the Jupyter Notebook itself:  \n",
    "\n",
    "    %steinkauz r\"\"\"<latex>\"\"\"\n",
    "    \n",
    "Enclosing the LaTeX fragment with r\" \" \" and \" \" \", respectively, prevents the Python kernel from screwing up LaTeX's escape characters. \n",
    "\n",
    "So, let's try:"
   ]
  },
  {
   "cell_type": "code",
   "execution_count": 2,
   "id": "c0149b8a",
   "metadata": {
    "scrolled": false
   },
   "outputs": [
    {
     "data": {
      "image/png": "[encoded data removed]",
      "text/plain": [
       "<IPython.core.display.Image object>"
      ]
     },
     "metadata": {},
     "output_type": "display_data"
    }
   ],
   "source": [
    "%steinkauz r\"\"\"\\Large Tutorial: Project Steinkauz\"\"\""
   ]
  },
  {
   "cell_type": "markdown",
   "id": "f5dd564c",
   "metadata": {},
   "source": [
    "## Cell Magic\n",
    "\n",
    "A line magic is, of course, limited to a line, ideal only for text snippets. However, a LaTeX fragment \\<latex\\> can also be input from a cell:  \n",
    "\n",
    "    %%steinkauz\n",
    "    r\"\"\"\n",
    "    <latex>\n",
    "    \"\"\"\n",
    "    \n",
    "Again, enclosing the LaTeX fragment with r\" \" \" and \" \" \", respectively, prevents the Python kernel from screwing up LaTeX's escape characters. Of course, the hidden newline characters will also be removed.\n",
    "\n",
    "So, let's write a title, for example:"
   ]
  },
  {
   "cell_type": "code",
   "execution_count": 3,
   "id": "97c1663d",
   "metadata": {
    "scrolled": false
   },
   "outputs": [
    {
     "data": {
      "image/png": "[encoded data removed]",
      "text/plain": [
       "<IPython.core.display.Image object>"
      ]
     },
     "metadata": {},
     "output_type": "display_data"
    }
   ],
   "source": [
    "%%steinkauz \n",
    "r\"\"\"\n",
    "\\title{Project Steinkauz}\n",
    "\\author{Bj\\\"orn E. Rommel}\n",
    "\\date{}\n",
    "\\maketitle\n",
    "\"\"\""
   ]
  },
  {
   "cell_type": "markdown",
   "id": "993b701f",
   "metadata": {},
   "source": [
    "## Saving\n",
    "\n",
    "The cell magic can handle arbitrary LaTeX fragments. However, collecting both the original LaTeX fragment and its final printout might appear overloaded. Also, a typical use case has turned out to follow a dual approach: writing a LaTeX document on the subject matter, writing a Jupyter Notebook to explore the mathematics in a graphical output, and phasing computational results, figures, tables, etc into the LaTeX document. Kind of personalizing a LaTeX document!\n",
    "\n",
    "To that end, any LaTeX fragment can be stored on disk. The extent of such a LaTeX fragment -- an entire section, the caption of a figure, an equation, etc -- is left to your imagination. However, for reasons later explained, each LaTeX fragment is best stored in a separate file in a separate directory:\n",
    "\n",
    "    %%steinkauz --texfile <tex file> --texdir <directory>\n",
    "    r\"\"\"\n",
    "    <latex>\n",
    "    \"\"\""
   ]
  },
  {
   "cell_type": "code",
   "execution_count": 4,
   "id": "ffb75bcb",
   "metadata": {},
   "outputs": [
    {
     "data": {
      "image/png": "[encoded data removed]",
      "text/plain": [
       "<IPython.core.display.Image object>"
      ]
     },
     "metadata": {},
     "output_type": "display_data"
    }
   ],
   "source": [
    "%%steinkauz --texfile title --texdir title\n",
    "r\"\"\"\n",
    "\\title{Project Steinkauz}\n",
    "\\author{Bj\\\"orn E. Rommel}\n",
    "\\date{}\n",
    "\\maketitle\n",
    "\"\"\""
   ]
  },
  {
   "cell_type": "markdown",
   "id": "a6963a94",
   "metadata": {},
   "source": [
    "The same holds for the corresponding line magic."
   ]
  },
  {
   "cell_type": "code",
   "execution_count": 5,
   "id": "f75b12c1",
   "metadata": {
    "scrolled": false
   },
   "outputs": [
    {
     "data": {
      "image/png": "[encoded data removed]",
      "text/plain": [
       "<IPython.core.display.Image object>"
      ]
     },
     "metadata": {},
     "output_type": "display_data"
    }
   ],
   "source": [
    "%steinkauz --texfile repo --texdir repo r\"\"\"See the Steinkauz repository.\"\"\""
   ]
  },
  {
   "cell_type": "markdown",
   "id": "a4b733a1",
   "metadata": {},
   "source": [
    "The output above can also be retrieved from file by simply omitting any LaTeX fragment altogether:\n",
    "\n",
    "    %steinkauz --texfile <tex file> --texdir <directory>\n",
    "\n",
    "This feature does not, however, work for the cell magic as Jupyter requires some input."
   ]
  },
  {
   "cell_type": "code",
   "execution_count": 6,
   "id": "06434ffd",
   "metadata": {},
   "outputs": [
    {
     "data": {
      "image/png": "[encoded data removed]",
      "text/plain": [
       "<IPython.core.display.Image object>"
      ]
     },
     "metadata": {},
     "output_type": "display_data"
    }
   ],
   "source": [
    "%steinkauz --texfile repo --texdir repo "
   ]
  },
  {
   "cell_type": "markdown",
   "id": "a3de8fd5",
   "metadata": {},
   "source": [
    "## Setup\n",
    "\n",
    "As seen above, steinkauz does access a rudimentary latex out of the box. However, you typically also want to load additional packages in the preamble of your LaTeX file. To that end, your LaTeX fragment is wrapped into a full LaTeX document with a pre-defined preamble. This feature is set up as follows:\n",
    "\n",
    "    %steinkauz --option setup --prefile <tex file> --predir <directory> \n",
    "    \n",
    "Here, \\<tex file\\> contains the preamble, that is everything between, and excluding of, \"\\documentclass{\\<documentclass\\>} and \"\\begin{document}\". The TeX filename \\<tex file\\>, without the postfix \".tex\", and the TeX directory \\<absolute/relative directory\\> themselves are arbitrary. Of course, this command should have been issued right after loading steinkauz such that all your LaTeX will be dealt with in the same way.\n",
    "\n",
    "Here, for example, I load my preamble called mypackages.tex from the current working directory. "
   ]
  },
  {
   "cell_type": "code",
   "execution_count": 7,
   "id": "b2b382ad",
   "metadata": {},
   "outputs": [],
   "source": [
    "%steinkauz --option setup --prefile mypackages --predir . --mainfile tutorial"
   ]
  },
  {
   "cell_type": "markdown",
   "id": "209ff78b",
   "metadata": {},
   "source": [
    "## Numbering\n",
    "\n",
    "Numbering poses a problem: Jupyter allows the user to jump between cells, whereas LaTeX is processed in strictly top-down way. Therefore, I decided to fix the numbering once in strictly top-down way, which will typically be done by the original author of a notebook upon release, and let steinkauz retrieve the original numbering no matter how jumpy the user. To do so, steinkauz places a file COUNTER, which sets all non-zero LaTeX counters in the preamble of your hidden-from-sight generated LaTeX document, into each directory. "
   ]
  },
  {
   "cell_type": "code",
   "execution_count": 8,
   "id": "c54fda31",
   "metadata": {
    "scrolled": false
   },
   "outputs": [
    {
     "data": {
      "image/png": "[encoded data removed]",
      "text/plain": [
       "<IPython.core.display.Image object>"
      ]
     },
     "metadata": {},
     "output_type": "display_data"
    },
    {
     "data": {
      "image/png": "[encoded data removed]",
      "text/plain": [
       "<IPython.core.display.Image object>"
      ]
     },
     "metadata": {},
     "output_type": "display_data"
    },
    {
     "data": {
      "image/png": "[encoded data removed]",
      "text/plain": [
       "<IPython.core.display.Image object>"
      ]
     },
     "metadata": {},
     "output_type": "display_data"
    }
   ],
   "source": [
    "%steinkauz --texfile header --texdir introhead r\"\"\"\\section{Introduction}\"\"\" \n",
    "%steinkauz --texfile header --texdir line r\"\"\"\\section{Line Magic}\"\"\"\n",
    "%steinkauz --texfile header --texdir cell r\"\"\"\\section{Cell Magic} \\label{sec cell magic}\"\"\" section=123"
   ]
  },
  {
   "cell_type": "markdown",
   "id": "195589c8",
   "metadata": {},
   "source": [
    "Note, the last example above add\n",
    "\n",
    "    %steinkauz ... <counter>=<value>\n",
    "\n",
    "to set a counter. \\<counter\\> can be any counter defined in the list LATEXCOUNTER in steinkauz.py -- e.g., section, equation, figure, table --, and \\<value\\> can be any positive integer or zero. Recall, though, that LaTeX advances a counter by 1 before use; hence, \\<value\\> must be set to the intended value minus 1."
   ]
  },
  {
   "cell_type": "markdown",
   "id": "dbc8e557",
   "metadata": {},
   "source": [
    "## References\n",
    "\n",
    "References are solved and stored in each directory -- as automatically done by calling latex -- as well as in a file called \"main.tex\" in the notebook's directory."
   ]
  },
  {
   "cell_type": "code",
   "execution_count": 9,
   "id": "65a52bcb",
   "metadata": {},
   "outputs": [
    {
     "data": {
      "image/png": "[encoded data removed]",
      "text/plain": [
       "<IPython.core.display.Image object>"
      ]
     },
     "metadata": {},
     "output_type": "display_data"
    }
   ],
   "source": [
    "%steinkauz --texfile reference --texdir reference r\"\"\"as shown in Sec.~\\ref{sec cell magic}\"\"\""
   ]
  },
  {
   "cell_type": "markdown",
   "id": "7af23db5",
   "metadata": {},
   "source": [
    "## Sizing Output with DPI\n",
    "\n",
    "The output is always a PNG file. Unfortunately, it doesn't scale automatically. Instead, LaTeX's \\\\textwidth wide PS output is converted to PNG with, by default, 150 dpi. To increase / decrease the PNG output, set the DPI argument: \n",
    "\n",
    "    %%steinkauz --dpi <DPI>\n",
    "    r\"\"\"\n",
    "    <latex>\n",
    "    \"\"\"\n"
   ]
  },
  {
   "cell_type": "code",
   "execution_count": 10,
   "id": "85dd1057",
   "metadata": {},
   "outputs": [
    {
     "data": {
      "image/png": "[encoded data removed]",
      "text/plain": [
       "<IPython.core.display.Image object>"
      ]
     },
     "metadata": {},
     "output_type": "display_data"
    }
   ],
   "source": [
    "%%steinkauz --texfile text --texdir introtext --dpi 300\n",
    "r\"\"\"\n",
    "Projekt Steinkauz collects Jupyter notebooks ...\n",
    "\"\"\""
   ]
  },
  {
   "cell_type": "markdown",
   "id": "daee7881",
   "metadata": {},
   "source": [
    "The larger the DPI, the wider the text output, but also the more time consuming the processing. "
   ]
  },
  {
   "cell_type": "markdown",
   "id": "e1ece49f",
   "metadata": {},
   "source": [
    "## DPI versus Magnification\n",
    "\n",
    "The other argument magnification doesn't change the dpi, but simply scales the output. So, 300 dpi or 150 dpi magnified by 2 give the same sized PNG output. \n",
    "\n",
    "    %%steinkauz --dpi <DPI> --mag <magnification>\n",
    "    r\"\"\"\n",
    "    <latex>\n",
    "    \"\"\"\n"
   ]
  },
  {
   "cell_type": "code",
   "execution_count": 11,
   "id": "c853d71d",
   "metadata": {},
   "outputs": [
    {
     "data": {
      "image/png": "[encoded data removed]",
      "text/plain": [
       "<IPython.core.display.Image object>"
      ]
     },
     "metadata": {},
     "output_type": "display_data"
    }
   ],
   "source": [
    "%%steinkauz --texfile text --texdir introtext --dpi 150 --mag 2\n",
    "r\"\"\"\n",
    "Projekt Steinkauz collects Jupyter notebooks ...\n",
    "\"\"\""
   ]
  },
  {
   "cell_type": "markdown",
   "id": "c1069aed",
   "metadata": {},
   "source": [
    "Quality is obviously controlled by both the DPI and magnification value. Choose your poison!"
   ]
  },
  {
   "cell_type": "markdown",
   "id": "d3b76a20",
   "metadata": {},
   "source": [
    "## Interactive Use\n",
    "\n",
    "A Jupyter Notebook is used interactively, and the output is imported back into a LaTeX document in two ways:\n",
    "\n",
    "1. write a string out of the Jupyter Notebook into a file \\<entry\\>, whereby include \\<entry\\> in the LaTeX document, and let steinkauz replace the placeholder \\<entry\\> with the content of that file \\<entry\\>, where \\<entry\\> is any Python + LaTeX  + OS acceptable string, or\n",
    "\n",
    "2. export a figure as EPS out of the Jupyter Notebook into a \\<file\\> in \\<directory\\> and read that file back into the LaTeX document, where \\<file\\> and \\<directory\\> are as for a LaTeX file."
   ]
  },
  {
   "cell_type": "markdown",
   "id": "e3eb0b5a",
   "metadata": {},
   "source": [
    "Let's prepare an example for the first option:"
   ]
  },
  {
   "cell_type": "code",
   "execution_count": 12,
   "id": "65b709f0",
   "metadata": {},
   "outputs": [],
   "source": [
    "import numpy\n",
    "samples = numpy.random.randn(100)\n",
    "mean = numpy.mean(samples)          # the value to be exported into the LaTeX doc\n",
    "mean = (str(mean))[0:5]             # prepare string as it shall be written\n",
    "with open('MEAN', 'w') as file:     # open a file MEAN\n",
    "    file.write(mean)                # write value as string"
   ]
  },
  {
   "cell_type": "markdown",
   "id": "062aff86",
   "metadata": {},
   "source": [
    "Now, let's prepare an example for the second option:"
   ]
  },
  {
   "cell_type": "code",
   "execution_count": 13,
   "id": "c133a846",
   "metadata": {},
   "outputs": [
    {
     "data": {
      "application/vnd.jupyter.widget-view+json": {
       "model_id": "14fa4be4a875410ea7e99b307080342a",
       "version_major": 2,
       "version_minor": 0
      },
      "image/png": "[encoded data removed]",
      "text/html": [
       "\n",
       "            <div style=\"display: inline-block;\">\n",
       "                <div class=\"jupyter-widgets widget-label\" style=\"text-align: center;\">\n",
       "                    Figure\n",
       "                </div>\n",
       "                <img src='data:image/png;base64,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' width=640.0/>\n",
       "            </div>\n",
       "        "
      ],
      "text/plain": [
       "Canvas(toolbar=Toolbar(toolitems=[('Home', 'Reset original view', 'home', 'home'), ('Back', 'Back to previous …"
      ]
     },
     "metadata": {},
     "output_type": "display_data"
    }
   ],
   "source": [
    "import os\n",
    "from matplotlib import pyplot as plt\n",
    "%matplotlib ipympl\n",
    "plt.close(1)    # avoid accumulating figures in memory\n",
    "plt.figure(1)   # open figure \n",
    "plt.hist(samples)\n",
    "if not os.path.isdir('example'):\n",
    "    os.mkdir('example')\n",
    "plt.savefig(os.path.join('example', 'example.eps'), dpi=1200)   # write file with print-quality dpi"
   ]
  },
  {
   "cell_type": "markdown",
   "id": "fb63f34f",
   "metadata": {},
   "source": [
    "Now, let's prepare the LaTeX document with an \\<entry\\> called MEAN."
   ]
  },
  {
   "cell_type": "code",
   "execution_count": 14,
   "id": "8642bb11",
   "metadata": {
    "scrolled": false
   },
   "outputs": [
    {
     "data": {
      "image/png": "[encoded data removed]",
      "text/plain": [
       "<IPython.core.display.Image object>"
      ]
     },
     "metadata": {},
     "output_type": "display_data"
    }
   ],
   "source": [
    "%%steinkauz --texfile figure --texdir example --dpi 300 --mag 0.5 MEAN figure=123\n",
    "r\"\"\"\n",
    "\\begin{figure}\n",
    "    \\begin{minipage}{8cm}\n",
    "        \\includegraphics[width=\\textwidth]{example.eps}\n",
    "        \\caption{The mean is MEAN.}\n",
    "    \\end{minipage}\n",
    "\\end{figure}\n",
    "\"\"\""
   ]
  },
  {
   "cell_type": "markdown",
   "id": "e01f8080",
   "metadata": {},
   "source": [
    "## Behind the Scene"
   ]
  },
  {
   "cell_type": "markdown",
   "id": "234e5425",
   "metadata": {},
   "source": [
    "The LaTeX fragment -- the cell or line input of the steinkauz magic -- is stored in a file with the postfix tpl. Then, a template -- .\\\\\\\\.steinkauz\\\\\\\\template.tex -- is wrapped around that LaTeX fragment. "
   ]
  },
  {
   "cell_type": "code",
   "execution_count": 15,
   "id": "522634aa",
   "metadata": {},
   "outputs": [
    {
     "data": {
      "application/vnd.jupyter.widget-view+json": {
       "model_id": "55884ff318a841bf89e3dd361c910545",
       "version_major": 2,
       "version_minor": 0
      },
      "text/plain": [
       "Textarea(value='\\\\documentclass[class=article,preview=true]{standalone}\\n\\n%% references\\n\\\\usepackage{xr}\\n\\\\…"
      ]
     },
     "metadata": {},
     "output_type": "display_data"
    }
   ],
   "source": [
    "import os\n",
    "from ipywidgets import widgets, Layout\n",
    "from IPython.display import display\n",
    "with open(os.path.join('.steinkauz', 'template.tex')) as file:\n",
    "    template = file.read()\n",
    "display(\n",
    "    widgets.Textarea(\n",
    "        layout=Layout(width='800px', height='200px'),\n",
    "        value=template))"
   ]
  },
  {
   "cell_type": "markdown",
   "id": "eec27725",
   "metadata": {},
   "source": [
    "The template contains one hard-wired placeholder called CELL. CELL will be replaced with the cell or line input from steinkauz's cell or line magic, respectively -- your LaTeX fragment --. This template file should not be modified unless you know what you are doing, and, of course, CELL must not be used otherwise.\n",
    "\n",
    "Your own preamble file, however, is meant to be modified as you see fit. Here, I import the graphics package to process the above figures only. "
   ]
  },
  {
   "cell_type": "code",
   "execution_count": 16,
   "id": "cc2277e6",
   "metadata": {},
   "outputs": [
    {
     "data": {
      "application/vnd.jupyter.widget-view+json": {
       "model_id": "a7b98c485e3b4375bc2d15c0f0f2d683",
       "version_major": 2,
       "version_minor": 0
      },
      "text/plain": [
       "Textarea(value='%% graphics (not required otherwise!)\\n\\\\usepackage{graphicx}\\n', layout=Layout(height='50px',…"
      ]
     },
     "metadata": {},
     "output_type": "display_data"
    }
   ],
   "source": [
    "import os\n",
    "from ipywidgets import widgets, Layout\n",
    "from IPython.display import display\n",
    "with open(os.path.join('.', 'mypackages.tex')) as file:\n",
    "    template = file.read()\n",
    "display(\n",
    "    widgets.Textarea(\n",
    "        layout=Layout(width='800px', height='50px'),\n",
    "        value=template))"
   ]
  },
  {
   "cell_type": "markdown",
   "id": "08d8dcc8",
   "metadata": {},
   "source": [
    "## Main LaTeX\n",
    "\n",
    "The template above calls the documentclass \\\"standalone\\\". That documentclass treats each LaTeX file as part of a larger, all-encompassing LaTeX document. That document is, here, called \\\"main.tex\\\" and stored in the same directory as your notebook.\n",
    "\n",
    "It is the main file that generates all numbers."
   ]
  },
  {
   "cell_type": "code",
   "execution_count": 17,
   "id": "8f4e5fc4",
   "metadata": {},
   "outputs": [
    {
     "data": {
      "application/vnd.jupyter.widget-view+json": {
       "model_id": "ef285e26e55145ec9e20653a3223f376",
       "version_major": 2,
       "version_minor": 0
      },
      "text/plain": [
       "Textarea(value='\\\\documentclass[titlepage]{article}\\n\\n% recognize standalone documentclass of all subfiles\\n\\…"
      ]
     },
     "metadata": {},
     "output_type": "display_data"
    }
   ],
   "source": [
    "import os\n",
    "from ipywidgets import widgets, Layout\n",
    "from IPython.display import display\n",
    "with open(os.path.join('.', 'tutorial.tex')) as file:\n",
    "    template = file.read()\n",
    "display(\n",
    "    widgets.Textarea(\n",
    "        layout=Layout(width='800px', height='300px'),\n",
    "        value=template))"
   ]
  },
  {
   "cell_type": "markdown",
   "id": "c722a6e0",
   "metadata": {},
   "source": [
    "Finally, put everything together as one document in a main file called, here, \\\"tutorial.tex\\\" and generate the final high-quality printout. As of now, the main file must be written separately."
   ]
  },
  {
   "cell_type": "code",
   "execution_count": 18,
   "id": "19986eb6",
   "metadata": {
    "scrolled": false
   },
   "outputs": [],
   "source": [
    "# prepare final pdf file\n",
    "%steinkauz --option printout --texfile tutorial --texdir ."
   ]
  },
  {
   "cell_type": "code",
   "execution_count": 19,
   "id": "1fdf44a9",
   "metadata": {},
   "outputs": [
    {
     "data": {
      "application/vnd.jupyter.widget-view+json": {
       "model_id": "5a31e764022041d0955a591e83578444",
       "version_major": 2,
       "version_minor": 0
      },
      "text/plain": [
       "Button(button_style='info', description='print', style=ButtonStyle(), tooltip='create a PDF file')"
      ]
     },
     "metadata": {},
     "output_type": "display_data"
    }
   ],
   "source": [
    "# define an update button\n",
    "def printbutton_action(*args):\n",
    "    # prepare final pdf file\n",
    "    %steinkauz --option printout --texdir . --texfile no_dc_removal\n",
    "\n",
    "# interact with update button\n",
    "import ipywidgets as ipw\n",
    "printbutton =  ipw.Button(description = 'print', button_style = 'info', tooltip = 'create a PDF file')\n",
    "display(printbutton)\n",
    "printbutton.on_click(printbutton_action)"
   ]
  },
  {
   "cell_type": "markdown",
   "id": "c6adad7f",
   "metadata": {},
   "source": [
    "## Cleanup\n",
    "\n",
    "You can remove INCOUNTER and OUTCOUNTER, but, then, you have to re-create the numbers later. \n",
    "\n",
    "To clean up behind, use the option clean, but check the <>DELETE globals in steinkauz.py first. You have been warned."
   ]
  },
  {
   "cell_type": "code",
   "execution_count": 20,
   "id": "b10b72af",
   "metadata": {
    "scrolled": false
   },
   "outputs": [],
   "source": [
    "%steinkauz --option clean"
   ]
  },
  {
   "cell_type": "code",
   "execution_count": 21,
   "id": "7ddc6884",
   "metadata": {},
   "outputs": [
    {
     "data": {
      "application/vnd.jupyter.widget-view+json": {
       "model_id": "6e0fb78516f4409dad04f14b81db9ddf",
       "version_major": 2,
       "version_minor": 0
      },
      "text/plain": [
       "Button(button_style='info', description='clean', style=ButtonStyle(), tooltip='clean directory')"
      ]
     },
     "metadata": {},
     "output_type": "display_data"
    }
   ],
   "source": [
    "# define an update button\n",
    "def cleanbutton_action(*args):\n",
    "    %steinkauz --option clean\n",
    "\n",
    "# interact with update button\n",
    "import ipywidgets as ipw\n",
    "cleanbutton =  ipw.Button(description = 'clean', button_style = 'info', tooltip = 'clean directory')\n",
    "display(cleanbutton)\n",
    "cleanbutton.on_click(cleanbutton_action)"
   ]
  }
 ],
 "metadata": {
  "kernelspec": {
   "display_name": "Python 3 (ipykernel)",
   "language": "python",
   "name": "python3"
  },
  "language_info": {
   "codemirror_mode": {
    "name": "ipython",
    "version": 3
   },
   "file_extension": ".py",
   "mimetype": "text/x-python",
   "name": "python",
   "nbconvert_exporter": "python",
   "pygments_lexer": "ipython3",
   "version": "3.9.15"
  },
  "latex_envs": {
   "LaTeX_envs_menu_present": true,
   "autoclose": false,
   "autocomplete": true,
   "bibliofile": "biblio.bib",
   "cite_by": "apalike",
   "current_citInitial": 1,
   "eqLabelWithNumbers": true,
   "eqNumInitial": 1,
   "hotkeys": {
    "equation": "Ctrl-E",
    "itemize": "Ctrl-I"
   },
   "labels_anchors": false,
   "latex_user_defs": false,
   "report_style_numbering": false,
   "user_envs_cfg": false
  }
 },
 "nbformat": 4,
 "nbformat_minor": 5
}
