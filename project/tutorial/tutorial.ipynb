{
 "cells": [
  {
   "cell_type": "markdown",
   "id": "ef3491b0",
   "metadata": {},
   "source": [
    "# Tutorial: Projekt Steinkauz\n",
    "\n",
    "## Notebook: Tutorial\n",
    "\n",
    "See the [Steinkauz repository](https://github.com/bjornrommel/steinkauz)."
   ]
  },
  {
   "cell_type": "markdown",
   "id": "6613a102",
   "metadata": {},
   "source": [
    "## Introduction\n",
    "\n",
    "Projekt Steinkauz presents Jupyter notebooks on various topics of seismic acquisition and processing. These notebooks shall be written out in high print quality. To that end, the text shall be written in LaTeX, the standard for scientific publications. However, since Jupyter Notebook can only handle a subset of LaTeX, I have developed a Jupyter magic allowing all(!) LaTeX. Integrated in your Jupyter notebook, the magic can collect any user-generated information -- data analyses, mathematical calculations, visual displays or simply additional text -- and integrate it into a pre-set layout. In this way, the user can generate a high-quality, yet interatively generated textbook based only on the rich environment of a Jupyter Notebook plus a magic, also called steinkauz."
   ]
  },
  {
   "cell_type": "markdown",
   "id": "99139f19",
   "metadata": {},
   "source": [
    "## Loading\n",
    "\n",
    "As said, steinkauz is a Jupyter magic. Hence, a Jupyter Notebook invokes it simply by calling\n",
    "    \n",
    "    %reload_ext steinkauz\n",
    "    \n",
    "Do it first!"
   ]
  },
  {
   "cell_type": "code",
   "execution_count": 1,
   "id": "98c28ca7",
   "metadata": {
    "scrolled": false
   },
   "outputs": [],
   "source": [
    "%reload_ext steinkauz"
   ]
  },
  {
   "cell_type": "markdown",
   "id": "a2c49fb0",
   "metadata": {},
   "source": [
    "## Line Magic\n",
    "\n",
    "In the most simple case, a LaTeX fragment \\<latex\\> is read in from the Jupyter Notebook itself:  \n",
    "\n",
    "    %steinkauz r\"\"\"<latex>\"\"\"\n",
    "    \n",
    "Enclosing the LaTeX fragment with r\" \" \" and \" \" \", respectively, prevents the Python kernel from screwing up LaTeX's escape characters. \n",
    "\n",
    "So, let's try:"
   ]
  },
  {
   "cell_type": "code",
   "execution_count": 2,
   "id": "c0149b8a",
   "metadata": {
    "scrolled": false
   },
   "outputs": [
    {
     "data": {
      "image/png": "[encoded data removed]",
      "text/plain": [
       "<IPython.core.display.Image object>"
      ]
     },
     "metadata": {},
     "output_type": "display_data"
    }
   ],
   "source": [
    "%steinkauz r\"\"\"\\Large Tutorial: Project Steinkauz\"\"\""
   ]
  },
  {
   "cell_type": "markdown",
   "id": "f5dd564c",
   "metadata": {},
   "source": [
    "## Cell Magic\n",
    "\n",
    "A line magic is, of course, limited to a line, ideal only for text snippets. However, a LaTeX fragment \\<latex\\> can also be input from a cell:  \n",
    "\n",
    "    %%steinkauz\n",
    "    r\"\"\"\n",
    "    <latex>\n",
    "    \"\"\"\n",
    "    \n",
    "Again, enclosing the LaTeX fragment with r\" \" \" and \" \" \", respectively, prevents the Python kernel from screwing up LaTeX's escape characters. Of course, the hidden newline characters will also be removed.\n",
    "\n",
    "So, let's write a title, for example:"
   ]
  },
  {
   "cell_type": "code",
   "execution_count": 3,
   "id": "97c1663d",
   "metadata": {
    "scrolled": false
   },
   "outputs": [
    {
     "data": {
      "image/png": "[encoded data removed]",
      "text/plain": [
       "<IPython.core.display.Image object>"
      ]
     },
     "metadata": {},
     "output_type": "display_data"
    }
   ],
   "source": [
    "%%steinkauz \n",
    "r\"\"\"\n",
    "\\title{Project Steinkauz}\n",
    "\\author{Bj\\\"orn E. Rommel}\n",
    "\\date{}\n",
    "\\maketitle\n",
    "\"\"\""
   ]
  },
  {
   "cell_type": "markdown",
   "id": "993b701f",
   "metadata": {},
   "source": [
    "## Saving\n",
    "\n",
    "The cell magic can handle arbitrary LaTeX fragments. However, collecting both the original LaTeX fragment and its final printout might appear overloaded. Also, a typical use case has turned out to follow a dual approach: writing a LaTeX document on the subject matter, writing a Jupyter Notebook to explore the mathematics in a graphical output, and phasing computational results, figures, tables, etc into the LaTeX document. Kind of personalizing a LaTeX document!\n",
    "\n",
    "To that end, any LaTeX fragment can be stored on disk. The extent of such a LaTeX fragment -- an entire section, the caption of a figure, an equation, etc -- is left to your imagination. However, for reasons later explained, each LaTeX fragment is best stored in a separate file in a separate directory:\n",
    "\n",
    "    %%steinkauz --texfile <tex file> --texdir <directory>\n",
    "    r\"\"\"\n",
    "    <latex>\n",
    "    \"\"\""
   ]
  },
  {
   "cell_type": "code",
   "execution_count": 4,
   "id": "9cfd1fbf",
   "metadata": {},
   "outputs": [
    {
     "data": {
      "image/png": "[encoded data removed]",
      "text/plain": [
       "<IPython.core.display.Image object>"
      ]
     },
     "metadata": {},
     "output_type": "display_data"
    }
   ],
   "source": [
    "%%steinkauz --texfile title --texdir title\n",
    "r\"\"\"\n",
    "\\title{Project Steinkauz}\n",
    "\\author{Bj\\\"orn E. Rommel}\n",
    "\\date{}\n",
    "\\maketitle\n",
    "\"\"\""
   ]
  },
  {
   "cell_type": "code",
   "execution_count": 5,
   "id": "bb416e72",
   "metadata": {},
   "outputs": [
    {
     "ename": "SyntaxError",
     "evalue": "invalid syntax (Temp/ipykernel_18812/2975149812.py, line 1)",
     "output_type": "error",
     "traceback": [
      "\u001b[1;36m  File \u001b[1;32m\"C:\\Users\\Bjorn\\AppData\\Local\\Temp/ipykernel_18812/2975149812.py\"\u001b[1;36m, line \u001b[1;32m1\u001b[0m\n\u001b[1;33m    The same holds for the corresponding line magic.\u001b[0m\n\u001b[1;37m        ^\u001b[0m\n\u001b[1;31mSyntaxError\u001b[0m\u001b[1;31m:\u001b[0m invalid syntax\n"
     ]
    }
   ],
   "source": [
    "The same holds for the corresponding line magic."
   ]
  },
  {
   "cell_type": "code",
   "execution_count": null,
   "id": "f75b12c1",
   "metadata": {
    "scrolled": false
   },
   "outputs": [],
   "source": [
    "%steinkauz --texfile repo --texdir repo r\"\"\"See the Steinkauz repository.\"\"\""
   ]
  },
  {
   "cell_type": "markdown",
   "id": "a4b733a1",
   "metadata": {},
   "source": [
    "The output above can also be retrieved from file by simply omitting any LaTeX fragment altogether:\n",
    "\n",
    "    %steinkauz --texfile <tex file> --texdir <directory>\n",
    "\n",
    "This feature does not, however, work for the cell magic as Jupyter requires some input."
   ]
  },
  {
   "cell_type": "code",
   "execution_count": null,
   "id": "06434ffd",
   "metadata": {},
   "outputs": [],
   "source": [
    "%steinkauz --texfile repo --texdir repo "
   ]
  },
  {
   "cell_type": "markdown",
   "id": "a3de8fd5",
   "metadata": {},
   "source": [
    "## Setup\n",
    "\n",
    "As seen above, steinkauz does access a rudimentary latex out of the box. However, you typically also want to load additional packages in the preamble of your LaTeX file. To that end, your LaTeX fragment is wrapped into a full LaTeX document with a pre-defined preamble. This feature is set up as follows:\n",
    "\n",
    "    %steinkauz --option setup --prefile <tex file> --predir <directory> \n",
    "    \n",
    "Here, \\<tex file\\> contains the preamble, that is everything between, and excluding of, \"\\documentclass{\\<documentclass\\>} and \"\\begin{document}\". The TeX filename \\<tex file\\>, without the postfix \".tex\", and the TeX directory \\<absolute/relative directory\\> themselves are arbitrary. Of course, this command should have been issued right after loading steinkauz such that all your LaTeX will be dealt with in the same way.\n",
    "\n",
    "Here, for example, I load my preamble called mypackages.tex from the current working directory. "
   ]
  },
  {
   "cell_type": "code",
   "execution_count": null,
   "id": "b2b382ad",
   "metadata": {},
   "outputs": [],
   "source": [
    "%steinkauz --option setup --prefile mypackages --predir . --mainfile tutorial"
   ]
  },
  {
   "cell_type": "markdown",
   "id": "209ff78b",
   "metadata": {},
   "source": [
    "## Numbering\n",
    "\n",
    "Numbering poses a problem: Jupyter allows the user to jump between cells, whereas LaTeX is processed in strictly top-down way. Therefore, I decided to fix the numbering once in strictly top-down way, which will typically be done by the original author of a notebook upon release, and let steinkauz retrieve the original numbering no matter how jumpy the user. To do so, steinkauz places a file COUNTER, which sets all non-zero LaTeX counters in the preamble of your hidden-from-sight generated LaTeX document, into each directory. "
   ]
  },
  {
   "cell_type": "code",
   "execution_count": null,
   "id": "c54fda31",
   "metadata": {
    "scrolled": false
   },
   "outputs": [],
   "source": [
    "%steinkauz --texfile header --texdir introhead r\"\"\"\\section{Introduction}\"\"\" \n",
    "%steinkauz --texfile header --texdir line r\"\"\"\\section{Line Magic}\"\"\"\n",
    "%steinkauz --texfile header --texdir cell r\"\"\"\\section{Cell Magic} \\label{sec cell magic}\"\"\" section=123"
   ]
  },
  {
   "cell_type": "markdown",
   "id": "195589c8",
   "metadata": {},
   "source": [
    "Note, the last example above add\n",
    "\n",
    "    %steinkauz ... <counter>=<value>\n",
    "\n",
    "to set a counter. \\<counter\\> can be any counter defined in the list LATEXCOUNTER in steinkauz.py -- e.g., section, equation, figure, table --, and \\<value\\> can be any positive integer or zero. Recall, though, that LaTeX advances a counter by 1 before use; hence, \\<value\\> must be set to the intended value minus 1."
   ]
  },
  {
   "cell_type": "markdown",
   "id": "dbc8e557",
   "metadata": {},
   "source": [
    "## References\n",
    "\n",
    "References are solved and stored in each directory -- as automatically done by calling latex -- as well as in a file called \"main.tex\" in the notebook's directory."
   ]
  },
  {
   "cell_type": "code",
   "execution_count": null,
   "id": "65a52bcb",
   "metadata": {},
   "outputs": [],
   "source": [
    "%steinkauz --texfile reference --texdir reference r\"\"\"as shown in Sec.~\\ref{sec cell magic}\"\"\""
   ]
  },
  {
   "cell_type": "markdown",
   "id": "7af23db5",
   "metadata": {},
   "source": [
    "## Sizing Output with DPI\n",
    "\n",
    "The output is always a PNG file. Unfortunately, it doesn't scale automatically. Instead, LaTeX's \\\\textwidth wide PS output is converted to PNG with, by default, 150 dpi. To increase / decrease the PNG output, set the DPI argument: \n",
    "\n",
    "    %%steinkauz --dpi <DPI>\n",
    "    r\"\"\"\n",
    "    <latex>\n",
    "    \"\"\"\n"
   ]
  },
  {
   "cell_type": "code",
   "execution_count": null,
   "id": "85dd1057",
   "metadata": {},
   "outputs": [],
   "source": [
    "%%steinkauz --texfile text --texdir introtext --dpi 300\n",
    "r\"\"\"\n",
    "Projekt Steinkauz collects Jupyter notebooks ...\n",
    "\"\"\""
   ]
  },
  {
   "cell_type": "markdown",
   "id": "daee7881",
   "metadata": {},
   "source": [
    "The larger the DPI, the wider the text output, but also the more time consuming the processing. "
   ]
  },
  {
   "cell_type": "markdown",
   "id": "e1ece49f",
   "metadata": {},
   "source": [
    "## DPI versus Magnification\n",
    "\n",
    "The other argument magnification doesn't change the dpi, but simply scales the output. So, 300 dpi or 150 dpi magnified by 2 give the same sized PNG output. \n",
    "\n",
    "    %%steinkauz --dpi <DPI> --mag <magnification>\n",
    "    r\"\"\"\n",
    "    <latex>\n",
    "    \"\"\"\n"
   ]
  },
  {
   "cell_type": "code",
   "execution_count": null,
   "id": "c853d71d",
   "metadata": {},
   "outputs": [],
   "source": [
    "%%steinkauz --texfile text --texdir introtext --dpi 150 --mag 2\n",
    "r\"\"\"\n",
    "Projekt Steinkauz collects Jupyter notebooks ...\n",
    "\"\"\""
   ]
  },
  {
   "cell_type": "markdown",
   "id": "c1069aed",
   "metadata": {},
   "source": [
    "Quality is obviously controlled by both the DPI and magnification value. Choose your poison!"
   ]
  },
  {
   "cell_type": "markdown",
   "id": "d3b76a20",
   "metadata": {},
   "source": [
    "## Interactive Use\n",
    "\n",
    "A Jupyter Notebook is used interactively, and the output is imported back into a LaTeX document in two ways:\n",
    "\n",
    "1. write a string out of the Jupyter Notebook into a file \\<entry\\>, whereby include \\<entry\\> in the LaTeX document, and let steinkauz replace the placeholder \\<entry\\> with the content of that file \\<entry\\>, where \\<entry\\> is any Python + LaTeX  + OS acceptable string, or\n",
    "\n",
    "2. export a figure as EPS out of the Jupyter Notebook into a \\<file\\> in \\<directory\\> and read that file back into the LaTeX document, where \\<file\\> and \\<directory\\> are as for a LaTeX file."
   ]
  },
  {
   "cell_type": "markdown",
   "id": "e3eb0b5a",
   "metadata": {},
   "source": [
    "Let's prepare an example for the first option:"
   ]
  },
  {
   "cell_type": "code",
   "execution_count": null,
   "id": "65b709f0",
   "metadata": {},
   "outputs": [],
   "source": [
    "import numpy\n",
    "samples = numpy.random.randn(100)\n",
    "mean = numpy.mean(samples)          # the value to be exported into the LaTeX doc\n",
    "mean = (str(mean))[0:5]             # prepare string as it shall be written\n",
    "with open('MEAN', 'w') as file:     # open a file MEAN\n",
    "    file.write(mean)                # write value as string"
   ]
  },
  {
   "cell_type": "markdown",
   "id": "062aff86",
   "metadata": {},
   "source": [
    "Now, let's prepare an example for the second option:"
   ]
  },
  {
   "cell_type": "code",
   "execution_count": null,
   "id": "c133a846",
   "metadata": {},
   "outputs": [],
   "source": [
    "import os\n",
    "from matplotlib import pyplot as plt\n",
    "%matplotlib ipympl\n",
    "plt.close(1)    # avoid accumulating figures in memory\n",
    "plt.figure(1)   # open figure \n",
    "plt.hist(samples)\n",
    "if not os.path.isdir('example'):\n",
    "    os.mkdir('example')\n",
    "plt.savefig(os.path.join('example', 'example.eps'), dpi=1200)   # write file with print-quality dpi"
   ]
  },
  {
   "cell_type": "markdown",
   "id": "fb63f34f",
   "metadata": {},
   "source": [
    "Now, let's prepare the LaTeX document with an \\<entry\\> called MEAN."
   ]
  },
  {
   "cell_type": "code",
   "execution_count": null,
   "id": "8642bb11",
   "metadata": {
    "scrolled": false
   },
   "outputs": [],
   "source": [
    "%%steinkauz --texfile figure --texdir example --dpi 300 --mag 0.5 MEAN figure=123\n",
    "r\"\"\"\n",
    "\\begin{figure}\n",
    "    \\begin{minipage}{8cm}\n",
    "        \\includegraphics[width=\\textwidth]{example.eps}\n",
    "        \\caption{The mean is MEAN.}\n",
    "    \\end{minipage}\n",
    "\\end{figure}\n",
    "\"\"\""
   ]
  },
  {
   "cell_type": "markdown",
   "id": "e01f8080",
   "metadata": {},
   "source": [
    "## Behind the Scene"
   ]
  },
  {
   "cell_type": "markdown",
   "id": "234e5425",
   "metadata": {},
   "source": [
    "The LaTeX fragment -- the cell or line input of the steinkauz magic -- is stored in a file with the postfix tpl. Then, a template -- .\\\\\\\\.steinkauz\\\\\\\\template.tex -- is wrapped around that LaTeX fragment. "
   ]
  },
  {
   "cell_type": "code",
   "execution_count": null,
   "id": "522634aa",
   "metadata": {},
   "outputs": [],
   "source": [
    "import os\n",
    "from ipywidgets import widgets, Layout\n",
    "from IPython.display import display\n",
    "with open(os.path.join('.steinkauz', 'template.tex')) as file:\n",
    "    template = file.read()\n",
    "display(\n",
    "    widgets.Textarea(\n",
    "        layout=Layout(width='800px', height='200px'),\n",
    "        value=template))"
   ]
  },
  {
   "cell_type": "markdown",
   "id": "eec27725",
   "metadata": {},
   "source": [
    "The template contains one hard-wired placeholder called CELL. CELL will be replaced with the cell or line input from steinkauz's cell or line magic, respectively -- your LaTeX fragment --. This template file should not be modified unless you know what you are doing, and, of course, CELL must not be used otherwise.\n",
    "\n",
    "Your own preamble file, however, is meant to be modified as you see fit. Here, I import the graphics package to process the above figures only. "
   ]
  },
  {
   "cell_type": "code",
   "execution_count": null,
   "id": "cc2277e6",
   "metadata": {},
   "outputs": [],
   "source": [
    "import os\n",
    "from ipywidgets import widgets, Layout\n",
    "from IPython.display import display\n",
    "with open(os.path.join('.', 'mypackages.tex')) as file:\n",
    "    template = file.read()\n",
    "display(\n",
    "    widgets.Textarea(\n",
    "        layout=Layout(width='800px', height='50px'),\n",
    "        value=template))"
   ]
  },
  {
   "cell_type": "markdown",
   "id": "08d8dcc8",
   "metadata": {},
   "source": [
    "## Main LaTeX\n",
    "\n",
    "The template above calls the documentclass \\\"standalone\\\". That documentclass treats each LaTeX file as part of a larger, all-encompassing LaTeX document. That document is, here, called \\\"main.tex\\\" and stored in the same directory as your notebook."
   ]
  },
  {
   "cell_type": "code",
   "execution_count": null,
   "id": "8f4e5fc4",
   "metadata": {},
   "outputs": [],
   "source": [
    "import os\n",
    "from ipywidgets import widgets, Layout\n",
    "from IPython.display import display\n",
    "with open(os.path.join('.', 'tutorial.tex')) as file:\n",
    "    template = file.read()\n",
    "display(\n",
    "    widgets.Textarea(\n",
    "        layout=Layout(width='800px', height='300px'),\n",
    "        value=template))"
   ]
  },
  {
   "cell_type": "markdown",
   "id": "c722a6e0",
   "metadata": {},
   "source": [
    "Finally, put everything together as one document in a main file called, here, \\\"tutorial.tex\\\" and generate the final high-quality printout. As of now, the main file must be written separately."
   ]
  },
  {
   "cell_type": "code",
   "execution_count": null,
   "id": "19986eb6",
   "metadata": {
    "scrolled": false
   },
   "outputs": [],
   "source": [
    "# prepare final pdf file\n",
    "%steinkauz --option printout --texfile tutorial --texdir ."
   ]
  },
  {
   "cell_type": "markdown",
   "id": "c6adad7f",
   "metadata": {},
   "source": [
    "## Cleanup\n",
    "\n",
    "You can remove all COUNTER's, but, then, you have to re-create the numbers later. To clean up behind:"
   ]
  },
  {
   "cell_type": "code",
   "execution_count": null,
   "id": "b10b72af",
   "metadata": {
    "scrolled": false
   },
   "outputs": [],
   "source": [
    "%steinkauz --option clean"
   ]
  }
 ],
 "metadata": {
  "kernelspec": {
   "display_name": "Python 3 (ipykernel)",
   "language": "python",
   "name": "python3"
  },
  "language_info": {
   "codemirror_mode": {
    "name": "ipython",
    "version": 3
   },
   "file_extension": ".py",
   "mimetype": "text/x-python",
   "name": "python",
   "nbconvert_exporter": "python",
   "pygments_lexer": "ipython3",
   "version": "3.8.8"
  },
  "latex_envs": {
   "LaTeX_envs_menu_present": true,
   "autoclose": false,
   "autocomplete": true,
   "bibliofile": "biblio.bib",
   "cite_by": "apalike",
   "current_citInitial": 1,
   "eqLabelWithNumbers": true,
   "eqNumInitial": 1,
   "hotkeys": {
    "equation": "Ctrl-E",
    "itemize": "Ctrl-I"
   },
   "labels_anchors": false,
   "latex_user_defs": false,
   "report_style_numbering": false,
   "user_envs_cfg": false
  }
 },
 "nbformat": 4,
 "nbformat_minor": 5
}
