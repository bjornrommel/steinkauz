{
 "cells": [
  {
   "cell_type": "markdown",
   "id": "ef3491b0",
   "metadata": {},
   "source": [
    "# Tutorial: Projekt Steinkauz\n",
    "\n",
    "## Notebook: Tutorial"
   ]
  },
  {
   "cell_type": "markdown",
   "id": "6613a102",
   "metadata": {},
   "source": [
    "## Introduction\n",
    "\n",
    "Projekt Steinkauz presents Jupyter notebooks on various topics of seismic acquisition and processing. These notebooks shall be written out in high print quality. To that end, the text shall be written in LaTeX, the standard for scientific publications. However, since Jupyter Notebook can only handle a subset of LaTeX, I have developed a Jupyter magic allowing all(!) LaTeX. Integrated in your Jupyter notebook, the magic can collect any user-generated information -- data analyses, mathematical calculations, visual displays or simply additional text -- and integrate it into a pre-set layout. In this way, the user can generate a high-quality, yet interatively generated textbook based only on the rich environment of a Jupyter Notebook plus a magic, also called steinkauz."
   ]
  },
  {
   "cell_type": "markdown",
   "id": "99139f19",
   "metadata": {},
   "source": [
    "## Loading\n",
    "\n",
    "As said, steinkauz is a Jupyter magic. Hence, a Jupyter Notebook invokes it simply by calling\n",
    "    \n",
    "    %reload_ext steinkauz\n",
    "    \n",
    "Do it first!"
   ]
  },
  {
   "cell_type": "code",
   "execution_count": 1,
   "id": "98c28ca7",
   "metadata": {
    "scrolled": false
   },
   "outputs": [],
   "source": [
    "%reload_ext steinkauz"
   ]
  },
  {
   "cell_type": "markdown",
   "id": "a2c49fb0",
   "metadata": {},
   "source": [
    "## Line Magic\n",
    "\n",
    "In the most simple case, a LaTeX fragment \\<latex\\> is read in from the Jupyter Notebook itself:  \n",
    "\n",
    "    %steinkauz r\"\"\"<latex>\"\"\"\n",
    "    \n",
    "Enclosing the LaTeX fragment with r\" \" \" and \" \" \", respectively, prevents the Python kernel from screwing up LaTeX's escape characters. \n",
    "\n",
    "So, let's try:"
   ]
  },
  {
   "cell_type": "code",
   "execution_count": 2,
   "id": "c0149b8a",
   "metadata": {
    "scrolled": false
   },
   "outputs": [
    {
     "data": {
      "image/png": "[encoded data removed]",
      "text/plain": [
       "<IPython.core.display.Image object>"
      ]
     },
     "metadata": {},
     "output_type": "display_data"
    }
   ],
   "source": [
    "%steinkauz r\"\"\"\\Large Tutorial: Project Steinkauz\"\"\""
   ]
  },
  {
   "cell_type": "markdown",
   "id": "f5dd564c",
   "metadata": {},
   "source": [
    "## Cell Magic\n",
    "\n",
    "A line magic is, of course, limited to a line, ideal only for text snippets. However, a LaTeX fragment \\<latex\\> can also be input from a cell:  \n",
    "\n",
    "    %%steinkauz\n",
    "    r\"\"\"\n",
    "    <latex>\n",
    "    \"\"\"\n",
    "    \n",
    "Again, enclosing the LaTeX fragment with r\" \" \" and \" \" \", respectively, prevents the Python kernel from screwing up LaTeX's escape characters. Of course, the hidden newline characters will also be removed.\n",
    "\n",
    "So, let's write a title, for example:"
   ]
  },
  {
   "cell_type": "code",
   "execution_count": 3,
   "id": "97c1663d",
   "metadata": {
    "scrolled": false
   },
   "outputs": [
    {
     "data": {
      "image/png": "[encoded data removed]",
      "text/plain": [
       "<IPython.core.display.Image object>"
      ]
     },
     "metadata": {},
     "output_type": "display_data"
    }
   ],
   "source": [
    "%%steinkauz \n",
    "r\"\"\"\n",
    "\\title{Project Steinkauz}\n",
    "\\author{Bj\\\"orn E. Rommel}\n",
    "\\date{}\n",
    "\\maketitle\n",
    "\"\"\""
   ]
  },
  {
   "cell_type": "markdown",
   "id": "993b701f",
   "metadata": {},
   "source": [
    "## Saving\n",
    "\n",
    "The cell magic can handle arbitrary LaTeX fragments. However, collecting both the original LaTeX fragment and its final printout might appear overloaded. Also, a typical use case has turned out to follow a dual approach: writing a LaTeX document on the subject matter, writing a Jupyter Notebook to explore the mathematics in a graphical output, and phasing computational results, figures, tables, etc into the LaTeX document. Kind of personalizing a LaTeX document!\n",
    "\n",
    "To that end, any LaTeX fragment can be stored on disk. The extent of such a LaTeX fragment -- an entire section, the caption of a figure, an equation, etc -- is left to your imagination. However, for reasons later explained, each LaTeX fragment is best stored in a separate file in a separate directory:\n",
    "\n",
    "    %%steinkauz --texfile <tex file> --texdir <directory>\n",
    "    r\"\"\"\n",
    "    <latex>\n",
    "    \"\"\""
   ]
  },
  {
   "cell_type": "code",
   "execution_count": 4,
   "id": "ffb75bcb",
   "metadata": {},
   "outputs": [
    {
     "data": {
      "image/png": "[encoded data removed]",
      "text/plain": [
       "<IPython.core.display.Image object>"
      ]
     },
     "metadata": {},
     "output_type": "display_data"
    }
   ],
   "source": [
    "%%steinkauz --texfile title --texdir title\n",
    "r\"\"\"\n",
    "\\title{Project Steinkauz}\n",
    "\\author{Bj\\\"orn E. Rommel}\n",
    "\\date{}\n",
    "\\maketitle\n",
    "\"\"\""
   ]
  },
  {
   "cell_type": "markdown",
   "id": "a6963a94",
   "metadata": {},
   "source": [
    "The same holds for the corresponding line magic."
   ]
  },
  {
   "cell_type": "code",
   "execution_count": 5,
   "id": "f75b12c1",
   "metadata": {
    "scrolled": false
   },
   "outputs": [
    {
     "data": {
      "image/png": "[encoded data removed]",
      "text/plain": [
       "<IPython.core.display.Image object>"
      ]
     },
     "metadata": {},
     "output_type": "display_data"
    }
   ],
   "source": [
    "%steinkauz --texfile repo --texdir repo r\"\"\"See the Steinkauz repository.\"\"\""
   ]
  },
  {
   "cell_type": "markdown",
   "id": "a4b733a1",
   "metadata": {},
   "source": [
    "The output above can also be retrieved from file by simply omitting any LaTeX fragment altogether:\n",
    "\n",
    "    %steinkauz --texfile <tex file> --texdir <directory>\n",
    "\n",
    "This feature does not, however, work for the cell magic as Jupyter requires some input."
   ]
  },
  {
   "cell_type": "code",
   "execution_count": 6,
   "id": "06434ffd",
   "metadata": {},
   "outputs": [
    {
     "data": {
      "image/png": "[encoded data removed]",
      "text/plain": [
       "<IPython.core.display.Image object>"
      ]
     },
     "metadata": {},
     "output_type": "display_data"
    }
   ],
   "source": [
    "%steinkauz --texfile repo --texdir repo "
   ]
  },
  {
   "cell_type": "markdown",
   "id": "a3de8fd5",
   "metadata": {},
   "source": [
    "## Setup\n",
    "\n",
    "As seen above, steinkauz does access a rudimentary latex out of the box. However, you typically also want to load additional packages in the preamble of your LaTeX file. To that end, your LaTeX fragment is wrapped into a full LaTeX document with a pre-defined preamble. This feature is set up as follows:\n",
    "\n",
    "    %steinkauz --option setup --prefile <tex file> --predir <directory> \n",
    "    \n",
    "Here, \\<tex file\\> contains the preamble, that is everything between, and excluding of, \"\\documentclass{\\<documentclass\\>} and \"\\begin{document}\". The TeX filename \\<tex file\\>, without the postfix \".tex\", and the TeX directory \\<absolute/relative directory\\> themselves are arbitrary. Of course, this command should have been issued right after loading steinkauz such that all your LaTeX will be dealt with in the same way.\n",
    "\n",
    "Here, for example, I load my preamble called mypackages.tex from the current working directory. "
   ]
  },
  {
   "cell_type": "code",
   "execution_count": 7,
   "id": "b2b382ad",
   "metadata": {},
   "outputs": [],
   "source": [
    "%steinkauz --option setup --prefile mypackages --predir . --mainfile tutorial"
   ]
  },
  {
   "cell_type": "markdown",
   "id": "209ff78b",
   "metadata": {},
   "source": [
    "## Numbering\n",
    "\n",
    "Numbering poses a problem: Jupyter allows the user to jump between cells, whereas LaTeX is processed in strictly top-down way. Therefore, I decided to fix the numbering once in strictly top-down way, which will typically be done by the original author of a notebook upon release, and let steinkauz retrieve the original numbering no matter how jumpy the user. To do so, steinkauz places a file COUNTER, which sets all non-zero LaTeX counters in the preamble of your hidden-from-sight generated LaTeX document, into each directory. "
   ]
  },
  {
   "cell_type": "code",
   "execution_count": 8,
   "id": "c54fda31",
   "metadata": {
    "scrolled": false
   },
   "outputs": [
    {
     "data": {
      "image/png": "[encoded data removed]",
      "text/plain": [
       "<IPython.core.display.Image object>"
      ]
     },
     "metadata": {},
     "output_type": "display_data"
    },
    {
     "data": {
      "image/png": "[encoded data removed]",
      "text/plain": [
       "<IPython.core.display.Image object>"
      ]
     },
     "metadata": {},
     "output_type": "display_data"
    },
    {
     "data": {
      "image/png": "[encoded data removed]",
      "text/plain": [
       "<IPython.core.display.Image object>"
      ]
     },
     "metadata": {},
     "output_type": "display_data"
    }
   ],
   "source": [
    "%steinkauz --texfile header --texdir introhead r\"\"\"\\section{Introduction}\"\"\" \n",
    "%steinkauz --texfile header --texdir line r\"\"\"\\section{Line Magic}\"\"\"\n",
    "%steinkauz --texfile header --texdir cell r\"\"\"\\section{Cell Magic} \\label{sec cell magic}\"\"\" section=123"
   ]
  },
  {
   "cell_type": "markdown",
   "id": "195589c8",
   "metadata": {},
   "source": [
    "Note, the last example above add\n",
    "\n",
    "    %steinkauz ... <counter>=<value>\n",
    "\n",
    "to set a counter. \\<counter\\> can be any counter defined in the list LATEXCOUNTER in steinkauz.py -- e.g., section, equation, figure, table --, and \\<value\\> can be any positive integer or zero. Recall, though, that LaTeX advances a counter by 1 before use; hence, \\<value\\> must be set to the intended value minus 1."
   ]
  },
  {
   "cell_type": "markdown",
   "id": "dbc8e557",
   "metadata": {},
   "source": [
    "## References\n",
    "\n",
    "References are solved and stored in each directory -- as automatically done by calling latex -- as well as in a file called \"main.tex\" in the notebook's directory."
   ]
  },
  {
   "cell_type": "code",
   "execution_count": 9,
   "id": "65a52bcb",
   "metadata": {},
   "outputs": [
    {
     "data": {
      "image/png": "[encoded data removed]",
      "text/plain": [
       "<IPython.core.display.Image object>"
      ]
     },
     "metadata": {},
     "output_type": "display_data"
    }
   ],
   "source": [
    "%steinkauz --texfile reference --texdir reference r\"\"\"as shown in Sec.~\\ref{sec cell magic}\"\"\""
   ]
  },
  {
   "cell_type": "markdown",
   "id": "7af23db5",
   "metadata": {},
   "source": [
    "## Sizing Output with DPI\n",
    "\n",
    "The output is always a PNG file. Unfortunately, it doesn't scale automatically. Instead, LaTeX's \\\\textwidth wide PS output is converted to PNG with, by default, 150 dpi. To increase / decrease the PNG output, set the DPI argument: \n",
    "\n",
    "    %%steinkauz --dpi <DPI>\n",
    "    r\"\"\"\n",
    "    <latex>\n",
    "    \"\"\"\n"
   ]
  },
  {
   "cell_type": "code",
   "execution_count": 10,
   "id": "85dd1057",
   "metadata": {},
   "outputs": [
    {
     "data": {
      "image/png": "[encoded data removed]",
      "text/plain": [
       "<IPython.core.display.Image object>"
      ]
     },
     "metadata": {},
     "output_type": "display_data"
    }
   ],
   "source": [
    "%%steinkauz --texfile text --texdir introtext --dpi 300\n",
    "r\"\"\"\n",
    "Projekt Steinkauz collects Jupyter notebooks ...\n",
    "\"\"\""
   ]
  },
  {
   "cell_type": "markdown",
   "id": "daee7881",
   "metadata": {},
   "source": [
    "The larger the DPI, the wider the text output, but also the more time consuming the processing. "
   ]
  },
  {
   "cell_type": "markdown",
   "id": "e1ece49f",
   "metadata": {},
   "source": [
    "## DPI versus Magnification\n",
    "\n",
    "The other argument magnification doesn't change the dpi, but simply scales the output. So, 300 dpi or 150 dpi magnified by 2 give the same sized PNG output. \n",
    "\n",
    "    %%steinkauz --dpi <DPI> --mag <magnification>\n",
    "    r\"\"\"\n",
    "    <latex>\n",
    "    \"\"\"\n"
   ]
  },
  {
   "cell_type": "code",
   "execution_count": 11,
   "id": "c853d71d",
   "metadata": {},
   "outputs": [
    {
     "data": {
      "image/png": "[encoded data removed]",
      "text/plain": [
       "<IPython.core.display.Image object>"
      ]
     },
     "metadata": {},
     "output_type": "display_data"
    }
   ],
   "source": [
    "%%steinkauz --texfile text --texdir introtext --dpi 150 --mag 2\n",
    "r\"\"\"\n",
    "Projekt Steinkauz collects Jupyter notebooks ...\n",
    "\"\"\""
   ]
  },
  {
   "cell_type": "markdown",
   "id": "c1069aed",
   "metadata": {},
   "source": [
    "Quality is obviously controlled by both the DPI and magnification value. Choose your poison!"
   ]
  },
  {
   "cell_type": "markdown",
   "id": "d3b76a20",
   "metadata": {},
   "source": [
    "## Interactive Use\n",
    "\n",
    "A Jupyter Notebook is used interactively, and the output is imported back into a LaTeX document in two ways:\n",
    "\n",
    "1. write a string out of the Jupyter Notebook into a file \\<entry\\>, whereby include \\<entry\\> in the LaTeX document, and let steinkauz replace the placeholder \\<entry\\> with the content of that file \\<entry\\>, where \\<entry\\> is any Python + LaTeX  + OS acceptable string, or\n",
    "\n",
    "2. export a figure as EPS out of the Jupyter Notebook into a \\<file\\> in \\<directory\\> and read that file back into the LaTeX document, where \\<file\\> and \\<directory\\> are as for a LaTeX file."
   ]
  },
  {
   "cell_type": "markdown",
   "id": "e3eb0b5a",
   "metadata": {},
   "source": [
    "Let's prepare an example for the first option:"
   ]
  },
  {
   "cell_type": "code",
   "execution_count": 12,
   "id": "65b709f0",
   "metadata": {},
   "outputs": [],
   "source": [
    "import numpy\n",
    "samples = numpy.random.randn(100)\n",
    "mean = numpy.mean(samples)          # the value to be exported into the LaTeX doc\n",
    "mean = (str(mean))[0:5]             # prepare string as it shall be written\n",
    "with open('MEAN', 'w') as file:     # open a file MEAN\n",
    "    file.write(mean)                # write value as string"
   ]
  },
  {
   "cell_type": "markdown",
   "id": "062aff86",
   "metadata": {},
   "source": [
    "Now, let's prepare an example for the second option:"
   ]
  },
  {
   "cell_type": "code",
   "execution_count": 13,
   "id": "c133a846",
   "metadata": {},
   "outputs": [
    {
     "data": {
      "application/vnd.jupyter.widget-view+json": {
       "model_id": "318c37b197e546549d322013d02825e1",
       "version_major": 2,
       "version_minor": 0
      },
      "image/png": "[encoded data removed]",
      "text/html": [
       "\n",
       "            <div style=\"display: inline-block;\">\n",
       "                <div class=\"jupyter-widgets widget-label\" style=\"text-align: center;\">\n",
       "                    Figure\n",
       "                </div>\n",
       "                <img src='data:image/png;base64,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' width=640.0/>\n",
       "            </div>\n",
       "        "
      ],
      "text/plain": [
       "Canvas(toolbar=Toolbar(toolitems=[('Home', 'Reset original view', 'home', 'home'), ('Back', 'Back to previous …"
      ]
     },
     "metadata": {},
     "output_type": "display_data"
    }
   ],
   "source": [
    "import os\n",
    "from matplotlib import pyplot as plt\n",
    "%matplotlib ipympl\n",
    "plt.close(1)    # avoid accumulating figures in memory\n",
    "plt.figure(1)   # open figure \n",
    "plt.hist(samples)\n",
    "if not os.path.isdir('example'):\n",
    "    os.mkdir('example')\n",
    "plt.savefig(os.path.join('example', 'example.eps'), dpi=1200)   # write file with print-quality dpi"
   ]
  },
  {
   "cell_type": "markdown",
   "id": "fb63f34f",
   "metadata": {},
   "source": [
    "Now, let's prepare the LaTeX document with an \\<entry\\> called MEAN."
   ]
  },
  {
   "cell_type": "code",
   "execution_count": 14,
   "id": "8642bb11",
   "metadata": {
    "scrolled": false
   },
   "outputs": [
    {
     "data": {
      "image/png": "[encoded data removed]",
      "text/plain": [
       "<IPython.core.display.Image object>"
      ]
     },
     "metadata": {},
     "output_type": "display_data"
    }
   ],
   "source": [
    "%%steinkauz --texfile figure --texdir example --dpi 300 --mag 0.5 MEAN figure=123\n",
    "r\"\"\"\n",
    "\\begin{figure}\n",
    "    \\begin{minipage}{8cm}\n",
    "        \\includegraphics[width=\\textwidth]{example.eps}\n",
    "        \\caption{The mean is MEAN.}\n",
    "    \\end{minipage}\n",
    "\\end{figure}\n",
    "\"\"\""
   ]
  },
  {
   "cell_type": "markdown",
   "id": "e01f8080",
   "metadata": {},
   "source": [
    "## Behind the Scene"
   ]
  },
  {
   "cell_type": "markdown",
   "id": "234e5425",
   "metadata": {},
   "source": [
    "The LaTeX fragment -- the cell or line input of the steinkauz magic -- is stored in a file with the postfix tpl. Then, a template -- .\\\\\\\\.steinkauz\\\\\\\\template.tex -- is wrapped around that LaTeX fragment. "
   ]
  },
  {
   "cell_type": "code",
   "execution_count": 15,
   "id": "522634aa",
   "metadata": {},
   "outputs": [
    {
     "data": {
      "application/vnd.jupyter.widget-view+json": {
       "model_id": "5fe80818c5464709a49303b2b16aed7e",
       "version_major": 2,
       "version_minor": 0
      },
      "text/plain": [
       "Textarea(value='\\\\documentclass[class=article,preview=true]{standalone}\\n\\n%% references\\n\\\\usepackage{xr}\\n\\\\…"
      ]
     },
     "metadata": {},
     "output_type": "display_data"
    }
   ],
   "source": [
    "import os\n",
    "from ipywidgets import widgets, Layout\n",
    "from IPython.display import display\n",
    "with open(os.path.join('.steinkauz', 'template.tex')) as file:\n",
    "    template = file.read()\n",
    "display(\n",
    "    widgets.Textarea(\n",
    "        layout=Layout(width='800px', height='200px'),\n",
    "        value=template))"
   ]
  },
  {
   "cell_type": "markdown",
   "id": "eec27725",
   "metadata": {},
   "source": [
    "The template contains one hard-wired placeholder called CELL. CELL will be replaced with the cell or line input from steinkauz's cell or line magic, respectively -- your LaTeX fragment --. This template file should not be modified unless you know what you are doing, and, of course, CELL must not be used otherwise.\n",
    "\n",
    "Your own preamble file, however, is meant to be modified as you see fit. Here, I import the graphics package to process the above figures only. "
   ]
  },
  {
   "cell_type": "code",
   "execution_count": 16,
   "id": "cc2277e6",
   "metadata": {},
   "outputs": [
    {
     "data": {
      "application/vnd.jupyter.widget-view+json": {
       "model_id": "c267982bc76744a395367587e2fe75a1",
       "version_major": 2,
       "version_minor": 0
      },
      "text/plain": [
       "Textarea(value='%% graphics (not required otherwise!)\\n\\\\usepackage{graphicx}\\n', layout=Layout(height='50px',…"
      ]
     },
     "metadata": {},
     "output_type": "display_data"
    }
   ],
   "source": [
    "import os\n",
    "from ipywidgets import widgets, Layout\n",
    "from IPython.display import display\n",
    "with open(os.path.join('.', 'mypackages.tex')) as file:\n",
    "    template = file.read()\n",
    "display(\n",
    "    widgets.Textarea(\n",
    "        layout=Layout(width='800px', height='50px'),\n",
    "        value=template))"
   ]
  },
  {
   "cell_type": "markdown",
   "id": "08d8dcc8",
   "metadata": {},
   "source": [
    "## Main LaTeX\n",
    "\n",
    "The template above calls the documentclass \\\"standalone\\\". That documentclass treats each LaTeX file as part of a larger, all-encompassing LaTeX document. That document is, here, called \\\"main.tex\\\" and stored in the same directory as your notebook.\n",
    "\n",
    "It is the main file that generates all numbers."
   ]
  },
  {
   "cell_type": "code",
   "execution_count": 17,
   "id": "8f4e5fc4",
   "metadata": {},
   "outputs": [
    {
     "data": {
      "application/vnd.jupyter.widget-view+json": {
       "model_id": "60668ef4222c4eaf9f759b7a92b1024d",
       "version_major": 2,
       "version_minor": 0
      },
      "text/plain": [
       "Textarea(value='\\\\documentclass[titlepage]{article}\\n\\n% recognize standalone documentclass of all subfiles\\n\\…"
      ]
     },
     "metadata": {},
     "output_type": "display_data"
    }
   ],
   "source": [
    "import os\n",
    "from ipywidgets import widgets, Layout\n",
    "from IPython.display import display\n",
    "with open(os.path.join('.', 'tutorial.tex')) as file:\n",
    "    template = file.read()\n",
    "display(\n",
    "    widgets.Textarea(\n",
    "        layout=Layout(width='800px', height='300px'),\n",
    "        value=template))"
   ]
  },
  {
   "cell_type": "markdown",
   "id": "c722a6e0",
   "metadata": {},
   "source": [
    "Finally, put everything together as one document in a main file called, here, \\\"tutorial.tex\\\" and generate the final high-quality printout. As of now, the main file must be written separately."
   ]
  },
  {
   "cell_type": "code",
   "execution_count": 18,
   "id": "19986eb6",
   "metadata": {
    "scrolled": false
   },
   "outputs": [],
   "source": [
    "# prepare final pdf file\n",
    "%steinkauz --option printout --texfile tutorial --texdir ."
   ]
  },
  {
   "cell_type": "code",
   "execution_count": 19,
   "id": "1fdf44a9",
   "metadata": {},
   "outputs": [
    {
     "data": {
      "application/vnd.jupyter.widget-view+json": {
       "model_id": "9ef2232688194ee295f110a6291f7245",
       "version_major": 2,
       "version_minor": 0
      },
      "text/plain": [
       "Button(button_style='info', description='print', style=ButtonStyle(), tooltip='create a PDF file')"
      ]
     },
     "metadata": {},
     "output_type": "display_data"
    }
   ],
   "source": [
    "# define an update button\n",
    "def printbutton_action(*args):\n",
    "    # prepare final pdf file\n",
    "    %steinkauz --option printout --texdir . --texfile no_dc_removal\n",
    "\n",
    "# interact with update button\n",
    "import ipywidgets as ipw\n",
    "printbutton =  ipw.Button(description = 'print', button_style = 'info', tooltip = 'create a PDF file')\n",
    "display(printbutton)\n",
    "printbutton.on_click(printbutton_action)"
   ]
  },
  {
   "cell_type": "markdown",
   "id": "c6adad7f",
   "metadata": {},
   "source": [
    "## Cleanup\n",
    "\n",
    "You can remove INCOUNTER and OUTCOUNTER, but, then, you have to re-create the numbers later. \n",
    "\n",
    "To clean up behind, use the option clean, but check the <>DELETE globals in steinkauz.py first. You have been warned."
   ]
  },
  {
   "cell_type": "code",
   "execution_count": 20,
   "id": "b10b72af",
   "metadata": {
    "scrolled": false
   },
   "outputs": [],
   "source": [
    "%steinkauz --option clean"
   ]
  },
  {
   "cell_type": "code",
   "execution_count": 21,
   "id": "7ddc6884",
   "metadata": {},
   "outputs": [
    {
     "data": {
      "application/vnd.jupyter.widget-view+json": {
       "model_id": "62af78da452c42f19a2540dcbc646533",
       "version_major": 2,
       "version_minor": 0
      },
      "text/plain": [
       "Button(button_style='info', description='clean', style=ButtonStyle(), tooltip='clean directory')"
      ]
     },
     "metadata": {},
     "output_type": "display_data"
    }
   ],
   "source": [
    "# define an update button\n",
    "def cleanbutton_action(*args):\n",
    "    %steinkauz --option clean\n",
    "\n",
    "# interact with update button\n",
    "import ipywidgets as ipw\n",
    "cleanbutton =  ipw.Button(description = 'clean', button_style = 'info', tooltip = 'clean directory')\n",
    "display(cleanbutton)\n",
    "cleanbutton.on_click(cleanbutton_action)"
   ]
  }
 ],
 "metadata": {
  "kernelspec": {
   "display_name": "Python 3 (ipykernel)",
   "language": "python",
   "name": "python3"
  },
  "language_info": {
   "codemirror_mode": {
    "name": "ipython",
    "version": 3
   },
   "file_extension": ".py",
   "mimetype": "text/x-python",
   "name": "python",
   "nbconvert_exporter": "python",
   "pygments_lexer": "ipython3",
   "version": "3.11.3"
  },
  "latex_envs": {
   "LaTeX_envs_menu_present": true,
   "autoclose": false,
   "autocomplete": true,
   "bibliofile": "biblio.bib",
   "cite_by": "apalike",
   "current_citInitial": 1,
   "eqLabelWithNumbers": true,
   "eqNumInitial": 1,
   "hotkeys": {
    "equation": "Ctrl-E",
    "itemize": "Ctrl-I"
   },
   "labels_anchors": false,
   "latex_user_defs": false,
   "report_style_numbering": false,
   "user_envs_cfg": false
  }
 },
 "nbformat": 4,
 "nbformat_minor": 5
}
