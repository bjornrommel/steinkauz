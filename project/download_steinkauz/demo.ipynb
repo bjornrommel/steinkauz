{
 "cells": [
  {
   "cell_type": "markdown",
   "id": "01dc8bdb",
   "metadata": {},
   "source": [
    "# Demo\n",
    "\n",
    "Replace the placeholders -- that is, <something> -- according to your setup."
   ]
  },
  {
   "cell_type": "code",
   "execution_count": null,
   "id": "62e9f8b0",
   "metadata": {},
   "outputs": [],
   "source": [
    "# load steinkauz magics\n",
    "%load_ext steinkauz"
   ]
  },
  {
   "cell_type": "code",
   "execution_count": null,
   "id": "c1412bd6",
   "metadata": {},
   "outputs": [],
   "source": [
    "# set up steinkauz\n",
    "%steinkauz --option setup --mainfile <MAIN FILE> --prefile <PACKAGE> --predir <DIRECTORY>"
   ]
  },
  {
   "cell_type": "code",
   "execution_count": null,
   "id": "c4613ec2",
   "metadata": {},
   "outputs": [],
   "source": [
    "# import Python modules"
   ]
  },
  {
   "cell_type": "code",
   "execution_count": null,
   "id": "cadb30af",
   "metadata": {},
   "outputs": [],
   "source": [
    "# define matplotlib in one of the following alternatives: notebook or inline (preferrably with retina)\n",
    "### 1. %matplotlib notebook\n",
    "### 2. %matplotlib inline\n",
    "###    from IPython.display import set_matplotlib_formats\n",
    "###    set_matplotlib_formats('retina')\n",
    "%matplotlib ipympl"
   ]
  },
  {
   "cell_type": "code",
   "execution_count": null,
   "id": "cfe55986",
   "metadata": {},
   "outputs": [],
   "source": [
    "# define matplotlib\n",
    "import matplotlib as mpl\n",
    "mpl.rcParams['text.usetex'] = True           # use latex\n",
    "### mpl.rcParams['ps.usedistiller'] = None   # 'ghostscript' or 'xpdf', but any difference?"
   ]
  },
  {
   "cell_type": "code",
   "execution_count": null,
   "id": "19e5a51a",
   "metadata": {},
   "outputs": [],
   "source": [
    "# run Notebook calculations\n",
    "ENTRYMATH = <MATH>"
   ]
  },
  {
   "cell_type": "code",
   "execution_count": null,
   "id": "0252692e",
   "metadata": {},
   "outputs": [],
   "source": [
    "# write LaTeX \n",
    "ENTRYTEXT = <TEXT>"
   ]
  },
  {
   "cell_type": "code",
   "execution_count": null,
   "id": "0a272268",
   "metadata": {},
   "outputs": [],
   "source": [
    "# prepare graphics\n",
    "from matplotlib import pyplot as plt\n",
    "plt.figure(1)   # open figure \n",
    "plt.savefig('figure.eps', dpi=1200) "
   ]
  },
  {
   "cell_type": "code",
   "execution_count": null,
   "id": "5190eab4",
   "metadata": {},
   "outputs": [],
   "source": [
    "# write LaTeX text\n",
    "%steinkauz --dpi <DPI> --mag <MAG> --texfile <TEX FILE> --texdir <DIRECTORY> ENTRYMATH ENTRYTEXT\n",
    "r\"\"\"\n",
    "% LaTeX fragment, which could also have been stored on disk\n",
    "\\begin{figure}\n",
    "    \\includegraphics{figure.eps}\n",
    "\\end{figure}\n",
    "The calculations yield ENTRYMATH.\n",
    "The result concludes ENTRYTEXT.\n",
    "\"\"\""
   ]
  },
  {
   "cell_type": "code",
   "execution_count": null,
   "id": "d71ff530",
   "metadata": {},
   "outputs": [],
   "source": [
    "# prepare pdf \n",
    "%steinkauz --option printout --texfile <TEX FILE> --texdir <DIRECTORY>"
   ]
  },
  {
   "cell_type": "code",
   "execution_count": null,
   "id": "8007c15d",
   "metadata": {},
   "outputs": [],
   "source": [
    "# clean up, BUT CHECK THE GLOBALS <>DELETE IN STEINKAUZ.PY FIRST\n",
    "%steinkauz --option clean"
   ]
  },
  {
   "cell_type": "code",
   "execution_count": null,
   "id": "01a235a5",
   "metadata": {},
   "outputs": [],
   "source": [
    "# input toggle\n",
    "%inputtoggle"
   ]
  }
 ],
 "metadata": {
  "kernelspec": {
   "display_name": "Python 3 (ipykernel)",
   "language": "python",
   "name": "python3"
  },
  "language_info": {
   "codemirror_mode": {
    "name": "ipython",
    "version": 3
   },
   "file_extension": ".py",
   "mimetype": "text/x-python",
   "name": "python",
   "nbconvert_exporter": "python",
   "pygments_lexer": "ipython3",
   "version": "3.8.8"
  }
 },
 "nbformat": 4,
 "nbformat_minor": 5
}
